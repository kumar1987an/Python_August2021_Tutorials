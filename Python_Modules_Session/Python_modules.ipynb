{
 "cells": [
  {
   "cell_type": "markdown",
   "source": [
    "# Documentation on Python Advanced Tutorials"
   ],
   "metadata": {
    "slideshow": {
     "slide_type": "slide"
    }
   }
  },
  {
   "cell_type": "markdown",
   "source": [
    "# Modules and Libraries"
   ],
   "metadata": {
    "slideshow": {
     "slide_type": "slide"
    }
   }
  },
  {
   "cell_type": "markdown",
   "source": [
    "### Math Module"
   ],
   "metadata": {
    "slideshow": {
     "slide_type": "subslide"
    }
   }
  },
  {
   "cell_type": "code",
   "execution_count": 11,
   "source": [
    "# Code\r\n",
    "\r\n",
    "import math\r\n",
    "\r\n",
    "print(\"These are the methods available in math module\")\r\n",
    "print(\"----------------------------------------------\")\r\n",
    "\r\n",
    "for methods in dir(math):\r\n",
    "    if \"_\" not in methods:\r\n",
    "        print(methods, end=\", \")\r\n",
    "print()\r\n",
    "print(\"----------------------------------------------\")\r\n",
    "print(f\"\"\"\r\n",
    "pi constant  = [ {math.pi = }  ]\r\n",
    "\r\n",
    "tau constant = [ {math.tau = } ]\r\n",
    "\r\n",
    "ceil method  = [ {math.ceil(78.78) = } ]\r\n",
    "\r\n",
    "acosine method = [ {math.acos(0.1) = } ]\r\n",
    "\r\n",
    "cosine method  = [ {math.cos(45) = } ] \r\n",
    "\r\n",
    "tangent method = [ {math.tan(56.65453637464) = } ]\r\n",
    "\r\n",
    "sine method = [ {math.sin(56.65453637464) = } ]\r\n",
    "\r\n",
    "hypotenuse tangent method = [ {math.tanh(56.65453637464) = } ]\r\n",
    "\r\n",
    "Eular's number or constant = [ {math.e = } ]\r\n",
    "\r\n",
    "inf method is infinite method = [ {math.inf == float('inf')} ]\r\n",
    "\r\n",
    "inf method is equal to largest number 10 * 10 ^ 308 = [ {math.inf == 10e308} ]\r\n",
    "\r\n",
    "method returns E raised to the power of x (E^x) = [ {math.exp(2) = } ]\r\n",
    "\r\n",
    "absolute value of the number = [ {math.fabs(22) = } ]\r\n",
    "\r\n",
    "logarithm of = [ {math.log(20) = } ]\r\n",
    "\r\n",
    "floor of = [ {math.floor(289.678) = } ]\r\n",
    "\r\n",
    "Euclidean Distance of two points or iterables = [ {math.dist([2, 20], [78, 100]) = } ]\r\n",
    "\r\n",
    "fmod of = [ {math.fmod(78, 22) = } ]\r\n",
    "\r\n",
    "factiorial of = [ {math.factorial(22) = } ]\r\n",
    "\r\n",
    "\"\"\")"
   ],
   "outputs": [
    {
     "output_type": "stream",
     "name": "stdout",
     "text": [
      "These are the methods available in math module\n",
      "----------------------------------------------\n",
      "acos, acosh, asin, asinh, atan, atan2, atanh, ceil, comb, copysign, cos, cosh, degrees, dist, e, erf, erfc, exp, expm1, fabs, factorial, floor, fmod, frexp, fsum, gamma, gcd, hypot, inf, isclose, isfinite, isinf, isnan, isqrt, lcm, ldexp, lgamma, log, log10, log1p, log2, modf, nan, nextafter, perm, pi, pow, prod, radians, remainder, sin, sinh, sqrt, tan, tanh, tau, trunc, ulp, \n",
      "----------------------------------------------\n",
      "\n",
      "pi constant  = [ math.pi = 3.141592653589793  ]\n",
      "\n",
      "tau constant = [ math.tau = 6.283185307179586 ]\n",
      "\n",
      "ceil method  = [ math.ceil(78.78) = 79 ]\n",
      "\n",
      "acosine method = [ math.acos(0.1) = 1.4706289056333368 ]\n",
      "\n",
      "cosine method  = [ math.cos(45) = 0.5253219888177297 ] \n",
      "\n",
      "tangent method = [ math.tan(56.65453637464) = 0.10626592223952303 ]\n",
      "\n",
      "sine method = [ math.sin(56.65453637464) = 0.10567095539115091 ]\n",
      "\n",
      "hypotenuse tangent method = [ math.tanh(56.65453637464) = 1.0 ]\n",
      "\n",
      "Eular's number or constant = [ math.e = 2.718281828459045 ]\n",
      "\n",
      "inf method is infinite method = [ True ]\n",
      "\n",
      "inf method is equal to largest number 10 * 10 ^ 308 = [ True ]\n",
      "\n",
      "method returns E raised to the power of x (E^x) = [ math.exp(2) = 7.38905609893065 ]\n",
      "\n",
      "absolute value of the number = [ math.fabs(22) = 22.0 ]\n",
      "\n",
      "logarithm of = [ math.log(20) = 2.995732273553991 ]\n",
      "\n",
      "floor of = [ math.floor(289.678) = 289 ]\n",
      "\n",
      "Euclidean Distance of two points or iterables = [ math.dist([2, 20], [78, 100]) = 110.34491379306976 ]\n",
      "\n",
      "fmod of = [ math.fmod(78, 22) = 12.0 ]\n",
      "\n",
      "factiorial of = [ math.factorial(22) = 1124000727777607680000 ]\n",
      "\n",
      "\n"
     ]
    }
   ],
   "metadata": {
    "ExecuteTime": {
     "end_time": "2021-09-07T08:50:09.186806Z",
     "start_time": "2021-09-07T08:50:09.162805Z"
    },
    "slideshow": {
     "slide_type": "subslide"
    }
   }
  },
  {
   "cell_type": "markdown",
   "source": [
    "### Operator Module"
   ],
   "metadata": {
    "slideshow": {
     "slide_type": "subslide"
    }
   }
  },
  {
   "cell_type": "code",
   "execution_count": 19,
   "source": [
    "# Code\r\n"
   ],
   "outputs": [],
   "metadata": {
    "ExecuteTime": {
     "end_time": "2021-09-07T09:03:14.218597Z",
     "start_time": "2021-09-07T09:03:14.201598Z"
    },
    "slideshow": {
     "slide_type": "subslide"
    }
   }
  },
  {
   "cell_type": "markdown",
   "source": [
    "### Collections Module"
   ],
   "metadata": {
    "slideshow": {
     "slide_type": "subslide"
    }
   }
  },
  {
   "cell_type": "code",
   "execution_count": 21,
   "source": [
    "# Code"
   ],
   "outputs": [],
   "metadata": {
    "ExecuteTime": {
     "end_time": "2021-08-27T18:15:28.639555Z",
     "start_time": "2021-08-27T18:15:28.636550Z"
    },
    "slideshow": {
     "slide_type": "subslide"
    }
   }
  },
  {
   "cell_type": "markdown",
   "source": [
    "### Itertools Module"
   ],
   "metadata": {
    "slideshow": {
     "slide_type": "subslide"
    }
   }
  },
  {
   "cell_type": "code",
   "execution_count": 5,
   "source": [
    "# Code"
   ],
   "outputs": [],
   "metadata": {
    "slideshow": {
     "slide_type": "subslide"
    }
   }
  },
  {
   "cell_type": "markdown",
   "source": [
    "### Json module"
   ],
   "metadata": {
    "slideshow": {
     "slide_type": "subslide"
    }
   }
  },
  {
   "cell_type": "code",
   "execution_count": 22,
   "source": [
    "# Code"
   ],
   "outputs": [],
   "metadata": {
    "ExecuteTime": {
     "end_time": "2021-08-27T18:15:35.878975Z",
     "start_time": "2021-08-27T18:15:35.872980Z"
    },
    "slideshow": {
     "slide_type": "subslide"
    }
   }
  },
  {
   "cell_type": "markdown",
   "source": [
    "### Random Module"
   ],
   "metadata": {
    "slideshow": {
     "slide_type": "subslide"
    }
   }
  },
  {
   "cell_type": "code",
   "execution_count": 23,
   "source": [
    "# Code"
   ],
   "outputs": [],
   "metadata": {
    "ExecuteTime": {
     "end_time": "2021-08-27T18:15:40.607249Z",
     "start_time": "2021-08-27T18:15:40.602255Z"
    },
    "slideshow": {
     "slide_type": "subslide"
    }
   }
  },
  {
   "cell_type": "markdown",
   "source": [
    "### csv Module"
   ],
   "metadata": {
    "slideshow": {
     "slide_type": "subslide"
    }
   }
  },
  {
   "cell_type": "code",
   "execution_count": 24,
   "source": [
    "# Code"
   ],
   "outputs": [],
   "metadata": {
    "ExecuteTime": {
     "end_time": "2021-08-27T18:15:47.658599Z",
     "start_time": "2021-08-27T18:15:47.650695Z"
    },
    "slideshow": {
     "slide_type": "subslide"
    }
   }
  },
  {
   "cell_type": "markdown",
   "source": [
    "### os module"
   ],
   "metadata": {
    "slideshow": {
     "slide_type": "subslide"
    }
   }
  },
  {
   "cell_type": "code",
   "execution_count": 25,
   "source": [
    "# Code"
   ],
   "outputs": [],
   "metadata": {
    "ExecuteTime": {
     "end_time": "2021-08-27T18:15:52.028622Z",
     "start_time": "2021-08-27T18:15:52.021246Z"
    },
    "slideshow": {
     "slide_type": "subslide"
    }
   }
  },
  {
   "cell_type": "markdown",
   "source": [
    "# Errors & Exceptions"
   ],
   "metadata": {
    "slideshow": {
     "slide_type": "slide"
    }
   }
  },
  {
   "cell_type": "code",
   "execution_count": null,
   "source": [
    "# Code"
   ],
   "outputs": [],
   "metadata": {
    "slideshow": {
     "slide_type": "subslide"
    }
   }
  }
 ],
 "metadata": {
  "celltoolbar": "Slideshow",
  "hide_input": false,
  "kernelspec": {
   "name": "python3",
   "display_name": "Python 3.9.7 64-bit ('venv': venv)"
  },
  "language_info": {
   "codemirror_mode": {
    "name": "ipython",
    "version": 3
   },
   "file_extension": ".py",
   "mimetype": "text/x-python",
   "name": "python",
   "nbconvert_exporter": "python",
   "pygments_lexer": "ipython3",
   "version": "3.9.7"
  },
  "varInspector": {
   "cols": {
    "lenName": 16,
    "lenType": 16,
    "lenVar": 40
   },
   "kernels_config": {
    "python": {
     "delete_cmd_postfix": "",
     "delete_cmd_prefix": "del ",
     "library": "var_list.py",
     "varRefreshCmd": "print(var_dic_list())"
    },
    "r": {
     "delete_cmd_postfix": ") ",
     "delete_cmd_prefix": "rm(",
     "library": "var_list.r",
     "varRefreshCmd": "cat(var_dic_list()) "
    }
   },
   "types_to_exclude": [
    "module",
    "function",
    "builtin_function_or_method",
    "instance",
    "_Feature"
   ],
   "window_display": false
  },
  "interpreter": {
   "hash": "9c633e911d8b7da291dc4ffff7df5f0526cd43d51dbb4e5a5ea03cbb90d79ad5"
  }
 },
 "nbformat": 4,
 "nbformat_minor": 5
}