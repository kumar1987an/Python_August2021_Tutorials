{
 "cells": [
  {
   "cell_type": "markdown",
   "id": "3c297eb6",
   "metadata": {
    "slideshow": {
     "slide_type": "slide"
    }
   },
   "source": [
    "# Documentation on Python Advanced Tutorials"
   ]
  },
  {
   "cell_type": "markdown",
   "id": "d4d262a1",
   "metadata": {
    "slideshow": {
     "slide_type": "slide"
    }
   },
   "source": [
    "# Modules and Libraries"
   ]
  },
  {
   "cell_type": "markdown",
   "id": "3c9ba2e8",
   "metadata": {
    "slideshow": {
     "slide_type": "subslide"
    }
   },
   "source": [
    "### Math Module"
   ]
  },
  {
   "cell_type": "code",
   "execution_count": 3,
   "id": "5e098a42",
   "metadata": {
    "ExecuteTime": {
     "end_time": "2021-09-07T07:25:52.673947Z",
     "start_time": "2021-09-07T07:25:52.649951Z"
    },
    "slideshow": {
     "slide_type": "subslide"
    }
   },
   "outputs": [
    {
     "name": "stdout",
     "output_type": "stream",
     "text": [
      "These are the methods available in math module\n",
      "----------------------------------------------\n",
      "acos, acosh, asin, asinh, atan, atan2, atanh, ceil, comb, copysign, cos, cosh, degrees, dist, e, erf, erfc, exp, expm1, fabs, factorial, floor, fmod, frexp, fsum, gamma, gcd, hypot, inf, isclose, isfinite, isinf, isnan, isqrt, ldexp, lgamma, log, log10, log1p, log2, modf, nan, perm, pi, pow, prod, radians, remainder, sin, sinh, sqrt, tan, tanh, tau, trunc, \n",
      "----------------------------------------------\n",
      "math.pi = 3.141592653589793\n",
      "tau constant = [ math.tau = 6.283185307179586 ]\n",
      "ceil method  = [ math.ceil(78.78) = 79 ]\n",
      "math.acos(0.1) = 1.4706289056333368\n",
      "math.cos(45) = 0.5253219888177297\n",
      "math.tan(56.65453637464) = 0.10626592223952303\n",
      "math.sin(56.65453637464) = 0.10567095539115091\n",
      "math.tanh(56.65453637464) = 1.0\n",
      "math.e = 2.718281828459045\n",
      "True\n",
      "True\n",
      "math.exp(2) = 7.38905609893065\n",
      "math.fabs(22) = 22.0\n",
      "math.log(20) = 2.995732273553991\n"
     ]
    }
   ],
   "source": [
    "# Code\n",
    "\n",
    "import math\n",
    "\n",
    "print(\"These are the methods available in math module\")\n",
    "print(\"----------------------------------------------\")\n",
    "for methods in dir(math):\n",
    "    if \"_\" not in methods:\n",
    "        print(methods, end=\", \")\n",
    "print()\n",
    "print(\"----------------------------------------------\")\n",
    "print(f\"{math.pi = }\") # pi constant = 3.14\n",
    "print(f\"tau constant = [ {math.tau = } ]\") \n",
    "print(f\"ceil method  = [ {math.ceil(78.78) = } ]\") # \n",
    "print(f\"{math.acos(0.1) = }\") # acosine method\n",
    "print(f\"{math.cos(45) = }\") # cosine method\n",
    "print(f\"{math.tan(56.65453637464) = }\") # tangent method\n",
    "print(f\"{math.sin(56.65453637464) = }\") # sine method\n",
    "print(f\"{math.tanh(56.65453637464) = }\") # hypotenuse tangent method\n",
    "print(f\"{math.e = }\")\n",
    "print(f\"{math.inf == float('inf')}\") # inf method is infinite method\n",
    "print(f\"{math.inf == 10e308}\") # inf method is equal to largest number 10 * 10 ^ 308\n",
    "print(f\"{math.exp(2) = }\")\n",
    "print(f\"{math.fabs(22) = }\")\n",
    "# print(f\"{}\")\n",
    "print(f\"{math.log(20) = }\")"
   ]
  },
  {
   "cell_type": "markdown",
   "id": "8eeb975f",
   "metadata": {
    "slideshow": {
     "slide_type": "subslide"
    }
   },
   "source": [
    "### Operator Module"
   ]
  },
  {
   "cell_type": "code",
   "execution_count": 20,
   "id": "6889ccd6",
   "metadata": {
    "ExecuteTime": {
     "end_time": "2021-08-27T18:15:23.707554Z",
     "start_time": "2021-08-27T18:15:23.703554Z"
    },
    "slideshow": {
     "slide_type": "subslide"
    }
   },
   "outputs": [],
   "source": [
    "# Code"
   ]
  },
  {
   "cell_type": "markdown",
   "id": "6f1cc128",
   "metadata": {
    "slideshow": {
     "slide_type": "subslide"
    }
   },
   "source": [
    "### Collections Module"
   ]
  },
  {
   "cell_type": "code",
   "execution_count": 21,
   "id": "d9a3dad8",
   "metadata": {
    "ExecuteTime": {
     "end_time": "2021-08-27T18:15:28.639555Z",
     "start_time": "2021-08-27T18:15:28.636550Z"
    },
    "slideshow": {
     "slide_type": "subslide"
    }
   },
   "outputs": [],
   "source": [
    "# Code"
   ]
  },
  {
   "cell_type": "markdown",
   "id": "b229d174",
   "metadata": {
    "slideshow": {
     "slide_type": "subslide"
    }
   },
   "source": [
    "### Itertools Module"
   ]
  },
  {
   "cell_type": "code",
   "execution_count": 5,
   "id": "636ccf8a",
   "metadata": {
    "slideshow": {
     "slide_type": "subslide"
    }
   },
   "outputs": [],
   "source": [
    "# Code"
   ]
  },
  {
   "cell_type": "markdown",
   "id": "e112257a",
   "metadata": {
    "slideshow": {
     "slide_type": "subslide"
    }
   },
   "source": [
    "### Json module"
   ]
  },
  {
   "cell_type": "code",
   "execution_count": 22,
   "id": "eff69ca5",
   "metadata": {
    "ExecuteTime": {
     "end_time": "2021-08-27T18:15:35.878975Z",
     "start_time": "2021-08-27T18:15:35.872980Z"
    },
    "slideshow": {
     "slide_type": "subslide"
    }
   },
   "outputs": [],
   "source": [
    "# Code"
   ]
  },
  {
   "cell_type": "markdown",
   "id": "dc5d2b53",
   "metadata": {
    "slideshow": {
     "slide_type": "subslide"
    }
   },
   "source": [
    "### Random Module"
   ]
  },
  {
   "cell_type": "code",
   "execution_count": 23,
   "id": "6917afd4",
   "metadata": {
    "ExecuteTime": {
     "end_time": "2021-08-27T18:15:40.607249Z",
     "start_time": "2021-08-27T18:15:40.602255Z"
    },
    "slideshow": {
     "slide_type": "subslide"
    }
   },
   "outputs": [],
   "source": [
    "# Code"
   ]
  },
  {
   "cell_type": "markdown",
   "id": "2d73a708",
   "metadata": {
    "slideshow": {
     "slide_type": "subslide"
    }
   },
   "source": [
    "### csv Module"
   ]
  },
  {
   "cell_type": "code",
   "execution_count": 24,
   "id": "0f8372b8",
   "metadata": {
    "ExecuteTime": {
     "end_time": "2021-08-27T18:15:47.658599Z",
     "start_time": "2021-08-27T18:15:47.650695Z"
    },
    "slideshow": {
     "slide_type": "subslide"
    }
   },
   "outputs": [],
   "source": [
    "# Code"
   ]
  },
  {
   "cell_type": "markdown",
   "id": "1cb320a9",
   "metadata": {
    "slideshow": {
     "slide_type": "subslide"
    }
   },
   "source": [
    "### os module"
   ]
  },
  {
   "cell_type": "code",
   "execution_count": 25,
   "id": "518aaf1d",
   "metadata": {
    "ExecuteTime": {
     "end_time": "2021-08-27T18:15:52.028622Z",
     "start_time": "2021-08-27T18:15:52.021246Z"
    },
    "slideshow": {
     "slide_type": "subslide"
    }
   },
   "outputs": [],
   "source": [
    "# Code"
   ]
  },
  {
   "cell_type": "markdown",
   "id": "6b75954b",
   "metadata": {
    "slideshow": {
     "slide_type": "slide"
    }
   },
   "source": [
    "# Errors & Exceptions"
   ]
  },
  {
   "cell_type": "code",
   "execution_count": null,
   "id": "e4d80df4",
   "metadata": {
    "slideshow": {
     "slide_type": "subslide"
    }
   },
   "outputs": [],
   "source": [
    "# Code"
   ]
  }
 ],
 "metadata": {
  "celltoolbar": "Slideshow",
  "hide_input": false,
  "kernelspec": {
   "display_name": "Python 3 (ipykernel)",
   "language": "python",
   "name": "python3"
  },
  "language_info": {
   "codemirror_mode": {
    "name": "ipython",
    "version": 3
   },
   "file_extension": ".py",
   "mimetype": "text/x-python",
   "name": "python",
   "nbconvert_exporter": "python",
   "pygments_lexer": "ipython3",
   "version": "3.8.10"
  },
  "varInspector": {
   "cols": {
    "lenName": 16,
    "lenType": 16,
    "lenVar": 40
   },
   "kernels_config": {
    "python": {
     "delete_cmd_postfix": "",
     "delete_cmd_prefix": "del ",
     "library": "var_list.py",
     "varRefreshCmd": "print(var_dic_list())"
    },
    "r": {
     "delete_cmd_postfix": ") ",
     "delete_cmd_prefix": "rm(",
     "library": "var_list.r",
     "varRefreshCmd": "cat(var_dic_list()) "
    }
   },
   "types_to_exclude": [
    "module",
    "function",
    "builtin_function_or_method",
    "instance",
    "_Feature"
   ],
   "window_display": false
  }
 },
 "nbformat": 4,
 "nbformat_minor": 5
}
