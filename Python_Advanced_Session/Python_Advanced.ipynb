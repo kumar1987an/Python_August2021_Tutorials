{
 "cells": [
  {
   "cell_type": "markdown",
   "id": "2064fede",
   "metadata": {
    "slideshow": {
     "slide_type": "slide"
    }
   },
   "source": [
    "# Documentation on Python Advanced Tutorials"
   ]
  },
  {
   "cell_type": "markdown",
   "id": "deadly-effect",
   "metadata": {
    "slideshow": {
     "slide_type": "slide"
    }
   },
   "source": [
    "<img src = \"img/functions.png\" alt = \"About Functions\" height = \"2000\" width = \"2140\">"
   ]
  },
  {
   "cell_type": "markdown",
   "id": "constant-hanging",
   "metadata": {
    "slideshow": {
     "slide_type": "subslide"
    }
   },
   "source": [
    "- **A self-contained block of code that encapsulates a specific task or related group of tasks**\n",
    "- **Code re-usage**"
   ]
  },
  {
   "cell_type": "markdown",
   "id": "d64844d4",
   "metadata": {
    "slideshow": {
     "slide_type": "subslide"
    }
   },
   "source": [
    "```python\n",
    "def function_name(arguments):\n",
    "    \"\"\" doc-string - a short description about the function \"\"\"\n",
    "    # Code block\n",
    "    <statement>\n",
    "    print(output1)\n",
    "    print(output2)\n",
    "```\n",
    "<br>\n",
    "\n",
    "```python\n",
    "def function_name(arguments):\n",
    "    \"\"\" doc-string - a short description about the function \"\"\"\n",
    "    # Code block\n",
    "    <statement>\n",
    "    return output1, output2\n",
    "```\n"
   ]
  },
  {
   "cell_type": "markdown",
   "id": "distributed-behalf",
   "metadata": {
    "slideshow": {
     "slide_type": "subslide"
    }
   },
   "source": [
    "### Functions with default arguments"
   ]
  },
  {
   "cell_type": "code",
   "execution_count": 26,
   "id": "801d0b15",
   "metadata": {
    "ExecuteTime": {
     "end_time": "2021-08-27T18:10:35.024146Z",
     "start_time": "2021-08-27T18:10:35.016587Z"
    },
    "slideshow": {
     "slide_type": "subslide"
    }
   },
   "outputs": [
    {
     "name": "stdout",
     "output_type": "stream",
     "text": [
      "x = 10\n",
      "{'x': 10}\n",
      "2 4 6 8 \n",
      "\n",
      "x = 200\n",
      "{'x': 200}\n",
      "2 4 6 8 10 12 14 16 18 20 22 24 26 28 30 32 34 36 38 40 42 44 46 48 50 52 54 56 58 60 62 64 66 68 70 72 74 76 78 80 82 84 86 88 90 92 94 96 98 100 102 104 106 108 110 112 114 116 118 120 122 124 126 128 130 132 134 136 138 140 142 144 146 148 150 152 154 156 158 160 162 164 166 168 170 172 174 176 178 180 182 184 186 188 190 192 194 196 198 "
     ]
    }
   ],
   "source": [
    "# Code \n",
    "\n",
    "def even_numbers(x=10): # Function definition\n",
    "    print(f\"{x = }\")\n",
    "    print(locals())\n",
    "#     print(globals())\n",
    "    for number in range(1, x):\n",
    "        if number % 2 == 0:\n",
    "            print(number, end=\" \")\n",
    "            \n",
    "\n",
    "even_numbers() # Function call\n",
    "print()\n",
    "print()\n",
    "even_numbers(200) # Function call"
   ]
  },
  {
   "cell_type": "markdown",
   "id": "circular-kernel",
   "metadata": {
    "slideshow": {
     "slide_type": "subslide"
    }
   },
   "source": [
    "### Positional Arguments Function"
   ]
  },
  {
   "cell_type": "code",
   "execution_count": 63,
   "id": "hawaiian-aside",
   "metadata": {
    "ExecuteTime": {
     "end_time": "2021-08-27T18:10:41.927399Z",
     "start_time": "2021-08-27T18:10:41.922399Z"
    },
    "slideshow": {
     "slide_type": "subslide"
    }
   },
   "outputs": [
    {
     "name": "stdout",
     "output_type": "stream",
     "text": [
      "normal_arguments_function(10, 20, 'thirty', 40, 50, 60) = (100, 0.1, 'THIRTY', 40, 50, 60)\n",
      "\n",
      "positional_arguments_function(10, 20, 'thirty', 40, 50, 60, 100) = (100, 0.1, 'THIRTY', 40, 50, 60, 100)\n"
     ]
    }
   ],
   "source": [
    "# Code\n",
    "\n",
    "def normal_arguments_function(x, y, z, a, b, c):\n",
    "    return x**2, y/200, z.upper(), a, b, c\n",
    "\n",
    "print(f\"{normal_arguments_function(10, 20, 'thirty', 40, 50, 60) = }\")\n",
    "\n",
    "print()\n",
    "\n",
    "def positional_arguments_function(*args): # *args = Positional arguments\n",
    "    x = args[0]\n",
    "    y = args[1]\n",
    "    z = args[2]\n",
    "    a = args[3]\n",
    "    b = args[4] \n",
    "    c = args[5]\n",
    "    d = args[6]\n",
    "    return x**2, y/200 , z.upper(), a, b, c, d\n",
    "    \n",
    "print(f\"{positional_arguments_function(10, 20, 'thirty', 40, 50, 60, 100) = }\")"
   ]
  },
  {
   "cell_type": "markdown",
   "id": "purple-adolescent",
   "metadata": {
    "slideshow": {
     "slide_type": "subslide"
    }
   },
   "source": [
    "### Keyword Arguments Function"
   ]
  },
  {
   "cell_type": "code",
   "execution_count": 64,
   "id": "qualified-breeding",
   "metadata": {
    "ExecuteTime": {
     "end_time": "2021-08-27T18:10:48.567372Z",
     "start_time": "2021-08-27T18:10:48.562367Z"
    },
    "slideshow": {
     "slide_type": "subslide"
    }
   },
   "outputs": [
    {
     "name": "stdout",
     "output_type": "stream",
     "text": [
      "normal_arguments_function(10, 20, 30, 40, 50, 60) = (100, 0.1, 27000, 40, 50, 60)\n",
      "\n",
      "{'x': 200, 'y': 300, 'z': 400}\n",
      "200 300 400\n",
      "40000 1.5 64000000\n"
     ]
    }
   ],
   "source": [
    "# Code\n",
    "def normal_arguments_function(x, y, z, a, b, c):\n",
    "    return x**2, y/200, pow(z, 3), a, b, c\n",
    "\n",
    "print(f\"{normal_arguments_function(10, 20, 30, 40, 50, 60) = }\")\n",
    "\n",
    "print()\n",
    "\n",
    "def keyword_arguments_function(**kwargs): # *args = Positional arguments\n",
    "    print(kwargs)\n",
    "    print(kwargs['x'], kwargs['y'], kwargs['z'])\n",
    "    print(kwargs['x']**2, kwargs['y']/200 , pow(kwargs['z'], 3))\n",
    "    \n",
    "keyword_arguments_function(x=200, y=300, z=400)"
   ]
  },
  {
   "cell_type": "code",
   "execution_count": 74,
   "id": "5c3fb2fd",
   "metadata": {
    "slideshow": {
     "slide_type": "subslide"
    }
   },
   "outputs": [
    {
     "name": "stdout",
     "output_type": "stream",
     "text": [
      "(('ten', 20, 30), {'x': 200, 'y': 'apple'})\n",
      "('name argument as string', ('one', 'two', 3, 4, 5), {'x': 20, 'y': 30})\n"
     ]
    }
   ],
   "source": [
    "# Together of default, positional and keyword arguments\n",
    "\n",
    "def positional_keyword_arguments_function(*args, **kwargs):\n",
    "    return args, kwargs\n",
    "\n",
    "def default_positional_keyword_arguments_function(name=78.56, *args, **kwargs):\n",
    "    return  name, args, kwargs\n",
    "\n",
    "print(positional_keyword_arguments_function(\"ten\", 20, 30, x=200, y=\"apple\"))\n",
    "print(default_positional_keyword_arguments_function(\"name argument as string\", \"one\", \"two\", 3, 4, 5, x=20, y=30))"
   ]
  },
  {
   "cell_type": "markdown",
   "id": "incredible-switch",
   "metadata": {
    "slideshow": {
     "slide_type": "subslide"
    }
   },
   "source": [
    "\n",
    "### Closure and Nested Functions"
   ]
  },
  {
   "cell_type": "markdown",
   "id": "finished-hospital",
   "metadata": {
    "slideshow": {
     "slide_type": "subslide"
    }
   },
   "source": [
    "<h4><font face= \"Helvetica\" color = DarkCyan>A Closure is an inner function that remembers and has access to variables in the local scope that its created even after outer function finished executed</font></h4>"
   ]
  },
  {
   "cell_type": "code",
   "execution_count": 81,
   "id": "a727b3bf",
   "metadata": {
    "ExecuteTime": {
     "end_time": "2021-08-27T18:11:38.787949Z",
     "start_time": "2021-08-27T18:11:38.783951Z"
    },
    "slideshow": {
     "slide_type": "subslide"
    }
   },
   "outputs": [
    {
     "name": "stdout",
     "output_type": "stream",
     "text": [
      "{'message': 'Hi', 'mob_number': 97364647383333}\n",
      "Hi\n",
      "97364647383333\n"
     ]
    }
   ],
   "source": [
    "# Code\n",
    "def outer_func():\n",
    "    message = \"Hi\"\n",
    "    mob_number = 97364647383333\n",
    "    def inner_func():\n",
    "        print(locals())\n",
    "        print(message)\n",
    "        print(mob_number)\n",
    "    \n",
    "    return inner_func()\n",
    "\n",
    "outer_func()"
   ]
  },
  {
   "cell_type": "code",
   "execution_count": 90,
   "id": "d82263e7",
   "metadata": {
    "slideshow": {
     "slide_type": "subslide"
    }
   },
   "outputs": [
    {
     "name": "stdout",
     "output_type": "stream",
     "text": [
      "['__annotations__', '__call__', '__class__', '__closure__', '__code__', '__defaults__', '__delattr__', '__dict__', '__dir__', '__doc__', '__eq__', '__format__', '__ge__', '__get__', '__getattribute__', '__globals__', '__gt__', '__hash__', '__init__', '__init_subclass__', '__kwdefaults__', '__le__', '__lt__', '__module__', '__name__', '__ne__', '__new__', '__qualname__', '__reduce__', '__reduce_ex__', '__repr__', '__setattr__', '__sizeof__', '__str__', '__subclasshook__']\n",
      "inner_func\n",
      "{'message': 'Hi', 'mob_number': 97364647383333}\n",
      "Hi\n",
      "97364647383333\n"
     ]
    },
    {
     "data": {
      "text/plain": [
       "<function __main__.outer_func.<locals>.inner_func()>"
      ]
     },
     "execution_count": 90,
     "metadata": {},
     "output_type": "execute_result"
    }
   ],
   "source": [
    "def outer_func():\n",
    "    message = \"Hi\"\n",
    "    mob_number = 97364647383333\n",
    "    def inner_func():\n",
    "        print(locals())\n",
    "        print(message)\n",
    "        print(mob_number)\n",
    "    \n",
    "    return inner_func\n",
    "\n",
    "print(dir(outer_func)) # no inner_func is showing as a namespace to this function\n",
    "my_func = outer_func()\n",
    "print(my_func.__name__)\n",
    "my_func()\n",
    "outer_func()"
   ]
  },
  {
   "cell_type": "code",
   "execution_count": 92,
   "id": "86de6638",
   "metadata": {
    "slideshow": {
     "slide_type": "subslide"
    }
   },
   "outputs": [
    {
     "name": "stdout",
     "output_type": "stream",
     "text": [
      "{'message': 'Hi'}\n",
      "Hi\n",
      "{'message': 'Hello'}\n",
      "Hello\n"
     ]
    }
   ],
   "source": [
    "def outer_func(msg):\n",
    "    message = msg\n",
    "    def inner_func():\n",
    "        print(locals())\n",
    "        print(message)    \n",
    "    return inner_func\n",
    "\n",
    "hi_func = outer_func(\"Hi\")\n",
    "hello_func = outer_func(\"Hello\")\n",
    "\n",
    "hi_func()\n",
    "hello_func()"
   ]
  },
  {
   "cell_type": "code",
   "execution_count": 96,
   "id": "outer-typing",
   "metadata": {
    "ExecuteTime": {
     "end_time": "2021-08-27T18:11:14.836126Z",
     "start_time": "2021-08-27T18:11:14.832135Z"
    },
    "slideshow": {
     "slide_type": "subslide"
    }
   },
   "outputs": [
    {
     "name": "stdout",
     "output_type": "stream",
     "text": [
      "69\n",
      "30\n",
      "-10\n",
      "67720.67\n"
     ]
    }
   ],
   "source": [
    "# Simple use case Code\n",
    "\n",
    "import logging\n",
    "logging.basicConfig(filename=\"example.log\", level=logging.INFO)\n",
    "\n",
    "def logger(func):\n",
    "    def log_func(*args):\n",
    "        logging.info('Running \"{}\" with arguments {}'.format(func.__name__, args))\n",
    "        print(func(*args))\n",
    "    return log_func\n",
    "\n",
    "def add(x, y):\n",
    "    return x + y \n",
    "\n",
    "def sub(x, y):\n",
    "    return  x - y \n",
    "\n",
    "add_logger = logger(add)\n",
    "sub_logger = logger(sub)\n",
    "\n",
    "add_logger(2, 67)\n",
    "add_logger(10, 20)\n",
    "\n",
    "sub_logger(30, 40)\n",
    "sub_logger(67, -67653.67)"
   ]
  },
  {
   "cell_type": "markdown",
   "id": "1cebf2a1",
   "metadata": {
    "slideshow": {
     "slide_type": "slide"
    }
   },
   "source": [
    "# Type hinting"
   ]
  },
  {
   "cell_type": "code",
   "execution_count": 68,
   "id": "57be368d",
   "metadata": {
    "slideshow": {
     "slide_type": "subslide"
    }
   },
   "outputs": [
    {
     "name": "stdout",
     "output_type": "stream",
     "text": [
      "[10, 20, 30]\n",
      "apple\n",
      "{'x': <class 'list'>, 'y': <class 'str'>}\n",
      "8000\n",
      "<class 'str'>\n"
     ]
    }
   ],
   "source": [
    "x: list = [10, 20, 30]\n",
    "y: str = \"apple\"\n",
    "print(x)\n",
    "print(y)\n",
    "print(__annotations__)\n",
    "\n",
    "def type_hint_function(x: int, y: str, z: float, a: complex, b: str, c: float) -> str:\n",
    "    return f\"{x**3}\"\n",
    "\n",
    "print(type_hint_function(20, \"apple\", 78.45, 78+2j, \"four\", 3.4))\n",
    "print(type(type_hint_function(20, \"apple\", 78.45, 78+2j, \"four\", 3.4)))"
   ]
  },
  {
   "cell_type": "markdown",
   "id": "national-concept",
   "metadata": {
    "slideshow": {
     "slide_type": "slide"
    }
   },
   "source": [
    "<img src = \"img/decorators.png\" alt = \"Decorators\" height = \"2000\" width = \"2140\">"
   ]
  },
  {
   "cell_type": "markdown",
   "id": "binding-regular",
   "metadata": {
    "slideshow": {
     "slide_type": "subslide"
    }
   },
   "source": [
    "- Decorator functions are software design patterns. \n",
    "- They dynamically alter the functionality of a function, method or class without having to directly use the subclasses or change the source code of the decorated function\n",
    "- Decorators augment the behavior of the other functions or methods. \n",
    "- Any function that takes a function as a parameter and returns an augmented function can be used a decorator"
   ]
  },
  {
   "cell_type": "code",
   "execution_count": 52,
   "id": "solid-merchandise",
   "metadata": {
    "ExecuteTime": {
     "end_time": "2021-08-27T18:12:58.201344Z",
     "start_time": "2021-08-27T18:12:58.192982Z"
    },
    "slideshow": {
     "slide_type": "subslide"
    }
   },
   "outputs": [
    {
     "name": "stdout",
     "output_type": "stream",
     "text": [
      "wrapped_function executed before display\n",
      "display function executed\n",
      "\n",
      "wrapped_function executed before display_info\n",
      "display_info ran with arguments ('Python', 40) {'address': '40, abc colony, xyz street, zzz City, pincode - 6478'}\n"
     ]
    }
   ],
   "source": [
    "# Decorator Function\n",
    "import functools\n",
    "\n",
    "def decorator_function(original_function):\n",
    "    \"\"\"\n",
    "    original_function = display\n",
    "    decorated_function = outer_function\n",
    "    wrapped_function = inner_function\n",
    "    @functools.wraps used for wrapping the inner_function in control with original_function\n",
    "        \n",
    "    \"\"\"\n",
    "    @functools.wraps(original_function)\n",
    "    def wrapped_function(*args, **kwargs):\n",
    "        print(f\"wrapped_function executed before {original_function.__name__}\")\n",
    "        return original_function(*args, **kwargs)\n",
    "    return wrapped_function\n",
    "\n",
    "@decorator_function # syntactic sugar or Pythonic way of execution\n",
    "def display():\n",
    "    print(\"display function executed\")\n",
    "\n",
    "@decorator_function\n",
    "def display_info(*args, **kwargs):\n",
    "    print(\"display_info ran with arguments {0} {1}\".format(args, kwargs))\n",
    "\n",
    "# Method1 => Should use all below of these lines to execute below function\n",
    "# decorated_display = decorator_function(display)\n",
    "# decorated_display()\n",
    "\n",
    "# Method2 => use @decorator_function on top of display function\n",
    "display()\n",
    "print()\n",
    "display_info(\"Python\", 40, address=\"40, abc colony, xyz street, zzz City, pincode - 6478\")"
   ]
  },
  {
   "cell_type": "code",
   "execution_count": 54,
   "id": "photographic-providence",
   "metadata": {
    "ExecuteTime": {
     "end_time": "2021-08-27T18:13:06.227550Z",
     "start_time": "2021-08-27T18:13:06.223546Z"
    },
    "slideshow": {
     "slide_type": "subslide"
    }
   },
   "outputs": [
    {
     "name": "stdout",
     "output_type": "stream",
     "text": [
      "wrapped_function executed before display\n",
      "display function executed\n",
      "\n",
      "wrapped_function executed before display_info\n",
      "display_info ran with arguments ('Python', 40) {'address': '40, abc colony, xyz street, zzz City, pincode - 6478'}\n"
     ]
    }
   ],
   "source": [
    "# Decorator Class\n",
    "class Decorated_class:\n",
    "    \n",
    "    \"\"\"\n",
    "    original_function = display\n",
    "    decorated_function = outer_function\n",
    "    wrapped_function = inner_function\n",
    "    @functools.wraps used for wrapping the inner_function in control with original_function\n",
    "        \n",
    "    \"\"\"\n",
    "    \n",
    "    def __init__(self, original_function):\n",
    "        self.original_function = original_function\n",
    "    \n",
    "    def __call__(self, *args, **kwargs):\n",
    "        print(f\"wrapped_function executed before {self.original_function.__name__}\")\n",
    "        return self.original_function(*args, **kwargs)\n",
    "    \n",
    "@Decorated_class # syntactic sugar or Pythonic way of execution\n",
    "def display():\n",
    "    print(\"display function executed\")\n",
    "\n",
    "@Decorated_class\n",
    "def display_info(*args, **kwargs):\n",
    "    print(\"display_info ran with arguments {0} {1}\".format(args, kwargs))\n",
    "    \n",
    "display()\n",
    "print()\n",
    "display_info(\"Python\", 40, address=\"40, abc colony, xyz street, zzz City, pincode - 6478\")"
   ]
  },
  {
   "cell_type": "code",
   "execution_count": 57,
   "id": "alpine-philadelphia",
   "metadata": {
    "ExecuteTime": {
     "end_time": "2021-08-27T18:13:15.073154Z",
     "start_time": "2021-08-27T18:13:15.069167Z"
    },
    "slideshow": {
     "slide_type": "subslide"
    }
   },
   "outputs": [],
   "source": [
    "# Decorator Template\n",
    "import functools\n",
    "\n",
    "def decorated_function(func):\n",
    "    @functools.wraps(func)\n",
    "    def wrapped_function(*args, **kwargs):\n",
    "        func(*args, **kwargs)\n",
    "        return func(*args, **kwargs)\n",
    "    return wrapped_function    \n",
    "\n"
   ]
  },
  {
   "cell_type": "code",
   "execution_count": 59,
   "id": "83f3e382",
   "metadata": {
    "ExecuteTime": {
     "end_time": "2021-08-27T18:13:23.154520Z",
     "start_time": "2021-08-27T18:13:23.146783Z"
    },
    "slideshow": {
     "slide_type": "subslide"
    }
   },
   "outputs": [
    {
     "name": "stdout",
     "output_type": "stream",
     "text": [
      "Finished 'waste_some_time' in 0.0073 secs\n",
      "Finished 'waste_some_time' in 3.5853 secs\n"
     ]
    }
   ],
   "source": [
    "# Example 1\n",
    "# Timing function: time taken for a function call to complete\n",
    "import functools\n",
    "import time\n",
    "\n",
    "def timer(func):\n",
    "    \"\"\" Print the runtime of the decorated function \"\"\"\n",
    "    @functools.wraps(func)\n",
    "    def wrapped_time(*args, **kwargs):\n",
    "        start_time = time.perf_counter() # start clock\n",
    "        value = func(*args, **kwargs) # waste_some_time executed at this stage\n",
    "        end_time = time.perf_counter() # end clock\n",
    "        run_time = end_time - start_time # calculate difference\n",
    "        print(f\"Finished {func.__name__!r} in {run_time:.4f} secs\") # print output\n",
    "        return value # return the waste_some_time executed output\n",
    "    return wrapped_time   \n",
    "\n",
    "@timer\n",
    "def waste_some_time(num_times):\n",
    "    for i in range(num_times):\n",
    "        sum([i**2 for i in range(10000)])\n",
    "        \n",
    "waste_some_time(1)\n",
    "waste_some_time(898)"
   ]
  },
  {
   "cell_type": "code",
   "execution_count": 10,
   "id": "7f327aef",
   "metadata": {
    "ExecuteTime": {
     "end_time": "2021-08-27T18:13:32.106229Z",
     "start_time": "2021-08-27T18:13:32.102240Z"
    },
    "slideshow": {
     "slide_type": "subslide"
    }
   },
   "outputs": [],
   "source": [
    "# Example 2\n",
    "# to print the arguments a function is called with as well as its return value every time the function is called"
   ]
  },
  {
   "cell_type": "markdown",
   "id": "comprehensive-penetration",
   "metadata": {
    "slideshow": {
     "slide_type": "slide"
    }
   },
   "source": [
    "<img src = \"img/generators.png\" alt = \"Generators\" height = \"2000\" width = \"2140\">"
   ]
  },
  {
   "cell_type": "markdown",
   "id": "suspended-concentrate",
   "metadata": {
    "slideshow": {
     "slide_type": "subslide"
    }
   },
   "source": [
    "### Generators are lazy iterators created by generator functions (using yield) or generator expressions\n"
   ]
  },
  {
   "cell_type": "markdown",
   "id": "912ddbd2",
   "metadata": {
    "slideshow": {
     "slide_type": "subslide"
    }
   },
   "source": [
    "### Simple Iterators\n",
    "- Iterator provides a sequence interface to python objects that's memory efficient and considered Pythonic. Behold the beauty of the for-in loop\n",
    "- To Support iteration an object needs to implement the iterator protocol by providing the __iter__ and __next__ dunder methods.\n",
    "- Class-based iterators are only way to write iterable objects in python. Also consider generators and generator expressions"
   ]
  },
  {
   "cell_type": "code",
   "execution_count": 70,
   "id": "institutional-omaha",
   "metadata": {
    "ExecuteTime": {
     "end_time": "2021-08-27T18:13:45.272984Z",
     "start_time": "2021-08-27T18:13:45.267983Z"
    },
    "slideshow": {
     "slide_type": "subslide"
    }
   },
   "outputs": [
    {
     "name": "stdout",
     "output_type": "stream",
     "text": [
      "[0, 1, 2, 3, 4, 5, 6, 7, 8, 9, 10, 11, 12, 13, 14, 15, 16, 17, 18, 19]\n",
      "{0, 1, 2, 3, 4, 5, 6, 7, 8, 9, 10, 11, 12, 13, 14, 15, 16, 17, 18, 19}\n",
      "{'a': 1, 'b': 2, 'c': 3}\n",
      "<generator object <genexpr> at 0x7f6638a5fb30>\n"
     ]
    }
   ],
   "source": [
    "# Code\n",
    "print([value for value in range(20)]) # List comprehension\n",
    "print({value for value in range(20)}) # Set comprehension\n",
    "print({key:value for key,value in zip(\"a b c\".split(), [1, 2, 3])}) # Dictionary comprehension\n",
    "print((value for value in range(20))) # Generator Expression "
   ]
  },
  {
   "cell_type": "markdown",
   "id": "ae80307c",
   "metadata": {
    "slideshow": {
     "slide_type": "subslide"
    }
   },
   "source": [
    "### Generator Functions\n",
    "\n",
    "- Generator functions are syntactic sugar for writing objects that support the iterator protocol. Generators abstract away much of the boilerplate code needed when writing class-based iterators.\n",
    "- The yield statement allow you to temporarily suspend execution of a generator function and to pass back values from it.\n",
    "- Generators start raising StopIteration exception after control flow leaves the generator function by any means other than a yield statement."
   ]
  },
  {
   "cell_type": "code",
   "execution_count": 88,
   "id": "0ac0d175",
   "metadata": {
    "ExecuteTime": {
     "end_time": "2021-08-27T18:13:51.655945Z",
     "start_time": "2021-08-27T18:13:51.648447Z"
    },
    "slideshow": {
     "slide_type": "subslide"
    }
   },
   "outputs": [
    {
     "name": "stdout",
     "output_type": "stream",
     "text": [
      "100\n",
      "101\n",
      "102\n",
      "103\n",
      "104\n",
      "\n",
      "Hello\n",
      "Hello\n",
      "Hello\n",
      "Hello\n",
      "Hello\n",
      "Hello\n",
      "Hello\n",
      "Hello\n",
      "Hello\n",
      "Hello\n"
     ]
    }
   ],
   "source": [
    "# Code\n",
    "def repeater():\n",
    "    x = 100\n",
    "    while True:\n",
    "        yield x\n",
    "        x = x + 1\n",
    "\n",
    "generator = repeater()\n",
    "for count in range(5):\n",
    "    print(next(generator))\n",
    "print()\n",
    "    \n",
    "def boundrepeater(value, maxvalue):\n",
    "    for i in range(maxvalue):\n",
    "        yield value\n",
    "        \n",
    "for i in boundrepeater(\"Hello\", 10):\n",
    "    print(i)"
   ]
  },
  {
   "cell_type": "markdown",
   "id": "eec983a2",
   "metadata": {
    "slideshow": {
     "slide_type": "subslide"
    }
   },
   "source": [
    "### Generator Expressions\n",
    "\n",
    "- Generator expressions are similar to list comprehensions\n",
    "- Once a generator expression is consumed it should be restarted or reused\n",
    "- Generator expressions are best for implementing single \"adhoc\" iterators. For complex iterators, its better to write a generator function or class iterators."
   ]
  },
  {
   "cell_type": "code",
   "execution_count": 98,
   "id": "9fdaa7c1",
   "metadata": {
    "ExecuteTime": {
     "end_time": "2021-08-27T18:13:55.051632Z",
     "start_time": "2021-08-27T18:13:55.048635Z"
    },
    "slideshow": {
     "slide_type": "subslide"
    }
   },
   "outputs": [
    {
     "name": "stdout",
     "output_type": "stream",
     "text": [
      "0\n",
      "1\n",
      "2\n",
      "3\n",
      "4\n",
      "<generator object fibo at 0x7f66388d6c10>\n",
      "0 1 1 2 3 5 8 13 21 34 55 89 144 233 377 610 987 1597 2584 4181 6765 10946 17711 28657 46368 75025 121393 196418 317811 514229 832040 1346269 2178309 3524578 5702887 9227465 14930352 24157817 39088169 63245986 "
     ]
    }
   ],
   "source": [
    "# Code\n",
    "gen1 = (value for value in range(20)) # Generator Expression\n",
    "\n",
    "for i in range(5):\n",
    "    print(next(gen1))\n",
    "    \n",
    "# Example with fibonacci series\n",
    "\n",
    "def fibo(n):\n",
    "    \n",
    "    prev, curr = 0, 1\n",
    "    # infinite while loop\n",
    "    while prev < n:\n",
    "        value = prev\n",
    "        # Calculate the next number in the sequence, using tuple unpacking\n",
    "        prev, curr = curr, prev + curr\n",
    "        # Yield the value\n",
    "        yield value\n",
    "        \n",
    "fibonacci_generator = fibo(100000000)\n",
    "print(fibonacci_generator)\n",
    "for i in fibonacci_generator:\n",
    "    print(i, end=\" \")\n"
   ]
  },
  {
   "cell_type": "code",
   "execution_count": 96,
   "id": "1b8b5376",
   "metadata": {
    "slideshow": {
     "slide_type": "subslide"
    }
   },
   "outputs": [
    {
     "name": "stdout",
     "output_type": "stream",
     "text": [
      "size of list in memory 89095160\n",
      "size of generator in memory 112\n"
     ]
    }
   ],
   "source": [
    "# Performance analysis between List and Generators\n",
    "\n",
    "import sys\n",
    "\n",
    "# List comprehensioon\n",
    "mylist = [i for i in range(10000000)]\n",
    "print(\"size of list in memory\", sys.getsizeof(mylist))\n",
    "\n",
    "# Generator Expression\n",
    "mygen = (i for i in range(10000000))\n",
    "print(\"size of generator in memory\", sys.getsizeof(mygen))"
   ]
  },
  {
   "cell_type": "markdown",
   "id": "apart-grocery",
   "metadata": {
    "slideshow": {
     "slide_type": "slide"
    }
   },
   "source": [
    "<img src = \"img/classes.png\" alt = \"Classes\" height = \"2000\" width = \"2140\">"
   ]
  },
  {
   "cell_type": "markdown",
   "id": "virgin-penny",
   "metadata": {
    "slideshow": {
     "slide_type": "subslide"
    }
   },
   "source": [
    "- **An object is simply a collection of data(variables) and methods(functions) that act on those data.**\n",
    "- **A class is a blueprint of that object**"
   ]
  },
  {
   "cell_type": "code",
   "execution_count": 12,
   "id": "dying-allergy",
   "metadata": {
    "ExecuteTime": {
     "end_time": "2021-08-27T18:14:10.297364Z",
     "start_time": "2021-08-27T18:14:10.292359Z"
    },
    "slideshow": {
     "slide_type": "subslide"
    }
   },
   "outputs": [
    {
     "name": "stdout",
     "output_type": "stream",
     "text": [
      "<class '__main__.Shape1'>\n",
      "<class '__main__.Shape2'>\n",
      "<class '__main__.Shape3'>\n",
      "square\n",
      "circle\n",
      "rectangle\n"
     ]
    }
   ],
   "source": [
    "# Code\n",
    "\n",
    "class Shape1:\n",
    "    def shape_name():\n",
    "        return \"square\"\n",
    "    \n",
    "class Shape2:\n",
    "    \n",
    "    def __init__(self):\n",
    "        pass\n",
    "    \n",
    "    def shape_name(self):\n",
    "        return \"circle\"\n",
    "\n",
    "class Shape3:\n",
    "    @staticmethod\n",
    "    def shape_name():\n",
    "        return \"rectangle\"\n",
    "    \n",
    "print(Shape1)\n",
    "print(Shape2)\n",
    "print(Shape3)\n",
    "\n",
    "print(Shape1.shape_name())\n",
    "print(Shape2().shape_name())\n",
    "print(Shape3.shape_name())"
   ]
  },
  {
   "cell_type": "code",
   "execution_count": 31,
   "id": "frozen-providence",
   "metadata": {
    "ExecuteTime": {
     "end_time": "2021-08-27T18:14:18.039130Z",
     "start_time": "2021-08-27T18:14:18.030908Z"
    },
    "slideshow": {
     "slide_type": "subslide"
    }
   },
   "outputs": [
    {
     "name": "stdout",
     "output_type": "stream",
     "text": [
      "Alto base model with White color and runs with Automatic transmission\n",
      "Hyundai Venue base model with Black color and runs with Manual transmission\n",
      "\n",
      "The price of Alto base model with White color and runs with Automatic transmission is INR 400000.00\n",
      "The price of Hyundai Venue base model with Black color and runs with Manual transmission is INR 600000.00\n"
     ]
    }
   ],
   "source": [
    "# Code\n",
    "\n",
    "import locale\n",
    "\n",
    "class BaseModel: # Class\n",
    "    \"\"\" Represent the base model of the car \"\"\"\n",
    "\n",
    "    trim = \"normal\" # class attributes\n",
    "    engine_liters = 2.5 # class attributes\n",
    "    \n",
    "    def __init__(self, model, price, transmission, color): # Method\n",
    "        self.model = model\n",
    "        self.price = price # instance attributes\n",
    "        self.transmission = transmission # instance attributes\n",
    "        self.color = color # instance attributes\n",
    "    \n",
    "    def info(self):\n",
    "        return \"The price of {} is {}\".format(self, locale.format_string(\"INR %.2f\", self.price, grouping=True))\n",
    "        \n",
    "    def __repr__(self):\n",
    "        return \"{} base model with {} color and runs with {} transmission\".format(self.model, self.color, self.transmission)\n",
    "        \n",
    "car1 = BaseModel(\"Alto\", 400000, \"Automatic\", \"White\") # car1 is an instance\n",
    "car2 = BaseModel(\"Hyundai Venue\", 600000, \"Manual\", \"Black\") # car2 is an instance\n",
    "\n",
    "print(car1)\n",
    "print(car2)\n",
    "print()\n",
    "\n",
    "print(car1.info())\n",
    "print(car2.info())"
   ]
  },
  {
   "cell_type": "markdown",
   "id": "620fc52f-81c1-46ac-a5bb-f25a484d63c7",
   "metadata": {},
   "source": [
    "### # class - method overloading\n",
    "\n"
   ]
  },
  {
   "cell_type": "code",
   "execution_count": 9,
   "id": "91079168-cc3f-4e3c-9b06-da9834cbd3a1",
   "metadata": {},
   "outputs": [
    {
     "name": "stdout",
     "output_type": "stream",
     "text": [
      "The string representation of 5\n",
      "The __repr__ representation of 100\n",
      "105\n",
      "500\n",
      "True\n",
      "25\n",
      "300\n"
     ]
    }
   ],
   "source": [
    "# Code\n",
    "\n",
    "class Calc:\n",
    "    \"\"\" Implement basic integer addition operators \"\"\"\n",
    "    \n",
    "    def __init__(self, value):\n",
    "        if not isinstance(value, int):\n",
    "            raise ValueError(\"Must be instantiated with an integer value\")\n",
    "        self.value = value\n",
    "    \n",
    "    def __str__(self):\n",
    "        \"\"\" Define what object returns when str() function is used \"\"\"\n",
    "        return f\"The string representation of {self.value}\"\n",
    "    \n",
    "    def __repr__(self):\n",
    "        \"\"\" Define what object returns when str() function is used \"\"\"\n",
    "        return f\"The __repr__ representation of {self.value}\"\n",
    "    \n",
    "    def __add__(self, another_number):\n",
    "        return self.value + another_number.value\n",
    "    \n",
    "    def __mul__(self, another_number):\n",
    "        return self.value * another_number.value\n",
    "    \n",
    "    def __le__(self, another_number):\n",
    "        return self.value <= another_number.value\n",
    "    \n",
    "    def __iadd__(self, value):\n",
    "        return self.value + value\n",
    "    \n",
    "\n",
    "first_number = Calc(5) # first_number = instance\n",
    "second_number = Calc(100) # second_number = instance\n",
    "print(first_number.__str__())\n",
    "print(second_number.__repr__())\n",
    "print(first_number + second_number)\n",
    "print(first_number * second_number)\n",
    "print(first_number <= second_number)\n",
    "print(first_number.__iadd__(20))\n",
    "print(second_number.__iadd__(200))\n"
   ]
  },
  {
   "cell_type": "code",
   "execution_count": 28,
   "id": "structural-paper",
   "metadata": {
    "ExecuteTime": {
     "end_time": "2021-08-27T18:14:58.042411Z",
     "start_time": "2021-08-27T18:14:58.034873Z"
    },
    "slideshow": {
     "slide_type": "subslide"
    }
   },
   "outputs": [
    {
     "name": "stdout",
     "output_type": "stream",
     "text": [
      "Cooper base model with red color and runs with automatic transmission\n",
      "The price of Cooper base model with red color and runs with automatic transmission is INR 2500000.00\n",
      "Cooper base model with red color and runs with automatic transmission gets 1.665580 miles per gallon\n",
      "BaseModel gets 1.665580 miles per gallon\n"
     ]
    }
   ],
   "source": [
    "# Difference between classmethod and staticmethod\n",
    "\n",
    "# Lets see and example for classmethod\n",
    "import locale\n",
    "\n",
    "class BaseModel: # Class\n",
    "    \"\"\" Represent the base model of the car \"\"\"\n",
    "\n",
    "    trim = \"normal\" # class attributes\n",
    "    engine_liters = 2.5 # class attributes\n",
    "    miles_range = 22 # class attributes\n",
    "    tank_capacity = 50 # class attributes\n",
    "    color = \"Green\" # class attributes\n",
    "    transmission = \"Automatic\" # class attributes\n",
    "    \n",
    "    @classmethod\n",
    "    def miles_per_liter(cls):\n",
    "        return cls.miles_range / cls.tank_capacity\n",
    "    \n",
    "    @classmethod\n",
    "    def miles_per_gallon(cls):\n",
    "        return cls.miles_per_liter() * 3.78541\n",
    "    \n",
    "    def __init__(self, model, price, transmission=\"manual\", color=\"white\"): # Method\n",
    "        self.model = model\n",
    "        self.price = price # instance attributes\n",
    "        self.transmission = transmission # instance attributes\n",
    "        self.color = color # instance attributes\n",
    "    \n",
    "    def info(self):\n",
    "        return \"The price of {} is {}\".format(self, locale.format_string(\"INR %.2f\", self.price, grouping=True))\n",
    "        \n",
    "    def __repr__(self):\n",
    "        return \"{} base model with {} color and runs with {} transmission\".format(self.model, self.color, self.transmission)\n",
    "\n",
    "    \n",
    "coop = BaseModel(color=\"red\", transmission=\"automatic\", price=2500000, model=\"Cooper\")\n",
    "print(coop)\n",
    "print(coop.info())\n",
    "print(\"{} gets {:4f} miles per gallon\".format(coop, coop.miles_per_gallon()))\n",
    "print(\"{} gets {:4f} miles per gallon\".format(BaseModel.__name__, BaseModel.miles_per_gallon()))\n"
   ]
  },
  {
   "cell_type": "code",
   "execution_count": 32,
   "id": "5a9f0329-490b-4a68-a61c-a6f16fdd3dd9",
   "metadata": {},
   "outputs": [
    {
     "name": "stdout",
     "output_type": "stream",
     "text": [
      "Cooper base model with Yellow color and runs with automatic transmission\n",
      "The price of Cooper base model with Yellow color and runs with automatic transmission is INR 27067000.00\n",
      "Cooper base model with Yellow color and runs with automatic transmission gets  1.7 miles per gallon\n",
      "BaseModel gets  1.7 miles per gallon\n"
     ]
    }
   ],
   "source": [
    "# Difference between classmethod and staticmethod\n",
    "\n",
    "# Lets see and example for staticmethod\n",
    "\n",
    "import locale\n",
    "\n",
    "class BaseModel: # Class\n",
    "    \"\"\" Represent the base model of the car \"\"\"\n",
    "\n",
    "    trim = \"normal\" # class attributes\n",
    "    engine_liters = 2.5 # class attributes\n",
    "    miles_range = 22 # class attributes\n",
    "    tank_capacity = 50 # class attributes\n",
    "    color = \"Green\" # class attributes\n",
    "    transmission = \"Automatic\" # class attributes\n",
    "    \n",
    "    @staticmethod\n",
    "    def miles_per_liter(miles_range, tank_capacity):\n",
    "        return miles_range / tank_capacity\n",
    "    \n",
    "    @staticmethod\n",
    "    def miles_per_gallon(miles_range, tank_capacity):\n",
    "        return BaseModel.miles_per_liter(miles_range, tank_capacity) * 3.78541\n",
    "    \n",
    "    def __init__(self, model, price, transmission=\"manual\", color=\"white\"): # Method\n",
    "        self.model = model\n",
    "        self.price = price # instance attributes\n",
    "        self.transmission = transmission # instance attributes\n",
    "        self.color = color # instance attributes\n",
    "    \n",
    "    def info(self):\n",
    "        return \"The price of {} is {}\".format(self, locale.format_string(\"INR %.2f\", self.price, grouping=True))\n",
    "        \n",
    "    def __repr__(self):\n",
    "        return \"{} base model with {} color and runs with {} transmission\".format(self.model, self.color, self.transmission)\n",
    "\n",
    "    \n",
    "coop = BaseModel(color=\"Yellow\", transmission=\"automatic\", price=27067000, model=\"Cooper\")\n",
    "print(coop)\n",
    "print(coop.info())\n",
    "print(f\"{coop} gets {coop.miles_per_gallon(coop.miles_range, coop.tank_capacity):4.1f} miles per gallon\")\n",
    "print(f\"{BaseModel.__name__} gets {BaseModel.miles_per_gallon(BaseModel.miles_range, BaseModel.tank_capacity):4.1f} miles per gallon\")"
   ]
  },
  {
   "cell_type": "code",
   "execution_count": 42,
   "id": "5df1fa72",
   "metadata": {
    "ExecuteTime": {
     "end_time": "2021-08-27T18:15:10.962737Z",
     "start_time": "2021-08-27T18:15:10.958739Z"
    },
    "jupyter": {
     "source_hidden": true
    },
    "slideshow": {
     "slide_type": "subslide"
    },
    "tags": []
   },
   "outputs": [
    {
     "name": "stdout",
     "output_type": "stream",
     "text": [
      "BaseModel\n",
      "BaseModel has Normal trim level\n",
      "BaseModel has a 1.5 liter engine\n",
      "BaseModel engine sounds like putt, putt\n",
      "BaseModel horn sounds like beep beep\n",
      "\n",
      "Sports_Model\n",
      "Sports_Model has Sports trim level\n",
      "Sports_Model has a 2.0 liter engine\n",
      "Sports_Model engine sounds like VROOM, VROOM\n",
      "Sports_Model horn sounds like BEEP BEEP\n",
      "\n",
      "Luxury_Model\n",
      "Luxury_Model has Luxury trim level\n",
      "Luxury_Model has a 1.5 liter engine\n",
      "Luxury_Model engine sounds like vroom, vroom\n",
      "Luxury_Model horn sounds like HONK HONK\n",
      "\n",
      "Luxury_Sport_Model\n",
      "Luxury_Sport_Model has Luxury trim level\n",
      "Luxury_Sport_Model has a 2.0 liter engine\n",
      "Luxury_Sport_Model engine sounds like vroom, vroom\n",
      "Luxury_Sport_Model horn sounds like HONK HONK\n",
      "\n",
      "Sport_Luxury_Model\n",
      "Sport_Luxury_Model has Sports trim level\n",
      "Sport_Luxury_Model has a 2.0 liter engine\n",
      "Sport_Luxury_Model engine sounds like VROOM, VROOM\n",
      "Sport_Luxury_Model horn sounds like BEEP BEEP\n",
      "\n",
      "[<class '__main__.Sport_Luxury_Model'>, <class '__main__.Sports_Model'>, <class '__main__.Luxury_Model'>, <class '__main__.BaseModel'>, <class 'object'>]\n",
      "[<class '__main__.Luxury_Sport_Model'>, <class '__main__.Luxury_Model'>, <class '__main__.Sports_Model'>, <class '__main__.BaseModel'>, <class 'object'>]\n"
     ]
    }
   ],
   "source": [
    "# Class inheritence\n",
    "\n",
    "class BaseModel:\n",
    "    \"\"\" Represent  the base model of  a car \"\"\"\n",
    "    trim = \"Normal\"\n",
    "    engine_liters = 1.5\n",
    "    \n",
    "    def engine_sound(self):\n",
    "        return \"putt, putt\"\n",
    "    \n",
    "    def horn_sound(self):\n",
    "        return \"beep beep\"\n",
    "    \n",
    "    def __repr__(self):\n",
    "        return f\"{__class__.__name__}\"\n",
    "    \n",
    "coop = BaseModel()\n",
    "print(coop)\n",
    "print(f\"{coop} has {coop.trim} trim level\")\n",
    "print(f\"{coop} has a {coop.engine_liters} liter engine\")\n",
    "print(f\"{coop} engine sounds like {coop.engine_sound()}\")\n",
    "print(f\"{coop} horn sounds like {coop.horn_sound()}\")\n",
    "\n",
    "class Sports_Model(BaseModel): # Class inheritance means using Base Class to Sports model class\n",
    "    engine_liters = 2.0\n",
    "    trim = \"Sports\"\n",
    "    \n",
    "    def engine_sound(self):\n",
    "        return \"VROOM, VROOM\"\n",
    "    \n",
    "    def horn_sound(self):\n",
    "        return \"beep beep\".upper()\n",
    "    \n",
    "    def __repr__(self):\n",
    "        return f\"{__class__.__name__}\"\n",
    "    \n",
    "print()\n",
    "coop_sport = Sports_Model()\n",
    "print(coop_sport)\n",
    "print(f\"{coop_sport} has {coop_sport.trim} trim level\")\n",
    "print(f\"{coop_sport} has a {coop_sport.engine_liters} liter engine\")\n",
    "print(f\"{coop_sport} engine sounds like {coop_sport.engine_sound()}\")\n",
    "print(f\"{coop_sport} horn sounds like {coop_sport.horn_sound()}\")\n",
    "\n",
    "class Luxury_Model(BaseModel):\n",
    "    trim = \"Luxury\"\n",
    "    \n",
    "    def engine_sound(self):\n",
    "        return \"vroom, vroom\"\n",
    "    \n",
    "    def horn_sound(self):\n",
    "        return \"honk honk\".upper()\n",
    "    \n",
    "    def __repr__(self):\n",
    "        return f\"{__class__.__name__}\"\n",
    "    \n",
    "print()\n",
    "coop_luxury = Luxury_Model()\n",
    "print(coop_luxury)\n",
    "print(f\"{coop_luxury} has {coop_luxury.trim} trim level\")\n",
    "print(f\"{coop_luxury} has a {coop_luxury.engine_liters} liter engine\")\n",
    "print(f\"{coop_luxury} engine sounds like {coop_luxury.engine_sound()}\")\n",
    "print(f\"{coop_luxury} horn sounds like {coop_luxury.horn_sound()}\")\n",
    "\n",
    "\n",
    "class Luxury_Sport_Model(Luxury_Model, Sports_Model):\n",
    "    def __repr__(self):\n",
    "        return f\"{__class__.__name__}\"\n",
    "    \n",
    "print()\n",
    "coop_luxury_sport = Luxury_Sport_Model()\n",
    "print(coop_luxury_sport)\n",
    "print(f\"{coop_luxury_sport} has {coop_luxury_sport.trim} trim level\")\n",
    "print(f\"{coop_luxury_sport} has a {coop_luxury_sport.engine_liters} liter engine\")\n",
    "print(f\"{coop_luxury_sport} engine sounds like {coop_luxury_sport.engine_sound()}\")\n",
    "print(f\"{coop_luxury_sport} horn sounds like {coop_luxury_sport.horn_sound()}\")\n",
    "\n",
    "class Sport_Luxury_Model(Sports_Model, Luxury_Model):\n",
    "    def __repr__(self):\n",
    "        return f\"{__class__.__name__}\"\n",
    "    \n",
    "print()\n",
    "coop_sport_luxury = Sport_Luxury_Model()\n",
    "print(coop_sport_luxury)\n",
    "print(f\"{coop_sport_luxury} has {coop_sport_luxury.trim} trim level\")\n",
    "print(f\"{coop_sport_luxury} has a {coop_sport_luxury.engine_liters} liter engine\")\n",
    "print(f\"{coop_sport_luxury} engine sounds like {coop_sport_luxury.engine_sound()}\")\n",
    "print(f\"{coop_sport_luxury} horn sounds like {coop_sport_luxury.horn_sound()}\")\n",
    "\n",
    "print()\n",
    "print(Sport_Luxury_Model.mro()) # Method Resolution Order\n",
    "print(Luxury_Sport_Model.mro())"
   ]
  },
  {
   "cell_type": "markdown",
   "id": "pregnant-lesbian",
   "metadata": {
    "slideshow": {
     "slide_type": "slide"
    }
   },
   "source": [
    "# Errors & Exceptions"
   ]
  },
  {
   "cell_type": "code",
   "execution_count": 49,
   "id": "seventh-document",
   "metadata": {
    "slideshow": {
     "slide_type": "subslide"
    }
   },
   "outputs": [
    {
     "name": "stdout",
     "output_type": "stream",
     "text": [
      "['ArithmeticError', 'AssertionError', 'AttributeError', 'BaseException', 'BlockingIOError', 'BrokenPipeError', 'BufferError', 'BytesWarning', 'ChildProcessError', 'ConnectionAbortedError', 'ConnectionError', 'ConnectionRefusedError', 'ConnectionResetError', 'DeprecationWarning', 'EOFError', 'Ellipsis', 'EnvironmentError', 'Exception', 'False', 'FileExistsError', 'FileNotFoundError', 'FloatingPointError', 'FutureWarning', 'GeneratorExit', 'IOError', 'ImportError', 'ImportWarning', 'IndentationError', 'IndexError', 'InterruptedError', 'IsADirectoryError', 'KeyError', 'KeyboardInterrupt', 'LookupError', 'MemoryError', 'ModuleNotFoundError', 'NameError', 'None', 'NotADirectoryError', 'NotImplemented', 'NotImplementedError', 'OSError', 'OverflowError', 'PendingDeprecationWarning', 'PermissionError', 'ProcessLookupError', 'RecursionError', 'ReferenceError', 'ResourceWarning', 'RuntimeError', 'RuntimeWarning', 'StopAsyncIteration', 'StopIteration', 'SyntaxError', 'SyntaxWarning', 'SystemError', 'SystemExit', 'TabError', 'TimeoutError', 'True', 'TypeError', 'UnboundLocalError', 'UnicodeDecodeError', 'UnicodeEncodeError', 'UnicodeError', 'UnicodeTranslateError', 'UnicodeWarning', 'UserWarning', 'ValueError', 'Warning', 'ZeroDivisionError', '__IPYTHON__', '__build_class__', '__debug__', '__doc__', '__import__', '__loader__', '__name__', '__package__', '__spec__', 'abs', 'all', 'any', 'ascii', 'bin', 'bool', 'breakpoint', 'bytearray', 'bytes', 'callable', 'chr', 'classmethod', 'compile', 'complex', 'copyright', 'credits', 'delattr', 'dict', 'dir', 'display', 'divmod', 'enumerate', 'eval', 'exec', 'execfile', 'filter', 'float', 'format', 'frozenset', 'get_ipython', 'getattr', 'globals', 'hasattr', 'hash', 'help', 'hex', 'id', 'input', 'int', 'isinstance', 'issubclass', 'iter', 'len', 'license', 'list', 'locals', 'map', 'max', 'memoryview', 'min', 'next', 'object', 'oct', 'open', 'ord', 'pow', 'print', 'property', 'range', 'repr', 'reversed', 'round', 'runfile', 'set', 'setattr', 'slice', 'sorted', 'staticmethod', 'str', 'sum', 'super', 'tuple', 'type', 'vars', 'zip']\n"
     ]
    }
   ],
   "source": [
    "# Code\n",
    "print(dir(__builtins__))"
   ]
  },
  {
   "cell_type": "code",
   "execution_count": 51,
   "id": "756e0cb9-a3b3-46ac-8215-9ed591ada6e9",
   "metadata": {},
   "outputs": [
    {
     "ename": "TypeError",
     "evalue": "'float' object cannot be interpreted as an integer",
     "output_type": "error",
     "traceback": [
      "\u001b[0;31m---------------------------------------------------------------------------\u001b[0m",
      "\u001b[0;31mTypeError\u001b[0m                                 Traceback (most recent call last)",
      "\u001b[0;32m/tmp/ipykernel_3568/2900907266.py\u001b[0m in \u001b[0;36m<module>\u001b[0;34m\u001b[0m\n\u001b[0;32m----> 1\u001b[0;31m \u001b[0mprint\u001b[0m\u001b[0;34m(\u001b[0m\u001b[0mbin\u001b[0m\u001b[0;34m(\u001b[0m\u001b[0;36m19.67\u001b[0m\u001b[0;34m)\u001b[0m\u001b[0;34m)\u001b[0m\u001b[0;34m\u001b[0m\u001b[0;34m\u001b[0m\u001b[0m\n\u001b[0m",
      "\u001b[0;31mTypeError\u001b[0m: 'float' object cannot be interpreted as an integer"
     ]
    }
   ],
   "source": [
    "print(bin(19.67))"
   ]
  },
  {
   "cell_type": "code",
   "execution_count": 52,
   "id": "99910118-160d-4434-9066-615f958c59ea",
   "metadata": {},
   "outputs": [
    {
     "ename": "TypeError",
     "evalue": "'str' object cannot be interpreted as an integer",
     "output_type": "error",
     "traceback": [
      "\u001b[0;31m---------------------------------------------------------------------------\u001b[0m",
      "\u001b[0;31mTypeError\u001b[0m                                 Traceback (most recent call last)",
      "\u001b[0;32m/tmp/ipykernel_3568/2141863092.py\u001b[0m in \u001b[0;36m<module>\u001b[0;34m\u001b[0m\n\u001b[0;32m----> 1\u001b[0;31m \u001b[0mprint\u001b[0m\u001b[0;34m(\u001b[0m\u001b[0mhex\u001b[0m\u001b[0;34m(\u001b[0m\u001b[0;34m\"apple\"\u001b[0m\u001b[0;34m)\u001b[0m\u001b[0;34m)\u001b[0m\u001b[0;34m\u001b[0m\u001b[0;34m\u001b[0m\u001b[0m\n\u001b[0m",
      "\u001b[0;31mTypeError\u001b[0m: 'str' object cannot be interpreted as an integer"
     ]
    }
   ],
   "source": [
    "print(hex(\"apple\"))"
   ]
  },
  {
   "cell_type": "code",
   "execution_count": 53,
   "id": "bb498d51-d38b-4fcc-a45f-8f2951c6a376",
   "metadata": {},
   "outputs": [
    {
     "ename": "KeyError",
     "evalue": "'c'",
     "output_type": "error",
     "traceback": [
      "\u001b[0;31m---------------------------------------------------------------------------\u001b[0m",
      "\u001b[0;31mKeyError\u001b[0m                                  Traceback (most recent call last)",
      "\u001b[0;32m/tmp/ipykernel_3568/3782092193.py\u001b[0m in \u001b[0;36m<module>\u001b[0;34m\u001b[0m\n\u001b[1;32m      1\u001b[0m \u001b[0md1\u001b[0m \u001b[0;34m=\u001b[0m \u001b[0mdict\u001b[0m\u001b[0;34m(\u001b[0m\u001b[0ma\u001b[0m\u001b[0;34m=\u001b[0m\u001b[0;36m10\u001b[0m\u001b[0;34m,\u001b[0m \u001b[0mb\u001b[0m\u001b[0;34m=\u001b[0m\u001b[0;36m20\u001b[0m\u001b[0;34m)\u001b[0m\u001b[0;34m\u001b[0m\u001b[0;34m\u001b[0m\u001b[0m\n\u001b[0;32m----> 2\u001b[0;31m \u001b[0mprint\u001b[0m\u001b[0;34m(\u001b[0m\u001b[0md1\u001b[0m\u001b[0;34m[\u001b[0m\u001b[0;34m\"c\"\u001b[0m\u001b[0;34m]\u001b[0m\u001b[0;34m)\u001b[0m\u001b[0;34m\u001b[0m\u001b[0;34m\u001b[0m\u001b[0m\n\u001b[0m",
      "\u001b[0;31mKeyError\u001b[0m: 'c'"
     ]
    }
   ],
   "source": [
    "d1 = dict(a=10, b=20)\n",
    "print(d1[\"c\"])"
   ]
  },
  {
   "cell_type": "code",
   "execution_count": 54,
   "id": "d699cbf8-9ea6-4785-9c9c-8443dc89860d",
   "metadata": {},
   "outputs": [
    {
     "ename": "IndentationError",
     "evalue": "expected an indented block (2005260883.py, line 2)",
     "output_type": "error",
     "traceback": [
      "\u001b[0;36m  File \u001b[0;32m\"/tmp/ipykernel_3568/2005260883.py\"\u001b[0;36m, line \u001b[0;32m2\u001b[0m\n\u001b[0;31m    print(i)\u001b[0m\n\u001b[0m    ^\u001b[0m\n\u001b[0;31mIndentationError\u001b[0m\u001b[0;31m:\u001b[0m expected an indented block\n"
     ]
    }
   ],
   "source": [
    "for i in range(20):\n",
    "print(i)"
   ]
  },
  {
   "cell_type": "code",
   "execution_count": 56,
   "id": "92a9b697-b533-4572-aa0a-dfc424e9f57d",
   "metadata": {},
   "outputs": [
    {
     "ename": "SyntaxError",
     "evalue": "EOL while scanning string literal (1376557326.py, line 1)",
     "output_type": "error",
     "traceback": [
      "\u001b[0;36m  File \u001b[0;32m\"/tmp/ipykernel_3568/1376557326.py\"\u001b[0;36m, line \u001b[0;32m1\u001b[0m\n\u001b[0;31m    print(\"alphab)\u001b[0m\n\u001b[0m                  ^\u001b[0m\n\u001b[0;31mSyntaxError\u001b[0m\u001b[0;31m:\u001b[0m EOL while scanning string literal\n"
     ]
    }
   ],
   "source": [
    "print(\"alphab)"
   ]
  },
  {
   "cell_type": "code",
   "execution_count": 57,
   "id": "bc176ee4-f8d6-4cfd-9cf7-1bff120dba9e",
   "metadata": {},
   "outputs": [
    {
     "ename": "ZeroDivisionError",
     "evalue": "division by zero",
     "output_type": "error",
     "traceback": [
      "\u001b[0;31m---------------------------------------------------------------------------\u001b[0m",
      "\u001b[0;31mZeroDivisionError\u001b[0m                         Traceback (most recent call last)",
      "\u001b[0;32m/tmp/ipykernel_3568/165659023.py\u001b[0m in \u001b[0;36m<module>\u001b[0;34m\u001b[0m\n\u001b[0;32m----> 1\u001b[0;31m \u001b[0mprint\u001b[0m\u001b[0;34m(\u001b[0m\u001b[0;36m1\u001b[0m\u001b[0;34m/\u001b[0m\u001b[0;36m0\u001b[0m\u001b[0;34m)\u001b[0m\u001b[0;34m\u001b[0m\u001b[0;34m\u001b[0m\u001b[0m\n\u001b[0m",
      "\u001b[0;31mZeroDivisionError\u001b[0m: division by zero"
     ]
    }
   ],
   "source": [
    "print(1/0)"
   ]
  },
  {
   "cell_type": "code",
   "execution_count": 84,
   "id": "2e31924e-cedf-4ece-a691-125c061e5e19",
   "metadata": {},
   "outputs": [
    {
     "name": "stdout",
     "output_type": "stream",
     "text": [
      "This is the first doc\n",
      "Errors and Exceptions explained\n"
     ]
    }
   ],
   "source": [
    "import os\n",
    "\n",
    "try: # Try block will execute if the code block dont have any errors\n",
    "    path = os.getcwd()\n",
    "    filename = os.path.join(path, \"test\")\n",
    "    if not os.path.lexists(filename):\n",
    "        raise FileNotFoundError\n",
    "\n",
    "except FileNotFoundError: # This block will execute if any errors found in try block\n",
    "#     raise Exception\n",
    "    print(\"Given file is not there in the path\")\n",
    "\n",
    "else: # This block will execute if no exceptions raised\n",
    "    with open(\"test\", \"r\") as f:\n",
    "        print(f.read())\n",
    "\n",
    "finally: # this block will execute finally with no dependency on else, except and try block\n",
    "    print(\"Errors and Exceptions explained\")"
   ]
  },
  {
   "cell_type": "code",
   "execution_count": 94,
   "id": "73942202-ba71-4477-aa6e-991aa55527f0",
   "metadata": {},
   "outputs": [
    {
     "name": "stdout",
     "output_type": "stream",
     "text": [
      "exceptions must derive from BaseException\n",
      "Errors and Exceptions explained\n"
     ]
    }
   ],
   "source": [
    "try:\n",
    "    division = 100 / 2\n",
    "    raise \"Unexprected Error\"\n",
    "    \n",
    "except Exception as e:\n",
    "    print(e)\n",
    "#     print(\"Number not divisible by zero\")\n",
    "\n",
    "else:\n",
    "    print(f\"Number divisible and output is {division}\")\n",
    "\n",
    "finally:\n",
    "    print(\"Errors and Exceptions explained\")\n",
    "    "
   ]
  },
  {
   "cell_type": "markdown",
   "id": "1a2f05cc-8d32-49b8-9f20-e45ca13a86d2",
   "metadata": {
    "slideshow": {
     "slide_type": "slide"
    },
    "tags": []
   },
   "source": [
    "# Lambda "
   ]
  },
  {
   "cell_type": "code",
   "execution_count": 114,
   "id": "8047ed63-eaf5-4dfc-9d85-6b101d7b89c5",
   "metadata": {
    "slideshow": {
     "slide_type": "subslide"
    },
    "tags": []
   },
   "outputs": [
    {
     "name": "stdout",
     "output_type": "stream",
     "text": [
      "SOMETHING\n",
      "3\n",
      "22\n",
      "[343, 216, 125]\n",
      "[100, 200, 300, 400]\n"
     ]
    }
   ],
   "source": [
    "# Code\n",
    "\n",
    "# def function1():\n",
    "#     return \"something\"\n",
    "\n",
    "function1 = lambda x: x.upper()\n",
    "print(function1(\"something\"))\n",
    "\n",
    "addition1 = lambda x: x + 1 # this is the correct way of lambda execution\n",
    "print(addition1(2))\n",
    "\n",
    "print((lambda x: x + 20)(2)) # shouldnot do like this\n",
    "\n",
    "# lambda with map function\n",
    "exponentional = lambda x: x**3\n",
    "expo_list = map(exponentional, [7, 6, 5])\n",
    "print(list(expo_list))\n",
    "\n",
    "# lambda with filter function\n",
    "arr = [1, 2, 3, 4, 5, 6, 100, 200, 300, 400]\n",
    "output = filter(lambda x: x > 50, arr)\n",
    "print(list(output))"
   ]
  }
 ],
 "metadata": {
  "celltoolbar": "Slideshow",
  "hide_input": false,
  "kernelspec": {
   "display_name": "Python 3 (ipykernel)",
   "language": "python",
   "name": "python3"
  },
  "language_info": {
   "codemirror_mode": {
    "name": "ipython",
    "version": 3
   },
   "file_extension": ".py",
   "mimetype": "text/x-python",
   "name": "python",
   "nbconvert_exporter": "python",
   "pygments_lexer": "ipython3",
   "version": "3.9.5"
  },
  "varInspector": {
   "cols": {
    "lenName": 16,
    "lenType": 16,
    "lenVar": 40
   },
   "kernels_config": {
    "python": {
     "delete_cmd_postfix": "",
     "delete_cmd_prefix": "del ",
     "library": "var_list.py",
     "varRefreshCmd": "print(var_dic_list())"
    },
    "r": {
     "delete_cmd_postfix": ") ",
     "delete_cmd_prefix": "rm(",
     "library": "var_list.r",
     "varRefreshCmd": "cat(var_dic_list()) "
    }
   },
   "types_to_exclude": [
    "module",
    "function",
    "builtin_function_or_method",
    "instance",
    "_Feature"
   ],
   "window_display": false
  }
 },
 "nbformat": 4,
 "nbformat_minor": 5
}
