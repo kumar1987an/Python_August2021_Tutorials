{
 "cells": [
  {
   "cell_type": "markdown",
   "id": "adopted-junior",
   "metadata": {
    "slideshow": {
     "slide_type": "slide"
    }
   },
   "source": [
    "# Welcome to Python Basics and Documentation\n",
    "\n",
    "- This notebook involves various slides and Python Codes for better understanding."
   ]
  },
  {
   "cell_type": "markdown",
   "id": "generic-friendship",
   "metadata": {
    "slideshow": {
     "slide_type": "slide"
    }
   },
   "source": [
    "<img src = \"img/What.jpg\" alt = \"What is Python\" height = \"2000\" width = \"2140\" />"
   ]
  },
  {
   "cell_type": "markdown",
   "id": "direct-bobby",
   "metadata": {
    "slideshow": {
     "slide_type": "slide"
    }
   },
   "source": [
    "<img src = \"img/Why.jpg\" alt = \"What is Python\" height = \"2000\" width = \"2140\" />"
   ]
  },
  {
   "cell_type": "markdown",
   "id": "owned-utility",
   "metadata": {
    "slideshow": {
     "slide_type": "slide"
    }
   },
   "source": [
    "<img src = \"img/Where.png\" alt = \"What is Python\" height = \"2000\" width = \"2140\" />\n",
    "\n",
    "**https://github.com/kumar1987an/We_Learn_Python/blob/master/Python_footprints.md**"
   ]
  },
  {
   "cell_type": "markdown",
   "id": "rational-defensive",
   "metadata": {
    "slideshow": {
     "slide_type": "slide"
    }
   },
   "source": [
    "<img src = \"img/HowStuffWorks.png\" alt = \"What is Python\" height = \"2000\" width = \"2140\" />"
   ]
  },
  {
   "cell_type": "markdown",
   "id": "unlimited-enterprise",
   "metadata": {
    "slideshow": {
     "slide_type": "subslide"
    }
   },
   "source": [
    "<img src = \"img/HowPythonWorks.png\" alt = \"What is Python\" height = \"2000\" width = \"2140\" />"
   ]
  },
  {
   "cell_type": "markdown",
   "id": "declared-brand",
   "metadata": {
    "slideshow": {
     "slide_type": "slide"
    }
   },
   "source": [
    "<img src = \"img/Install.png\" alt = \"What is Python\" height = \"2000\" width = \"2140\" />"
   ]
  },
  {
   "cell_type": "markdown",
   "id": "european-yield",
   "metadata": {
    "slideshow": {
     "slide_type": "subslide"
    }
   },
   "source": [
    "Downloaded from [https://www.python.org/downloads/](https://www.python.org/downloads/) along with Installation Instructions\n",
    "\n",
    "**Windows Installation** = Download .msi file for 32 or 64 bit versions and install, After installation, to start use below command in command prompt\n",
    "_```C:\\> python or python3```_\n",
    "\n",
    "**Linux or Unix Installation** = Download zipped source code<br>\n",
    "extract the *.tar.gz file and go inside the extracted directory\n",
    "```\n",
    "./configure\n",
    "make\n",
    "makeinstall```\n",
    "Then run the command in shell _```$ python or python3```_\n",
    "\n",
    "**For Macintosh** = Please follow instructions to install and start python** _[https://docs.python-guide.org/starting/install3/osx/](https://docs.python-guide.org/starting/install3/osx/)_ <br>\n",
    "\n",
    "**<u>Other ways of Python**</u><br>\n",
    "\n",
    "_Python Jupyter notebooks ==> Notebooks for Python which is easy to interatively communicate with code by visualizations_<br>_Ipython ==> Interactive Python with less rich HTML content_<br>"
   ]
  },
  {
   "cell_type": "markdown",
   "id": "dangerous-trade",
   "metadata": {
    "slideshow": {
     "slide_type": "slide"
    }
   },
   "source": [
    "<img src = \"img/Run.png\" alt = \"What is Python\" height = \"2000\" width = \"2140\" />"
   ]
  },
  {
   "cell_type": "markdown",
   "id": "velvet-information",
   "metadata": {
    "slideshow": {
     "slide_type": "subslide"
    }
   },
   "source": [
    "<img src = \"img/Run1.png\" alt = \"What is Python\" height = \"2000\" width = \"2140\" />"
   ]
  },
  {
   "cell_type": "markdown",
   "id": "lovely-plaza",
   "metadata": {
    "slideshow": {
     "slide_type": "slide"
    }
   },
   "source": [
    " \n",
    "# Variables"
   ]
  },
  {
   "cell_type": "markdown",
   "id": "split-precipitation",
   "metadata": {
    "slideshow": {
     "slide_type": "subslide"
    }
   },
   "source": [
    "**https://github.com/kumar1987an/We_Learn_Python/blob/master/Variable_Assigment.md**\n"
   ]
  },
  {
   "cell_type": "code",
   "execution_count": 1,
   "id": "exclusive-citation",
   "metadata": {
    "ExecuteTime": {
     "end_time": "2021-08-26T12:50:17.774271Z",
     "start_time": "2021-08-26T12:50:17.761178Z"
    },
    "scrolled": true,
    "slideshow": {
     "slide_type": "subslide"
    }
   },
   "outputs": [
    {
     "name": "stdout",
     "output_type": "stream",
     "text": [
      "John Smith\n"
     ]
    }
   ],
   "source": [
    "# Code\n",
    "# can consist of upper and lowercase letter, the digits 0-9 and the underscore character.\n",
    "\n",
    "Name_of_the_Person_id200 = \"John Smith\"\n",
    "print(Name_of_the_Person_id200)"
   ]
  },
  {
   "cell_type": "code",
   "execution_count": 2,
   "id": "ebe80a5a",
   "metadata": {
    "ExecuteTime": {
     "end_time": "2021-08-26T12:50:17.801780Z",
     "start_time": "2021-08-26T12:50:17.789675Z"
    },
    "slideshow": {
     "slide_type": "subslide"
    }
   },
   "outputs": [
    {
     "ename": "SyntaxError",
     "evalue": "invalid syntax (227324216.py, line 3)",
     "output_type": "error",
     "traceback": [
      "\u001b[0;36m  File \u001b[0;32m\"/tmp/ipykernel_4542/227324216.py\"\u001b[0;36m, line \u001b[0;32m3\u001b[0m\n\u001b[0;31m    6inch_ladder = \"Iron Ladder\"\u001b[0m\n\u001b[0m     ^\u001b[0m\n\u001b[0;31mSyntaxError\u001b[0m\u001b[0;31m:\u001b[0m invalid syntax\n"
     ]
    }
   ],
   "source": [
    "# the first character of a variable cannot be a digit\n",
    "\n",
    "6inch_ladder = \"Iron Ladder\""
   ]
  },
  {
   "cell_type": "code",
   "execution_count": null,
   "id": "0339d251",
   "metadata": {
    "ExecuteTime": {
     "end_time": "2021-08-26T12:50:17.804159Z",
     "start_time": "2021-08-26T12:50:17.804137Z"
    },
    "slideshow": {
     "slide_type": "subslide"
    }
   },
   "outputs": [],
   "source": [
    "# reserved keywords should not be used as variable names.\n",
    "\n",
    "from keyword import kwlist\n",
    "for words in kwlist:\n",
    "    print(words, end=\", \")"
   ]
  },
  {
   "cell_type": "code",
   "execution_count": 3,
   "id": "f3ba74dc",
   "metadata": {
    "ExecuteTime": {
     "end_time": "2021-08-26T12:50:17.835780Z",
     "start_time": "2021-08-26T12:50:17.820484Z"
    },
    "slideshow": {
     "slide_type": "subslide"
    }
   },
   "outputs": [
    {
     "name": "stdout",
     "output_type": "stream",
     "text": [
      "Lenovo HP DELL\n",
      "139958562036848\n",
      "139958562299504\n",
      "139958562297712\n",
      "139958562299760\n"
     ]
    }
   ],
   "source": [
    "# are case-sensitive\n",
    "\n",
    "laptop_brand = \"Lenovo\"\n",
    "LAPTOP_BRAND = \"HP\"\n",
    "Laptop_Brand = \"DELL\"\n",
    "LAPtop_brand = \"Acer\"\n",
    "print(laptop_brand, LAPTOP_BRAND, Laptop_Brand)\n",
    "print(id(laptop_brand))\n",
    "print(id(LAPTOP_BRAND))\n",
    "print(id(Laptop_Brand))\n",
    "print(id(LAPtop_brand))"
   ]
  },
  {
   "cell_type": "code",
   "execution_count": 4,
   "id": "a36cd746",
   "metadata": {
    "ExecuteTime": {
     "end_time": "2021-08-26T12:50:17.852159Z",
     "start_time": "2021-08-26T12:50:17.841196Z"
    },
    "slideshow": {
     "slide_type": "subslide"
    }
   },
   "outputs": [],
   "source": [
    "# Conventions as Defined in PEP8\n",
    "\n",
    "# snake_case for functions and variable name\n",
    "\n",
    "name_of_the_company = \"LG\"\n",
    "employee_id = 8965362\n",
    "html_request_page01 = \"GET\"\n",
    "voice_tag_number = \"78G66J2\"\n",
    "\n",
    "# dont used names looks like digits 1 and 0\n",
    "\n",
    "Lexicans = \"commit\"\n",
    "l0go_name = \"DXC\"\n",
    "\n",
    "# Pascal case for class name\n",
    "\n",
    "SchoolName = \"ABC\"\n",
    "Alphabets = 'abcdefghijklmnopqrstuvwxyz'\n",
    "FruitNames = \"apple orange banana jackfruit grapes\".split()\n",
    "\n",
    "# Camel Case - Not recommended but no harm in using it\n",
    "\n",
    "schoolName = \"XYZ\"\n",
    "alphaNumeric = 'abcdefghijklmnopqrstuvwxyz0123456789'\n",
    "inkColors = \"blue green red black\".split()\n",
    "sCHoolName = \"GGG\"\n",
    "\n",
    "# private variable\n",
    "\n",
    "_age = 20\n",
    "\n",
    "# Double underscores\n",
    "\n",
    "__age__ = 78\n",
    "\n",
    "# single underscores\n",
    "\n",
    "_age_ = 3"
   ]
  },
  {
   "cell_type": "code",
   "execution_count": 5,
   "id": "34cc22c1",
   "metadata": {
    "ExecuteTime": {
     "end_time": "2021-08-26T12:50:17.874019Z",
     "start_time": "2021-08-26T12:50:17.863144Z"
    },
    "slideshow": {
     "slide_type": "subslide"
    }
   },
   "outputs": [
    {
     "name": "stdout",
     "output_type": "stream",
     "text": [
      "22\n",
      "22\n",
      "22\n",
      "0\n",
      "1\n",
      "2\n"
     ]
    }
   ],
   "source": [
    "# Variable unpacking\n",
    "\n",
    "a = b = c = 22\n",
    "x, y, z = range(3)\n",
    "print(a)\n",
    "print(b)\n",
    "print(c)\n",
    "print(x)\n",
    "print(y)\n",
    "print(z)"
   ]
  },
  {
   "cell_type": "markdown",
   "id": "1c7e7811",
   "metadata": {
    "slideshow": {
     "slide_type": "slide"
    }
   },
   "source": [
    "# Objects in Python"
   ]
  },
  {
   "cell_type": "code",
   "execution_count": 6,
   "id": "4ef8b2c3",
   "metadata": {
    "ExecuteTime": {
     "end_time": "2021-08-26T12:50:17.910672Z",
     "start_time": "2021-08-26T12:50:17.883950Z"
    },
    "scrolled": true,
    "slideshow": {
     "slide_type": "subslide"
    }
   },
   "outputs": [
    {
     "name": "stdout",
     "output_type": "stream",
     "text": [
      "New Jersey\n",
      "<class 'str'>\n",
      "<built-in method upper of str object at 0x7f4aa46436f0>\n",
      "\n",
      "20\n",
      "<class 'int'>\n",
      "<built-in method conjugate of int object at 0x7f4aa9ba1b90>\n",
      "\n",
      "['apple', 'orange', 'grapes', 'papaya']\n",
      "<class 'list'>\n",
      "<built-in method append of list object at 0x7f4aa46084c0>\n",
      "\n",
      "(1, 2, 3, 4, 5, 6)\n",
      "<class 'tuple'>\n",
      "<built-in method count of tuple object at 0x7f4aa45dc5e0>\n",
      "\n",
      "{'name': 'Jack', 'age': 22}\n",
      "<class 'dict'>\n",
      "<built-in method keys of dict object at 0x7f4aa4608ac0>\n",
      "\n",
      "{'red', 'violet', 'yellow', 'orange'}\n",
      "<class 'set'>\n",
      "<built-in method add of set object at 0x7f4aa4621c80>\n",
      "\n",
      "6547.567\n",
      "<class 'float'>\n",
      "<built-in method fromhex of type object at 0x90d480>\n"
     ]
    }
   ],
   "source": [
    "# Code\n",
    "\n",
    "name_of_city = \"New Jersey\"\n",
    "number_of_countries = 20\n",
    "list_of_fruits = \"apple orange grapes papaya\".split()\n",
    "tuple_of_numbers = (1, 2, 3, 4, 5, 6)\n",
    "name_and_age = {\"name\": \"Jack\", \"age\": 22}\n",
    "set_of_colors = {\"red\", \"orange\", \"violet\", \"yellow\"}\n",
    "length_of_the_road = 6547.567\n",
    "\n",
    "print(name_of_city)\n",
    "print(type(name_of_city))\n",
    "print(name_of_city.upper)\n",
    "print()\n",
    "print(number_of_countries)\n",
    "print(type(number_of_countries))\n",
    "print(number_of_countries.conjugate)\n",
    "print()\n",
    "print(list_of_fruits)\n",
    "print(type(list_of_fruits))\n",
    "print(list_of_fruits.append)\n",
    "print()\n",
    "print(tuple_of_numbers)\n",
    "print(type(tuple_of_numbers))\n",
    "print(tuple_of_numbers.count)\n",
    "print()\n",
    "print(name_and_age)\n",
    "print(type(name_and_age))\n",
    "print(name_and_age.keys)\n",
    "print()\n",
    "print(set_of_colors)\n",
    "print(type(set_of_colors))\n",
    "print(set_of_colors.add)\n",
    "print()\n",
    "print(length_of_the_road)\n",
    "print(type(length_of_the_road))\n",
    "print(length_of_the_road.fromhex)"
   ]
  },
  {
   "cell_type": "markdown",
   "id": "closing-graphic",
   "metadata": {
    "slideshow": {
     "slide_type": "slide"
    }
   },
   "source": [
    "# Indentation"
   ]
  },
  {
   "cell_type": "code",
   "execution_count": 7,
   "id": "educated-error",
   "metadata": {
    "ExecuteTime": {
     "end_time": "2021-08-26T12:50:17.934134Z",
     "start_time": "2021-08-26T12:50:17.916053Z"
    },
    "slideshow": {
     "slide_type": "subslide"
    }
   },
   "outputs": [
    {
     "name": "stdout",
     "output_type": "stream",
     "text": [
      "22\n",
      "32\n",
      "1,2,3,4,\n",
      "<class '__main__.Fruitnames'>\n"
     ]
    }
   ],
   "source": [
    "# Code\n",
    "\n",
    "x = 22\n",
    "# Condition checks\n",
    "if x < 100:\n",
    "    print(x)\n",
    "    \n",
    "# Functions\n",
    "def f1(x):\n",
    "    return x\n",
    "print(f1(32))\n",
    "\n",
    "# For and While Loops\n",
    "for iteration in [1,2,3,4]:\n",
    "    print(iteration, end=\",\")\n",
    "    \n",
    "print()\n",
    "\n",
    "# Classes\n",
    "class Fruitnames:\n",
    "    pass\n",
    "\n",
    "print(Fruitnames)\n",
    "\n",
    "# Context Managers\n",
    "with open(\"filename.txt\", \"w\") as file_name:\n",
    "    file_name.write(\"First Line\\n\")\n",
    "\n",
    "# try, except, else, finally bloack\n",
    "try:\n",
    "    pass\n",
    "except:\n",
    "    pass\n",
    "else:\n",
    "    pass\n",
    "finally:\n",
    "    pass\n"
   ]
  },
  {
   "cell_type": "markdown",
   "id": "french-value",
   "metadata": {
    "slideshow": {
     "slide_type": "slide"
    }
   },
   "source": [
    "# Data Types"
   ]
  },
  {
   "cell_type": "markdown",
   "id": "thrown-hampton",
   "metadata": {
    "slideshow": {
     "slide_type": "subslide"
    }
   },
   "source": [
    "<img src = \"img/Datatypes.png\" alt = \"DataTypes\" height = \"2000\" width = \"2140\" />"
   ]
  },
  {
   "cell_type": "markdown",
   "id": "falling-ranking",
   "metadata": {
    "slideshow": {
     "slide_type": "slide"
    }
   },
   "source": [
    "# Numbers"
   ]
  },
  {
   "cell_type": "markdown",
   "id": "steady-photographer",
   "metadata": {
    "slideshow": {
     "slide_type": "subslide"
    }
   },
   "source": [
    "<img src = \"img/numbers.png\" alt = \"Numbers\" height = \"2000\" width = \"2140\" />"
   ]
  },
  {
   "cell_type": "code",
   "execution_count": 8,
   "id": "competitive-armenia",
   "metadata": {
    "ExecuteTime": {
     "end_time": "2021-08-26T12:50:17.959474Z",
     "start_time": "2021-08-26T12:50:17.938768Z"
    },
    "slideshow": {
     "slide_type": "subslide"
    }
   },
   "outputs": [
    {
     "name": "stdout",
     "output_type": "stream",
     "text": [
      "78\n",
      "<class 'int'>\n",
      "0.004567\n",
      "<class 'float'>\n",
      "(-45-22j)\n",
      "<class 'complex'>\n",
      "b'100110'\n",
      "<class 'bytes'>\n",
      "0x4e\n",
      "<class 'str'>\n",
      "0o26\n",
      "<class 'str'>\n",
      "2e+64\n"
     ]
    }
   ],
   "source": [
    "# Code\n",
    "int_number = 78\n",
    "float_number = 45.67e-4\n",
    "complex_number = -45-22j\n",
    "binary_number = b'100110'\n",
    "hex_number = hex(int_number)\n",
    "oct_number = oct(22)\n",
    "\n",
    "print(int_number)\n",
    "print(type(int_number))\n",
    "print(float_number)\n",
    "print(type(float_number))\n",
    "print(complex_number)\n",
    "print(type(complex_number))\n",
    "print(binary_number)\n",
    "print(type(binary_number))\n",
    "print(hex_number)\n",
    "print(type(hex_number))\n",
    "print(oct_number)\n",
    "print(type(oct_number))\n",
    "\n",
    "# in python there is no limitation for the digit count, \n",
    "# it depends on the cpu architecture in general 64 bit so its infinte\n",
    "\n",
    "large_number = 2e64\n",
    "print(large_number)"
   ]
  },
  {
   "cell_type": "code",
   "execution_count": 9,
   "id": "9588bb93",
   "metadata": {
    "ExecuteTime": {
     "end_time": "2021-08-26T12:50:17.975641Z",
     "start_time": "2021-08-26T12:50:17.962609Z"
    },
    "scrolled": true,
    "slideshow": {
     "slide_type": "subslide"
    }
   },
   "outputs": [
    {
     "name": "stdout",
     "output_type": "stream",
     "text": [
      "93743500462591.44\n",
      "4\n",
      "2.718281828459045\n",
      "3.141592653589793\n",
      "6.283185307179586\n",
      "0.44914632747405453\n",
      "0.8110443877081378\n",
      "-0.8486021709533231\n",
      "866\n"
     ]
    }
   ],
   "source": [
    "# Math function\n",
    "\n",
    "import math\n",
    "\n",
    "# print(dir(math))\n",
    "print(math.sqrt(8787843878979879879797987987))\n",
    "print(math.floor(4.55))\n",
    "print(math.e)\n",
    "print(math.pi)\n",
    "print(math.tau)\n",
    "print(math.sin(37884))\n",
    "print(math.tan(274))\n",
    "print(math.cos(744))\n",
    "print(math.ceil(865.188888))"
   ]
  },
  {
   "cell_type": "code",
   "execution_count": 10,
   "id": "673a50fa",
   "metadata": {
    "ExecuteTime": {
     "end_time": "2021-08-26T12:50:17.994619Z",
     "start_time": "2021-08-26T12:50:17.977928Z"
    },
    "slideshow": {
     "slide_type": "subslide"
    }
   },
   "outputs": [
    {
     "name": "stdout",
     "output_type": "stream",
     "text": [
      "11096.845714285713\n",
      "1\n",
      "129.0\n"
     ]
    }
   ],
   "source": [
    "# PARANETHESIS, EXPONENT, MULTIPLICATION, DIVISION, ADDITION, AND SUBTRACTION\n",
    "expression_1 = 22 + 646 * (27 - (22 / 2) + 8 / 7) + 0.56\n",
    "expression_2 = round((60 + 10 * (20 - 2 / 18)) % 2) # % remainder\n",
    "expression_3 = (60 + 10 * (20 - 2 / 18)) // 2 # % Quotient\n",
    "print(expression_1)\n",
    "print(expression_2)\n",
    "print(expression_3)"
   ]
  },
  {
   "cell_type": "markdown",
   "id": "cardiac-tanzania",
   "metadata": {
    "slideshow": {
     "slide_type": "slide"
    }
   },
   "source": [
    "# Boolean"
   ]
  },
  {
   "cell_type": "markdown",
   "id": "alert-selling",
   "metadata": {
    "slideshow": {
     "slide_type": "subslide"
    }
   },
   "source": [
    "<img src = \"img/bool.png\" alt = \"Boolean\" height = \"2000\" width = \"2140\" />"
   ]
  },
  {
   "cell_type": "code",
   "execution_count": 11,
   "id": "protective-brake",
   "metadata": {
    "ExecuteTime": {
     "end_time": "2021-08-26T12:50:18.019387Z",
     "start_time": "2021-08-26T12:50:17.996889Z"
    },
    "scrolled": true,
    "slideshow": {
     "slide_type": "subslide"
    }
   },
   "outputs": [
    {
     "name": "stdout",
     "output_type": "stream",
     "text": [
      "b1 = True\n",
      "b2 = False\n",
      "b3 = True\n",
      "b4 = False\n",
      "b5 = False\n",
      "b6 = True\n",
      "b7 = False\n",
      "b8 = True\n",
      "b9 = True\n",
      "b10 = False\n",
      "any = True\n",
      "all = False\n",
      "False\n"
     ]
    }
   ],
   "source": [
    "# Code\n",
    "b1 = bool([1, 2, 3, 4, 5, 6])\n",
    "b2 = bool([]) # the other way is list()\n",
    "b3 = bool(dict(a=10, b=20, c=30))\n",
    "b4 = bool(dict())\n",
    "b5 = bool(\"\")\n",
    "b6 = bool(\"Apple\")\n",
    "b7 = bool(int())\n",
    "b8 = bool(int(78))\n",
    "b9 = bool({1, 2, 4, 5, 6, 7, 8})\n",
    "b10 = bool({})\n",
    "\n",
    "print(f\"{b1 = }\")\n",
    "print(f\"{b2 = }\")\n",
    "print(f\"{b3 = }\")\n",
    "print(f\"{b4 = }\")\n",
    "print(f\"{b5 = }\")\n",
    "print(f\"{b6 = }\")\n",
    "print(f\"{b7 = }\")\n",
    "print(f\"{b8 = }\")\n",
    "print(f\"{b9 = }\")\n",
    "print(f\"{b10 = }\")\n",
    "print(f\"any = {any((b1, b3, b5, b10))}\")\n",
    "print(f\"all = {all((b1, b3, b5, b10))}\")\n",
    "print(10 > 22)"
   ]
  },
  {
   "cell_type": "markdown",
   "id": "insured-house",
   "metadata": {
    "slideshow": {
     "slide_type": "slide"
    }
   },
   "source": [
    "# Strings"
   ]
  },
  {
   "cell_type": "markdown",
   "id": "composite-tuning",
   "metadata": {
    "slideshow": {
     "slide_type": "subslide"
    }
   },
   "source": [
    "<img src = \"img/strings.png\" alt = \"Strings\" height = \"2000\" width = \"2140\" />"
   ]
  },
  {
   "cell_type": "code",
   "execution_count": 12,
   "id": "loaded-closer",
   "metadata": {
    "ExecuteTime": {
     "end_time": "2021-08-26T12:50:18.037274Z",
     "start_time": "2021-08-26T12:50:18.022914Z"
    },
    "slideshow": {
     "slide_type": "subslide"
    }
   },
   "outputs": [
    {
     "name": "stdout",
     "output_type": "stream",
     "text": [
      "b\n",
      "==========\n",
      "139958651108464\n",
      "==========\n",
      "True\n",
      "==========\n",
      "apple\n",
      "==========\n",
      "This is an apple isn't it?\n",
      "==========\n",
      "First Line\n",
      "Second Line\n",
      "Third Line\n",
      "==========\n",
      "New Line appended\\n\n",
      "==========\n",
      "New Line appended\n",
      "\ttab space given\n",
      "==========\n",
      "\\\n",
      "==========\n",
      "\f",
      "\n",
      "==========\n",
      "Hello \r",
      "World!\n",
      "==========\n"
     ]
    }
   ],
   "source": [
    "# Code\n",
    "s1 = \"b\"\n",
    "s2 = 'apple'\n",
    "s3 = \"This is an apple isn't it?\"\n",
    "s4 = '''First Line\n",
    "Second Line\n",
    "Third Line'''\n",
    "s5 = r\"New Line appended\\n\"\n",
    "s6 = \"New Line appended\\n\\ttab space given\"\n",
    "s7 = '\\\\'\n",
    "print(s1)\n",
    "print(\"=\"*10)\n",
    "print(id(s1))\n",
    "print(\"=\"*10)\n",
    "print(bool(s1))\n",
    "print(\"=\"*10)\n",
    "print(s2)\n",
    "print(\"=\"*10)\n",
    "print(s3)\n",
    "print(\"=\"*10)\n",
    "print(s4)\n",
    "print(\"=\"*10)\n",
    "print(s5)\n",
    "print(\"=\"*10)\n",
    "print(s6)\n",
    "print(\"=\"*10)\n",
    "print(s7)\n",
    "print(\"=\"*10)\n",
    "print(\"\\x0c\")\n",
    "print(\"=\"*10)\n",
    "print(\"Hello \\rWorld!\")\n",
    "print(\"=\"*10)"
   ]
  },
  {
   "cell_type": "code",
   "execution_count": 13,
   "id": "4b573c55",
   "metadata": {
    "ExecuteTime": {
     "end_time": "2021-08-26T12:50:18.071697Z",
     "start_time": "2021-08-26T12:50:18.041838Z"
    },
    "slideshow": {
     "slide_type": "subslide"
    }
   },
   "outputs": [
    {
     "name": "stdout",
     "output_type": "stream",
     "text": [
      "['Formatter', 'Template', '_ChainMap', '__all__', '__builtins__', '__cached__', '__doc__', '__file__', '__loader__', '__name__', '__package__', '__spec__', '_re', '_sentinel_dict', '_string', 'ascii_letters', 'ascii_lowercase', 'ascii_uppercase', 'capwords', 'digits', 'hexdigits', 'octdigits', 'printable', 'punctuation', 'whitespace']\n",
      "abcdefghijklmnopqrstuvwxyzABCDEFGHIJKLMNOPQRSTUVWXYZ\n",
      "abcdefghijklmnopqrstuvwxyz\n",
      "ABCDEFGHIJKLMNOPQRSTUVWXYZ\n",
      "Apple\n",
      "0123456789\n",
      "0123456789abcdefABCDEF\n",
      "01234567\n",
      "0123456789abcdefghijklmnopqrstuvwxyzABCDEFGHIJKLMNOPQRSTUVWXYZ!\"#$%&'()*+,-./:;<=>?@[\\]^_`{|}~ \t\n",
      "\r",
      "\u000b",
      "\f",
      "\n",
      "!\"#$%&'()*+,-./:;<=>?@[\\]^_`{|}~\n"
     ]
    },
    {
     "data": {
      "text/plain": [
       "' \\t\\n\\r\\x0b\\x0c'"
      ]
     },
     "execution_count": 13,
     "metadata": {},
     "output_type": "execute_result"
    }
   ],
   "source": [
    "import string\n",
    "print(dir(string))\n",
    "print(string.ascii_letters)\n",
    "print(string.ascii_lowercase)\n",
    "print(string.ascii_uppercase)\n",
    "print(string.capwords(s2))\n",
    "print(string.digits)\n",
    "print(string.hexdigits)\n",
    "print(string.octdigits)\n",
    "print(string.printable)\n",
    "print(string.punctuation)\n",
    "string.whitespace"
   ]
  },
  {
   "cell_type": "markdown",
   "id": "first-arrest",
   "metadata": {
    "slideshow": {
     "slide_type": "slide"
    }
   },
   "source": [
    "# Lists"
   ]
  },
  {
   "cell_type": "markdown",
   "id": "mysterious-mouse",
   "metadata": {
    "slideshow": {
     "slide_type": "subslide"
    }
   },
   "source": [
    "<img src = \"img/lists.png\" alt = \"Lists\" height = \"2000\" width = \"2140\" />"
   ]
  },
  {
   "cell_type": "code",
   "execution_count": 14,
   "id": "independent-zambia",
   "metadata": {
    "ExecuteTime": {
     "end_time": "2021-08-26T12:50:18.092706Z",
     "start_time": "2021-08-26T12:50:18.079230Z"
    },
    "slideshow": {
     "slide_type": "subslide"
    }
   },
   "outputs": [
    {
     "name": "stdout",
     "output_type": "stream",
     "text": [
      "L1 = [1, 8, 6, 'Sun', 'Earth']\n",
      "\n",
      "L2 = ['0b1111011011001', '0x43', 76, -56, 45.34, (67+89j), [1, 3, 4], 'a', 'alpha', 'a long list', {'a': 1, 'b': 2}, {1, 2, 3}, (78, 56, 45, 34), [[100, 200], [400, 500], ['orange', 'violet', 'indigo']]]\n",
      "\n",
      "\n",
      "L2 = ['0b1111011011001', '0x43', 76, 'Jupyter', 45.34, (67+89j), [1, 3, 4], 'a', 'alpha', 'a long list', {'a': 1, 'b': 2}, {1, 2, 3}, (78, 56, 45, 34), [[100, 200], [400, 500], ['orange', 'violet', 'indigo']]]\n"
     ]
    }
   ],
   "source": [
    "# Code\n",
    "L1 = list((1, 8, 6, \"Sun\", \"Earth\"))\n",
    "L2 = [bin(7897), hex(67), 76, -56, 45.34, 67+89j, [1, 3, 4], \n",
    "      \"a\", \"alpha\", \"a long list\", {\"a\": 1, \"b\": 2}, {1,2,3,2,2,3}, \n",
    "      (78, 56, 45, 34), [[100, 200], [400, 500], [\"orange\", \"violet\", \"indigo\"]]]\n",
    "print(f\"{L1 = }\")\n",
    "print()\n",
    "print(f\"{L2 = }\")\n",
    "print()\n",
    "# After changing element of index 3 \n",
    "print()\n",
    "L2[3] = \"Jupyter\"\n",
    "print(f\"{L2 = }\")\n"
   ]
  },
  {
   "cell_type": "markdown",
   "id": "floating-partnership",
   "metadata": {
    "slideshow": {
     "slide_type": "slide"
    }
   },
   "source": [
    "# Tuples"
   ]
  },
  {
   "cell_type": "markdown",
   "id": "included-study",
   "metadata": {
    "slideshow": {
     "slide_type": "subslide"
    }
   },
   "source": [
    "<img src = \"img/tuple.png\" alt = \"Tuples\" height = \"2000\" width = \"2140\" />"
   ]
  },
  {
   "cell_type": "code",
   "execution_count": 15,
   "id": "mysterious-source",
   "metadata": {
    "ExecuteTime": {
     "end_time": "2021-08-26T12:50:18.110103Z",
     "start_time": "2021-08-26T12:50:18.096220Z"
    },
    "slideshow": {
     "slide_type": "subslide"
    }
   },
   "outputs": [
    {
     "name": "stdout",
     "output_type": "stream",
     "text": [
      "(8, 9, 10, 11)\n",
      "(7, 6, 5, 4)\n",
      "('Sun', 'Mon', 'Tue', 'Wed', 'Thurs', 'Fri', 'Sat')\n"
     ]
    }
   ],
   "source": [
    "# Code\n",
    "t1 = 8, 9, 10, 11\n",
    "t2 = (7, 6, 5, 4)\n",
    "t3 = \"Sun\", \"Mon\", \"Tue\", \"Wed\", \"Thurs\", \"Fri\", \"Sat\"\n",
    "print(t1)\n",
    "print(t2)\n",
    "print(t3)"
   ]
  },
  {
   "cell_type": "markdown",
   "id": "arabic-avenue",
   "metadata": {
    "slideshow": {
     "slide_type": "slide"
    }
   },
   "source": [
    "# Sets"
   ]
  },
  {
   "cell_type": "markdown",
   "id": "artistic-citizenship",
   "metadata": {
    "slideshow": {
     "slide_type": "subslide"
    }
   },
   "source": [
    "<img src = \"img/sets.png\" alt = \"Sets\" height = \"2000\" width = \"2140\" />"
   ]
  },
  {
   "cell_type": "code",
   "execution_count": 16,
   "id": "varying-punch",
   "metadata": {
    "ExecuteTime": {
     "end_time": "2021-08-26T12:50:18.203123Z",
     "start_time": "2021-08-26T12:50:18.115801Z"
    },
    "slideshow": {
     "slide_type": "subslide"
    }
   },
   "outputs": [
    {
     "name": "stdout",
     "output_type": "stream",
     "text": [
      "set1 = {20000.0, 33, 1, 786437, 65487878, 7647672, 54534634}\n",
      "\n",
      "set2 = {1, 2, 3, 4, 5, 8, 10, 11}\n",
      "\n"
     ]
    },
    {
     "ename": "TypeError",
     "evalue": "unhashable type: 'list'",
     "output_type": "error",
     "traceback": [
      "\u001b[0;31m---------------------------------------------------------------------------\u001b[0m",
      "\u001b[0;31mTypeError\u001b[0m                                 Traceback (most recent call last)",
      "\u001b[0;32m/tmp/ipykernel_4542/2848391102.py\u001b[0m in \u001b[0;36m<module>\u001b[0;34m\u001b[0m\n\u001b[1;32m      6\u001b[0m \u001b[0mprint\u001b[0m\u001b[0;34m(\u001b[0m\u001b[0;34mf\"{set2 = }\"\u001b[0m\u001b[0;34m)\u001b[0m\u001b[0;34m\u001b[0m\u001b[0;34m\u001b[0m\u001b[0m\n\u001b[1;32m      7\u001b[0m \u001b[0mprint\u001b[0m\u001b[0;34m(\u001b[0m\u001b[0;34m)\u001b[0m\u001b[0;34m\u001b[0m\u001b[0;34m\u001b[0m\u001b[0m\n\u001b[0;32m----> 8\u001b[0;31m \u001b[0mset3\u001b[0m \u001b[0;34m=\u001b[0m \u001b[0;34m{\u001b[0m\u001b[0;34m(\u001b[0m\u001b[0;36m1\u001b[0m\u001b[0;34m,\u001b[0m\u001b[0;36m2\u001b[0m\u001b[0;34m,\u001b[0m\u001b[0;36m3\u001b[0m\u001b[0;34m,\u001b[0m\u001b[0;36m5\u001b[0m\u001b[0;34m)\u001b[0m\u001b[0;34m,\u001b[0m \u001b[0;34m[\u001b[0m\u001b[0;34m]\u001b[0m\u001b[0;34m,\u001b[0m \u001b[0;34m\"apple\"\u001b[0m\u001b[0;34m,\u001b[0m \u001b[0;36m0.567e3\u001b[0m\u001b[0;34m}\u001b[0m \u001b[0;31m# unhashable or mutable datatype not allowed in sets\u001b[0m\u001b[0;34m\u001b[0m\u001b[0;34m\u001b[0m\u001b[0m\n\u001b[0m\u001b[1;32m      9\u001b[0m \u001b[0mprint\u001b[0m\u001b[0;34m(\u001b[0m\u001b[0;34mf\"{set3 = }\"\u001b[0m\u001b[0;34m)\u001b[0m\u001b[0;34m\u001b[0m\u001b[0;34m\u001b[0m\u001b[0m\n",
      "\u001b[0;31mTypeError\u001b[0m: unhashable type: 'list'"
     ]
    }
   ],
   "source": [
    "# Code\n",
    "set1 = {786437, 65487878, 54534634, 7647672, 33, 1, 2e4}\n",
    "print(f\"{set1 = }\")\n",
    "print()\n",
    "set2 = {1, 2, 2, 3, 3, 4, 5, 8, 8, 10, 10 ,10, 11, 1}\n",
    "print(f\"{set2 = }\")\n",
    "print()\n",
    "set3 = {(1,2,3,5), [], \"apple\", 0.567e3} # unhashable or mutable datatype not allowed in sets\n",
    "print(f\"{set3 = }\")"
   ]
  },
  {
   "cell_type": "markdown",
   "id": "suffering-identity",
   "metadata": {
    "slideshow": {
     "slide_type": "slide"
    }
   },
   "source": [
    "# Dictionaries"
   ]
  },
  {
   "cell_type": "markdown",
   "id": "excellent-currency",
   "metadata": {
    "slideshow": {
     "slide_type": "subslide"
    }
   },
   "source": [
    "<img src = \"img/dictionaries.png\" alt = \"Dictionaries\" height = \"2000\" width = \"2140\" />"
   ]
  },
  {
   "cell_type": "code",
   "execution_count": null,
   "id": "conventional-timeline",
   "metadata": {
    "ExecuteTime": {
     "end_time": "2021-08-26T12:50:18.206955Z",
     "start_time": "2021-08-26T12:50:18.206926Z"
    },
    "slideshow": {
     "slide_type": "subslide"
    }
   },
   "outputs": [],
   "source": [
    "# Code\n",
    "d1 = dict(a=\"android\", b=\"blackberry\", c=\"c++\", d=(\"django1\", \"django2\", \"django3\"))\n",
    "d2 = dict((('a', 1), ('b', 2), ('c', 3), ('d', 4)))\n",
    "d3 = {\"Studio1\": \"Marvel\", \"Studio2\": \"Universal\", \"Studio3\": \"Disney\", \"Studio4\": \"Pixar\"}\n",
    "\n",
    "print(f\"{d1 = }\")\n",
    "print(f\"{d1.keys() = }\")\n",
    "print(f\"{d1.values() = }\")\n",
    "print()\n",
    "print(f\"{d2 = }\")\n",
    "print(f\"{d2.keys() = }\")\n",
    "print(f\"{d2.values() = }\")\n",
    "print()\n",
    "print(f\"{d3 = }\")\n",
    "print(f\"{d3.keys() = }\")\n",
    "print(f\"{d3.values() = }\")\n"
   ]
  },
  {
   "cell_type": "markdown",
   "id": "acoustic-civilian",
   "metadata": {
    "slideshow": {
     "slide_type": "slide"
    }
   },
   "source": [
    "# Condition Expressions"
   ]
  },
  {
   "cell_type": "markdown",
   "id": "classical-mapping",
   "metadata": {
    "slideshow": {
     "slide_type": "subslide"
    }
   },
   "source": [
    "<img src = \"img/conditions.png\" alt = \"Conditions\" height = \"2000\" width = \"2140\" />"
   ]
  },
  {
   "cell_type": "code",
   "execution_count": null,
   "id": "infectious-toddler",
   "metadata": {
    "ExecuteTime": {
     "end_time": "2021-08-26T12:50:18.209614Z",
     "start_time": "2021-08-26T12:50:18.209584Z"
    },
    "slideshow": {
     "slide_type": "subslide"
    }
   },
   "outputs": [],
   "source": [
    "# Code 1\n",
    "\n",
    "# checking objects similarity\n",
    "\n",
    "language = input(\"Enter the language name: \")\n",
    "\n",
    "if language.title() == \"Python\":\n",
    "    print(\"Name of the language is: \", language.upper())\n",
    "    \n",
    "elif language.title() == \"Java\":\n",
    "    print(\"Name of the language is: \", language.upper())\n",
    "    \n",
    "else:\n",
    "    print(\"unknown language\")"
   ]
  },
  {
   "cell_type": "code",
   "execution_count": null,
   "id": "077d2539",
   "metadata": {
    "ExecuteTime": {
     "end_time": "2021-08-26T12:50:18.211437Z",
     "start_time": "2021-08-26T12:50:18.211400Z"
    },
    "slideshow": {
     "slide_type": "subslide"
    }
   },
   "outputs": [],
   "source": [
    "# Code 2\n",
    "# Checking objects availablity in a container\n",
    "if 'foo' in ['foo', 'bar', 'baz']:\n",
    "    print(\"Outer Condition is True\")\n",
    "    \n",
    "    if 10 < 20:\n",
    "        print(\"Inner Condition 1\")\n",
    "        \n",
    "        if 100 > 2:\n",
    "            print(\"Level 2 Inner Condition 1\")\n",
    "        \n",
    "    print(\"Between inner condition\")\n",
    "    \n",
    "    if 10 > 20:\n",
    "        print(\"Inner Condition 2\")\n",
    "    \n",
    "    print(\"End of Outer Condition\")\n"
   ]
  },
  {
   "cell_type": "markdown",
   "id": "precious-vienna",
   "metadata": {
    "slideshow": {
     "slide_type": "slide"
    }
   },
   "source": [
    "# Comparison Operators"
   ]
  },
  {
   "cell_type": "markdown",
   "id": "delayed-railway",
   "metadata": {
    "slideshow": {
     "slide_type": "subslide"
    }
   },
   "source": [
    "These Operators will allow us to compare variables and output a Boolean value (True or False)\n",
    "\n",
    "### Table of Comparison Operators\n",
    "<table class=\"table table-bordered\">\n",
    "<tr>\n",
    "<th style=\"width:10%\">Operator</th><th style=\"width:45%\">Description</th><th>Example</th>\n",
    "</tr>\n",
    "<tr>\n",
    "<td>==</td>\n",
    "<td>If the values of two operands are equal, then the condition becomes true.</td>\n",
    "<td> (a == b) is not true.</td>\n",
    "</tr>\n",
    "<tr>\n",
    "<td>!=</td>\n",
    "<td>If values of two operands are not equal, then condition becomes true.</td>\n",
    "<td>(a != b) is true</td>\n",
    "</tr>\n",
    "<tr>\n",
    "<td>&lt;&gt;</td>\n",
    "<td>If values of two operands are not equal, then condition becomes true.</td>\n",
    "<td> (a &lt;&gt; b) is true. This is similar to != operator.</td>\n",
    "</tr>\n",
    "<tr>\n",
    "<td>&gt;</td>\n",
    "<td>If the value of left operand is greater than the value of right operand, then condition becomes true.</td>\n",
    "<td> (a &gt; b) is not true.</td>\n",
    "</tr>\n",
    "<tr>\n",
    "<td>&lt;</td>\n",
    "<td>If the value of left operand is less than the value of right operand, then condition becomes true.</td>\n",
    "<td> (a &lt; b) is true.</td>\n",
    "</tr>\n",
    "<tr>\n",
    "<td>&gt;=</td>\n",
    "<td>If the value of left operand is greater than or equal to the value of right operand, then condition becomes true.</td>\n",
    "<td> (a &gt;= b) is not true. </td>\n",
    "</tr>\n",
    "<tr>\n",
    "<td>&lt;=</td>\n",
    "<td>If the value of left operand is less than or equal to the value of right operand, then condition becomes true.</td>\n",
    "<td> (a &lt;= b) is true. </td>\n",
    "</tr>\n",
    "</table>"
   ]
  },
  {
   "cell_type": "code",
   "execution_count": null,
   "id": "hungarian-publicity",
   "metadata": {
    "ExecuteTime": {
     "end_time": "2021-08-26T12:50:18.215172Z",
     "start_time": "2021-08-26T12:50:18.215141Z"
    },
    "slideshow": {
     "slide_type": "subslide"
    }
   },
   "outputs": [],
   "source": [
    "# Code\n",
    "from copy import copy\n",
    "\n",
    "a = 100\n",
    "b = 100\n",
    "c = copy(a)\n",
    "print(a == b)\n",
    "print(a is b)\n",
    "print(a is c)\n",
    "print(id(a))\n",
    "print(id(b))\n",
    "print(id(c))\n",
    "print(\"===================\")\n",
    "list1 = []\n",
    "list2 = []\n",
    "print(list1 == list2)\n",
    "print(id(list1))\n",
    "print(id(list2))\n",
    "print(list1 is list2)\n",
    "print(\"===================\")\n",
    "print(a is not b)\n",
    "print(list1 is not list2)\n",
    "print(\"===================\")\n",
    "print(1 > 2 or 200 > 2)\n",
    "print(\"===================\")\n",
    "print(list1 > list2  or 'foo' in ['foo', 'bar', 'baz'] and 1 == 1)\n",
    "print(\"===================\")\n",
    "print(1 != 100)\n",
    "print(\"===================\")\n",
    "print(2 >= 2)"
   ]
  },
  {
   "cell_type": "markdown",
   "id": "searching-stanford",
   "metadata": {
    "slideshow": {
     "slide_type": "slide"
    }
   },
   "source": [
    "# Loops"
   ]
  },
  {
   "cell_type": "markdown",
   "id": "domestic-hundred",
   "metadata": {
    "slideshow": {
     "slide_type": "subslide"
    }
   },
   "source": [
    "<img src = \"img/loops.png\" alt = \"Loops\" height = \"2000\" width = \"2140\" />"
   ]
  },
  {
   "cell_type": "code",
   "execution_count": null,
   "id": "6665c04b",
   "metadata": {
    "ExecuteTime": {
     "end_time": "2021-08-26T12:50:18.218274Z",
     "start_time": "2021-08-26T12:50:18.218245Z"
    },
    "slideshow": {
     "slide_type": "subslide"
    }
   },
   "outputs": [],
   "source": [
    "# For Loop Code\n",
    "print(f\"{L2 = }\")\n",
    "print(\"===============\")\n",
    "\n",
    "# Loop based on elements inside List object\n",
    "for i in L2:\n",
    "    print(i)\n",
    "print(\"===============\")\n",
    "for i, j in d3.items():\n",
    "    print(i + \" : \" + j)\n",
    "print(\"===============\")\n",
    "\n",
    "# Loop based on number range\n",
    "for i in range(1, 10, 1):\n",
    "    print(i, end=\" \")\n",
    "print(\"\\n\")\n",
    "for i in range(10, 100):\n",
    "    if i % 12 == 0:\n",
    "        print(i, end=\" \")"
   ]
  },
  {
   "cell_type": "code",
   "execution_count": null,
   "id": "eb259c9d",
   "metadata": {
    "ExecuteTime": {
     "end_time": "2021-08-26T12:50:18.230497Z",
     "start_time": "2021-08-26T12:50:18.230474Z"
    },
    "slideshow": {
     "slide_type": "subslide"
    }
   },
   "outputs": [],
   "source": [
    "# Definite While Loop Code\n",
    "\n",
    "n = 5\n",
    "while n >= 0:\n",
    "    print(n)\n",
    "    n = n - 1\n",
    "\n",
    "print(\"===============\")\n",
    "    \n",
    "# In-Definite While Loop Code\n",
    "\n",
    "# n = 5\n",
    "# while n > 0:\n",
    "#     print(n)\n",
    "#     n = n + 1\n",
    "print(\"===============\")\n",
    "# container based while loop\n",
    "a = ['foo', 'bar', 'baz', 'baaz']\n",
    "while a:\n",
    "    print(a.pop(-1))\n",
    "print(\"===============\")\n",
    "\n",
    "# while loop with break statement\n",
    "n = 5\n",
    "while n > 0:\n",
    "    n -= 1\n",
    "    if n == 2:\n",
    "        break\n",
    "    print(n)\n",
    "print(\"loop ended\")\n",
    "print(\"===============\")\n",
    "\n",
    "# while loop with continue and break statement\n",
    "n = 10\n",
    "while n > 0:\n",
    "    n -= 1\n",
    "    if n == 5:\n",
    "        continue\n",
    "    if n == 2:\n",
    "        break\n",
    "    print(n)\n",
    "print(\"Loop ended\")"
   ]
  },
  {
   "cell_type": "markdown",
   "id": "random-climb",
   "metadata": {
    "slideshow": {
     "slide_type": "slide"
    }
   },
   "source": [
    "<h1><font face= \"Helvetica\" color = #2a7bbd>Built-In-Functions</font></h1>"
   ]
  },
  {
   "attachments": {
    "image.png": {
     "image/png": "[encoded data removed]"
    }
   },
   "cell_type": "markdown",
   "id": "indian-surge",
   "metadata": {
    "slideshow": {
     "slide_type": "subslide"
    }
   },
   "source": [
    "![image.png](attachment:image.png)"
   ]
  },
  {
   "cell_type": "code",
   "execution_count": null,
   "id": "489b027c",
   "metadata": {
    "ExecuteTime": {
     "end_time": "2021-08-26T12:50:18.235451Z",
     "start_time": "2021-08-26T12:50:18.235421Z"
    },
    "slideshow": {
     "slide_type": "subslide"
    }
   },
   "outputs": [],
   "source": [
    "# Code"
   ]
  }
 ],
 "metadata": {
  "celltoolbar": "Slideshow",
  "hide_input": false,
  "kernelspec": {
   "display_name": "Python 3 (ipykernel)",
   "language": "python",
   "name": "python3"
  },
  "language_info": {
   "codemirror_mode": {
    "name": "ipython",
    "version": 3
   },
   "file_extension": ".py",
   "mimetype": "text/x-python",
   "name": "python",
   "nbconvert_exporter": "python",
   "pygments_lexer": "ipython3",
   "version": "3.9.5"
  },
  "toc": {
   "base_numbering": 1,
   "nav_menu": {},
   "number_sections": true,
   "sideBar": true,
   "skip_h1_title": false,
   "title_cell": "Table of Contents",
   "title_sidebar": "Contents",
   "toc_cell": false,
   "toc_position": {
    "height": "calc(100% - 180px)",
    "left": "10px",
    "top": "150px",
    "width": "164.994px"
   },
   "toc_section_display": true,
   "toc_window_display": false
  },
  "varInspector": {
   "cols": {
    "lenName": 16,
    "lenType": 16,
    "lenVar": 40
   },
   "kernels_config": {
    "python": {
     "delete_cmd_postfix": "",
     "delete_cmd_prefix": "del ",
     "library": "var_list.py",
     "varRefreshCmd": "print(var_dic_list())"
    },
    "r": {
     "delete_cmd_postfix": ") ",
     "delete_cmd_prefix": "rm(",
     "library": "var_list.r",
     "varRefreshCmd": "cat(var_dic_list()) "
    }
   },
   "position": {
    "height": "763.85px",
    "left": "154px",
    "right": "20px",
    "top": "75px",
    "width": "800px"
   },
   "types_to_exclude": [
    "module",
    "function",
    "builtin_function_or_method",
    "instance",
    "_Feature"
   ],
   "window_display": false
  }
 },
 "nbformat": 4,
 "nbformat_minor": 5
}
