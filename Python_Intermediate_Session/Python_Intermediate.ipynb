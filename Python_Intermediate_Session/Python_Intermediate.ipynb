{
 "cells": [
  {
   "cell_type": "markdown",
   "source": [
    "# Indexing and Slicing"
   ],
   "metadata": {
    "slideshow": {
     "slide_type": "slide"
    }
   }
  },
  {
   "cell_type": "markdown",
   "source": [
    "<img src = \"img/index_slice.png\" alt = \"Inded and Slices\" height = \"2000\" width = \"2140\" />"
   ],
   "metadata": {
    "slideshow": {
     "slide_type": "subslide"
    }
   }
  },
  {
   "cell_type": "code",
   "execution_count": 110,
   "source": [
    "# Code\r\n",
    "\r\n",
    "L1 = \"spam ham egg bacon spring boot\".split()\r\n",
    "print(L1)\r\n",
    "\r\n",
    "# Indexing\r\n",
    "\r\n",
    "print(L1[3])\r\n",
    "print(L1[-3])\r\n",
    "print()\r\n",
    "print(L1[5])\r\n",
    "print(L1[-1])\r\n",
    "print()\r\n",
    "# Slicing\r\n",
    "\r\n",
    "# print(L1[start: stop: step])\r\n",
    "\r\n",
    "# Forward List\r\n",
    "\r\n",
    "print(L1[0:1]) # or print(L1[:1])\r\n",
    "print(L1[0:2]) # or print(L1[:2])\r\n",
    "print(L1[0:3]) # or print(L1[:3])\r\n",
    "print(L1[0:4]) # or print(L1[:4])\r\n",
    "print(L1[0:5]) # or print(L1[:5])\r\n",
    "print(L1[0:6]) # or print(L1[:6])\r\n",
    "print(L1[::])  # All elements\r\n",
    "print(L1) # All elements\r\n",
    "\r\n",
    "print()\r\n",
    "# Reverse List\r\n",
    "\r\n",
    "print(L1[-1::-1])\r\n",
    "print(L1[-2::-1])\r\n",
    "print(L1[-3::-1])\r\n",
    "print(L1[-4::-1])\r\n",
    "print(L1[-5::-1])\r\n",
    "print(L1[-6::-1])\r\n",
    "\r\n",
    "# Forward listing using negative index\r\n",
    "print()\r\n",
    "print(L1[-6:])\r\n",
    "print(L1[-6:-1])\r\n",
    "print(L1[-6:-2])\r\n",
    "print(L1[-6:-3])\r\n",
    "print(L1[-6:-4])\r\n",
    "print(L1[-6:-5])\r\n",
    "\r\n",
    "# Forward listing using step values\r\n",
    "print()\r\n",
    "print(L1[::2])\r\n",
    "print(L1[1::2])\r\n",
    "\r\n",
    "# Reverse listing using step values\r\n",
    "print()\r\n",
    "print(L1[::-1])\r\n",
    "print(L1[-2::-2])\r\n"
   ],
   "outputs": [
    {
     "output_type": "stream",
     "name": "stdout",
     "text": [
      "['spam', 'ham', 'egg', 'bacon', 'spring', 'boot']\n",
      "bacon\n",
      "bacon\n",
      "\n",
      "boot\n",
      "boot\n",
      "\n",
      "['spam']\n",
      "['spam', 'ham']\n",
      "['spam', 'ham', 'egg']\n",
      "['spam', 'ham', 'egg', 'bacon']\n",
      "['spam', 'ham', 'egg', 'bacon', 'spring']\n",
      "['spam', 'ham', 'egg', 'bacon', 'spring', 'boot']\n",
      "['spam', 'ham', 'egg', 'bacon', 'spring', 'boot']\n",
      "['spam', 'ham', 'egg', 'bacon', 'spring', 'boot']\n",
      "\n",
      "['boot', 'spring', 'bacon', 'egg', 'ham', 'spam']\n",
      "['spring', 'bacon', 'egg', 'ham', 'spam']\n",
      "['bacon', 'egg', 'ham', 'spam']\n",
      "['egg', 'ham', 'spam']\n",
      "['ham', 'spam']\n",
      "['spam']\n",
      "\n",
      "['spam', 'ham', 'egg', 'bacon', 'spring', 'boot']\n",
      "['spam', 'ham', 'egg', 'bacon', 'spring']\n",
      "['spam', 'ham', 'egg', 'bacon']\n",
      "['spam', 'ham', 'egg']\n",
      "['spam', 'ham']\n",
      "['spam']\n",
      "\n",
      "['spam', 'egg', 'spring']\n",
      "['ham', 'bacon', 'boot']\n",
      "\n",
      "['boot', 'spring', 'bacon', 'egg', 'ham', 'spam']\n",
      "['spring', 'egg', 'spam']\n"
     ]
    }
   ],
   "metadata": {
    "ExecuteTime": {
     "end_time": "2021-08-24T07:12:14.805714Z",
     "start_time": "2021-08-24T07:12:14.775687Z"
    },
    "slideshow": {
     "slide_type": "subslide"
    }
   }
  },
  {
   "cell_type": "markdown",
   "source": [
    "# Comprehensions"
   ],
   "metadata": {
    "slideshow": {
     "slide_type": "slide"
    }
   }
  },
  {
   "cell_type": "code",
   "execution_count": 2,
   "source": [
    "L2 = [45, 6, 5, 56, 77, 78, 34, 56, 456, 1000]\r\n",
    "print(f\"{L2 = }\")\r\n",
    "print()\r\n",
    "\r\n",
    "# Traditional Method\r\n",
    "for element in L2:\r\n",
    "    print(element+2)\r\n",
    "print()\r\n",
    "\r\n",
    "# Method 1\r\n",
    "L3 = [] \r\n",
    "for element in L2:\r\n",
    "    L3.append(element+2)\r\n",
    "print(f\"{L3 = }\")\r\n",
    "print()\r\n",
    "\r\n",
    "# List Comprehension\r\n",
    "L4 = [element+2 for element in L2] # [(doing something with element) for element in iterable]\r\n",
    "print(f\"{L4 = }\")\r\n",
    "\r\n",
    "# List Comprehension with Condition check\r\n",
    "L5 = [element+2 for element in L2 if (element+2) % 2 != 0] # [(doing something with element) for element in iterable <condition check>]\r\n",
    "print(f\"{L5 = }\")"
   ],
   "outputs": [
    {
     "output_type": "stream",
     "name": "stdout",
     "text": [
      "L2 = [45, 6, 5, 56, 77, 78, 34, 56, 456, 1000]\n",
      "\n",
      "47\n",
      "8\n",
      "7\n",
      "58\n",
      "79\n",
      "80\n",
      "36\n",
      "58\n",
      "458\n",
      "1002\n",
      "\n",
      "L3 = [47, 8, 7, 58, 79, 80, 36, 58, 458, 1002]\n",
      "\n",
      "L4 = [47, 8, 7, 58, 79, 80, 36, 58, 458, 1002]\n",
      "L5 = [47, 7, 79]\n"
     ]
    }
   ],
   "metadata": {
    "ExecuteTime": {
     "end_time": "2021-08-25T05:33:02.014707Z",
     "start_time": "2021-08-25T05:33:02.003185Z"
    },
    "scrolled": true,
    "slideshow": {
     "slide_type": "subslide"
    }
   }
  },
  {
   "cell_type": "code",
   "execution_count": 62,
   "source": [
    "# Set Comprehension\r\n",
    "\r\n",
    "L3 = {element+2 for element in L2 if (element+2) > 100}\r\n",
    "print(f\"{L3 = }\")"
   ],
   "outputs": [
    {
     "output_type": "stream",
     "name": "stdout",
     "text": [
      "L3 = {458, 1002}\n"
     ]
    }
   ],
   "metadata": {
    "ExecuteTime": {
     "end_time": "2021-08-23T07:00:37.304614Z",
     "start_time": "2021-08-23T07:00:37.282505Z"
    },
    "slideshow": {
     "slide_type": "subslide"
    }
   }
  },
  {
   "cell_type": "code",
   "execution_count": 11,
   "source": [
    "# Dictionary Comprehension\r\n",
    "\r\n",
    "D1 = dict(employee1=33, employee2=27, employee3=45)\r\n",
    "print(f\"{D1 = }\")\r\n",
    "\r\n",
    "D2 = {key:value+2 for key, value in D1.items() if (value+2) % 3 == 0}\r\n",
    "print(f\"{D2 = }\")\r\n",
    "\r\n",
    "# zip function\r\n",
    "\r\n",
    "for value1, value2 in zip(['a', 'b', 'c'], [1, 2, 3]):\r\n",
    "    print(value1 , value2)\r\n",
    "print()\r\n",
    "    \r\n",
    "print(D1.items())\r\n",
    "print(D1.values())\r\n",
    "print(D1.keys())\r\n",
    "\r\n",
    "print(type(D1.items()))\r\n",
    "print(type(D1.values()))\r\n",
    "print(type(D1.keys()))\r\n",
    "    \r\n",
    "print()\r\n",
    "# Introducing zip function with D2\r\n",
    "\r\n",
    "D3 = {key + \"_\" + str(ids): value+2 for key, value, ids in zip(D1.keys(), D1.values(), [101, 102, 103])}\r\n",
    "print(f\"{D3 = }\")\r\n",
    "\r\n",
    "print()\r\n",
    "for key, value in D3.items(): # Unpacking Dictionary\r\n",
    "    print(key, value)\r\n",
    "\r\n",
    "# There is no tuple comprehensions but we call it as Generator Expressions\r\n",
    "G1 = (element+2 for element in L2)\r\n",
    "print(G1)"
   ],
   "outputs": [
    {
     "output_type": "stream",
     "name": "stdout",
     "text": [
      "D1 = {'employee1': 33, 'employee2': 27, 'employee3': 45}\n",
      "D2 = {}\n",
      "a 1\n",
      "b 2\n",
      "c 3\n",
      "\n",
      "dict_items([('employee1', 33), ('employee2', 27), ('employee3', 45)])\n",
      "dict_values([33, 27, 45])\n",
      "dict_keys(['employee1', 'employee2', 'employee3'])\n",
      "<class 'dict_items'>\n",
      "<class 'dict_values'>\n",
      "<class 'dict_keys'>\n",
      "\n",
      "D3 = {'employee1_101': 35, 'employee2_102': 29, 'employee3_103': 47}\n",
      "\n",
      "employee1_101 35\n",
      "employee2_102 29\n",
      "employee3_103 47\n",
      "<generator object <genexpr> at 0x7f9f0003b7b0>\n"
     ]
    }
   ],
   "metadata": {
    "ExecuteTime": {
     "end_time": "2021-08-25T05:35:59.004395Z",
     "start_time": "2021-08-25T05:35:58.987568Z"
    },
    "slideshow": {
     "slide_type": "subslide"
    }
   }
  },
  {
   "cell_type": "markdown",
   "source": [
    "\n",
    "# Methods"
   ],
   "metadata": {
    "slideshow": {
     "slide_type": "slide"
    }
   }
  },
  {
   "cell_type": "markdown",
   "source": [
    "1. Method is called by its name, but it is associated to an object (dependent)<br><br>\n",
    "2. Method is implicitly passed the object on which it is invoked. <br><bR>\n",
    "3. It may or may not return any data.<br><br>\n",
    "4. Method can operate on the data (instance variables) that is contained by a class</font></h5>"
   ],
   "metadata": {
    "slideshow": {
     "slide_type": "subslide"
    }
   }
  },
  {
   "cell_type": "code",
   "execution_count": 9,
   "source": [
    "string_data = \"First line of code\"\r\n",
    "list_data = \"prod1 prod2 prod3 prod4\".split()\r\n",
    "set_data = set(\"fruit1 fruit2 fruit3 fruit4\".split())\r\n",
    "tuple_data = tuple(\"one two three four five\".split())\r\n",
    "dictionary_data = dict(Name=\"Python\", DOB=\"1991\", Author=\"Guido Van Rossum\")\r\n",
    "digits_data = 134.678\r\n",
    "\r\n",
    "\r\n",
    "print(string_data)\r\n",
    "print(list_data)\r\n",
    "print(set_data)\r\n",
    "print(tuple_data)\r\n",
    "print(dictionary_data)\r\n",
    "print(digits_data)\r\n",
    "\r\n",
    "print()\r\n",
    "\r\n",
    "print(type(string_data))\r\n",
    "print(type(list_data))\r\n",
    "print(type(set_data))\r\n",
    "print(type(tuple_data))\r\n",
    "print(type(dictionary_data))\r\n",
    "print(type(digits_data))\r\n",
    "\r\n",
    "print()\r\n",
    "class BaseModel: # a class\r\n",
    "    def audi(): # a Method that is associated with BaseModel Class\r\n",
    "        return \"Name of the car is Audi\"\r\n",
    "    def benz(): # a Method that is associated with BaseModel Class\r\n",
    "        return f\"Name of the car is {'benz'.upper()}\"\r\n",
    "\r\n",
    "print()\r\n",
    "    \r\n",
    "\r\n",
    "def benz(): # a Function\r\n",
    "    return f\"Name of the car is {'benz'.upper()}\"\r\n",
    "    \r\n",
    "    \r\n",
    "print(BaseModel.audi())\r\n",
    "print(type(BaseModel.audi()))\r\n",
    "\r\n",
    "print(benz())\r\n",
    "print(type(benz()))\r\n",
    "print(audi())"
   ],
   "outputs": [
    {
     "output_type": "stream",
     "name": "stdout",
     "text": [
      "First line of code\n",
      "['prod1', 'prod2', 'prod3', 'prod4']\n",
      "{'fruit3', 'fruit1', 'fruit4', 'fruit2'}\n",
      "('one', 'two', 'three', 'four', 'five')\n",
      "{'Name': 'Python', 'DOB': '1991', 'Author': 'Guido Van Rossum'}\n",
      "134.678\n",
      "\n",
      "<class 'str'>\n",
      "<class 'list'>\n",
      "<class 'set'>\n",
      "<class 'tuple'>\n",
      "<class 'dict'>\n",
      "<class 'float'>\n",
      "\n",
      "\n",
      "Name of the car is Audi\n",
      "<class 'str'>\n",
      "Name of the car is BENZ\n",
      "<class 'str'>\n"
     ]
    },
    {
     "output_type": "error",
     "ename": "NameError",
     "evalue": "name 'audi' is not defined",
     "traceback": [
      "\u001b[0;31m---------------------------------------------------------------------------\u001b[0m",
      "\u001b[0;31mNameError\u001b[0m                                 Traceback (most recent call last)",
      "\u001b[0;32m/tmp/ipykernel_5748/3080491020.py\u001b[0m in \u001b[0;36m<module>\u001b[0;34m\u001b[0m\n\u001b[1;32m     36\u001b[0m \u001b[0mprint\u001b[0m\u001b[0;34m(\u001b[0m\u001b[0mbenz\u001b[0m\u001b[0;34m(\u001b[0m\u001b[0;34m)\u001b[0m\u001b[0;34m)\u001b[0m\u001b[0;34m\u001b[0m\u001b[0;34m\u001b[0m\u001b[0m\n\u001b[1;32m     37\u001b[0m \u001b[0mprint\u001b[0m\u001b[0;34m(\u001b[0m\u001b[0mtype\u001b[0m\u001b[0;34m(\u001b[0m\u001b[0mbenz\u001b[0m\u001b[0;34m(\u001b[0m\u001b[0;34m)\u001b[0m\u001b[0;34m)\u001b[0m\u001b[0;34m)\u001b[0m\u001b[0;34m\u001b[0m\u001b[0;34m\u001b[0m\u001b[0m\n\u001b[0;32m---> 38\u001b[0;31m \u001b[0mprint\u001b[0m\u001b[0;34m(\u001b[0m\u001b[0maudi\u001b[0m\u001b[0;34m(\u001b[0m\u001b[0;34m)\u001b[0m\u001b[0;34m)\u001b[0m\u001b[0;34m\u001b[0m\u001b[0;34m\u001b[0m\u001b[0m\n\u001b[0m",
      "\u001b[0;31mNameError\u001b[0m: name 'audi' is not defined"
     ]
    }
   ],
   "metadata": {
    "ExecuteTime": {
     "end_time": "2021-08-24T05:13:46.778780Z",
     "start_time": "2021-08-24T05:13:46.710579Z"
    },
    "scrolled": true,
    "slideshow": {
     "slide_type": "subslide"
    }
   }
  },
  {
   "cell_type": "markdown",
   "source": [
    "# String Methods\n",
    "\n",
    "#### string - immutable or hashable data type"
   ],
   "metadata": {
    "slideshow": {
     "slide_type": "slide"
    }
   }
  },
  {
   "cell_type": "code",
   "execution_count": 8,
   "source": [
    "# Code\r\n",
    "string_1 = \"foo bar baz Jazz bazz\" # string and immutable\r\n",
    "print(\"These are the method available in string_1 string class\")\r\n",
    "print(\"=======================================================\")\r\n",
    "print(dir(string_1))\r\n",
    "print(\"=======================================================\")\r\n",
    "print(string_1.upper()) # converts to All capital letters \r\n",
    "print(string_1.lower()) # converts to All small letters\r\n",
    "print(string_1.capitalize()) # converts first character to capital letter\r\n",
    "print(string_1.title()) # converts all first character of words in a sentence to capital letter\r\n",
    "print(string_1.split()) # it converts given string into a list\r\n",
    "\r\n",
    "string_2 = \"Welcome to Python Tutorials, please join hands with me\"\r\n",
    "print(string_2.split(\",\")) # split happened based on delimiter \",\"\r\n",
    "print(string_1.count(\"az\"))\r\n",
    "print(string_2.endswith(\"me\"))\r\n",
    "print(string_2.endswith(\"mean\"))\r\n",
    "print(string_1.startswith(\"Foo \"))\r\n",
    "print(string_1.startswith(\"foo \"))\r\n",
    "print(string_2.isalpha())\r\n",
    "\r\n",
    "string_3 = \"Ilovechocolates\"\r\n",
    "print(string_1.isalpha())\r\n",
    "first_element_from_string_1 = string_1.split()[0]\r\n",
    "print(first_element_from_string_1.isalpha())\r\n",
    "\r\n",
    "string_4 = \"No 4, Nehru Street, XYZ state, pincode - 5648295\"\r\n",
    "for element in string_4.split():\r\n",
    "    for sub_element in element.split(\",\"):\r\n",
    "        if sub_element.isdigit():\r\n",
    "            print(sub_element)\r\n",
    "\r\n",
    "print(string_4.partition(\"XYZ\"))\r\n",
    "print(string_1.rpartition(\"foo\"))\r\n",
    "\r\n",
    "print(string_1.find(\"baz\"))\r\n",
    "\r\n",
    "# print(\"Name of the tool: %s\" % \"Jupyter\") # Before Python 3.4\r\n",
    "\r\n",
    "tool_used = \"Jupyter\"\r\n",
    "sub_tool_used = \"Notebook\"\r\n",
    "print(\"Name of the tool: {}\".format(tool_used)) # After Python3.4\r\n",
    "print(\"Name of the tool: {0}, Sub-tool under {0}: {1}\".format(tool_used, sub_tool_used)) # After Python3.4\r\n",
    "print(f\"Name of the tool: {tool_used.upper()}, Sub-tool under {tool_used}: {sub_tool_used.upper()}\") # After Python 3.6\r\n",
    "\r\n",
    "# string concatenation\r\n",
    "\r\n",
    "print(tool_used + \" \" + sub_tool_used)\r\n",
    "print(f\"{tool_used} {sub_tool_used}\") # Not string concatenation just using f-string format\r\n",
    "\r\n",
    "# convertion\r\n",
    "print(int(\"127873947\"))\r\n",
    "print(str(7865-78j))\r\n",
    "\r\n",
    "print()\r\n",
    "# \r\n",
    "\r\n",
    "print(string_1)\r\n",
    "print(string_2)\r\n",
    "print(string_3)\r\n",
    "print(string_4)\r\n",
    "string_5 = string_1.upper()\r\n",
    "print(string_5)\r\n",
    "\r\n",
    "# How to find immutability\r\n",
    "\r\n",
    "print()\r\n",
    "print(string_1[0])\r\n",
    "string_1[0] = \"F\""
   ],
   "outputs": [
    {
     "output_type": "stream",
     "name": "stdout",
     "text": [
      "These are the method available in string_1 string class\n",
      "=======================================================\n",
      "['__add__', '__class__', '__contains__', '__delattr__', '__dir__', '__doc__', '__eq__', '__format__', '__ge__', '__getattribute__', '__getitem__', '__getnewargs__', '__gt__', '__hash__', '__init__', '__init_subclass__', '__iter__', '__le__', '__len__', '__lt__', '__mod__', '__mul__', '__ne__', '__new__', '__reduce__', '__reduce_ex__', '__repr__', '__rmod__', '__rmul__', '__setattr__', '__sizeof__', '__str__', '__subclasshook__', 'capitalize', 'casefold', 'center', 'count', 'encode', 'endswith', 'expandtabs', 'find', 'format', 'format_map', 'index', 'isalnum', 'isalpha', 'isascii', 'isdecimal', 'isdigit', 'isidentifier', 'islower', 'isnumeric', 'isprintable', 'isspace', 'istitle', 'isupper', 'join', 'ljust', 'lower', 'lstrip', 'maketrans', 'partition', 'removeprefix', 'removesuffix', 'replace', 'rfind', 'rindex', 'rjust', 'rpartition', 'rsplit', 'rstrip', 'split', 'splitlines', 'startswith', 'strip', 'swapcase', 'title', 'translate', 'upper', 'zfill']\n",
      "=======================================================\n",
      "FOO BAR BAZ JAZZ BAZZ\n",
      "foo bar baz jazz bazz\n",
      "Foo bar baz jazz bazz\n",
      "Foo Bar Baz Jazz Bazz\n",
      "['foo', 'bar', 'baz', 'Jazz', 'bazz']\n",
      "['Welcome to Python Tutorials', ' please join hands with me']\n",
      "3\n",
      "True\n",
      "False\n",
      "False\n",
      "True\n",
      "False\n",
      "False\n",
      "True\n",
      "4\n",
      "5648295\n",
      "('No 4, Nehru Street, ', 'XYZ', ' state, pincode - 5648295')\n",
      "('', 'foo', ' bar baz Jazz bazz')\n",
      "8\n",
      "Name of the tool: Jupyter\n",
      "Name of the tool: Jupyter, Sub-tool under Jupyter: Notebook\n",
      "Name of the tool: JUPYTER, Sub-tool under Jupyter: NOTEBOOK\n",
      "Jupyter Notebook\n",
      "Jupyter Notebook\n",
      "127873947\n",
      "(7865-78j)\n",
      "\n",
      "foo bar baz Jazz bazz\n",
      "Welcome to Python Tutorials, please join hands with me\n",
      "Ilovechocolates\n",
      "No 4, Nehru Street, XYZ state, pincode - 5648295\n",
      "FOO BAR BAZ JAZZ BAZZ\n",
      "\n",
      "f\n"
     ]
    },
    {
     "output_type": "error",
     "ename": "TypeError",
     "evalue": "'str' object does not support item assignment",
     "traceback": [
      "\u001b[0;31m---------------------------------------------------------------------------\u001b[0m",
      "\u001b[0;31mTypeError\u001b[0m                                 Traceback (most recent call last)",
      "\u001b[0;32m/tmp/ipykernel_7408/985774951.py\u001b[0m in \u001b[0;36m<module>\u001b[0;34m\u001b[0m\n\u001b[1;32m     67\u001b[0m \u001b[0mprint\u001b[0m\u001b[0;34m(\u001b[0m\u001b[0;34m)\u001b[0m\u001b[0;34m\u001b[0m\u001b[0;34m\u001b[0m\u001b[0m\n\u001b[1;32m     68\u001b[0m \u001b[0mprint\u001b[0m\u001b[0;34m(\u001b[0m\u001b[0mstring_1\u001b[0m\u001b[0;34m[\u001b[0m\u001b[0;36m0\u001b[0m\u001b[0;34m]\u001b[0m\u001b[0;34m)\u001b[0m\u001b[0;34m\u001b[0m\u001b[0;34m\u001b[0m\u001b[0m\n\u001b[0;32m---> 69\u001b[0;31m \u001b[0mstring_1\u001b[0m\u001b[0;34m[\u001b[0m\u001b[0;36m0\u001b[0m\u001b[0;34m]\u001b[0m \u001b[0;34m=\u001b[0m \u001b[0;34m\"F\"\u001b[0m\u001b[0;34m\u001b[0m\u001b[0;34m\u001b[0m\u001b[0m\n\u001b[0m",
      "\u001b[0;31mTypeError\u001b[0m: 'str' object does not support item assignment"
     ]
    }
   ],
   "metadata": {
    "ExecuteTime": {
     "end_time": "2021-08-24T07:25:25.382837Z",
     "start_time": "2021-08-24T07:25:25.318085Z"
    },
    "scrolled": false,
    "slideshow": {
     "slide_type": "subslide"
    }
   }
  },
  {
   "cell_type": "markdown",
   "source": [
    "# List Methods\n",
    "\n",
    "#### list - mutable or unhashable data type"
   ],
   "metadata": {
    "slideshow": {
     "slide_type": "slide"
    }
   }
  },
  {
   "cell_type": "code",
   "execution_count": 40,
   "source": [
    "# Code\r\n",
    "L1 = ['spam', 'ham', 'egg', 'bacon', 'spring', 'boot']\r\n",
    "print(L1)\r\n",
    "print(\"These are the method available in L1 list class\")\r\n",
    "print(\"=======================================================\")\r\n",
    "print(dir(L1))\r\n",
    "print(\"=======================================================\")\r\n",
    "L1.append(\"omlet\")\r\n",
    "print(L1)\r\n",
    "L1[2] = \"onion\"\r\n",
    "print(L1)\r\n",
    "L1.extend([10, 20, 30, 10, 10, 20, 25, 0, 1, 1, 2,])\r\n",
    "print(L1)\r\n",
    "print(L1.count(10))\r\n",
    "L1.pop()\r\n",
    "print(L1)\r\n",
    "L1.pop(4)\r\n",
    "print(L1)\r\n",
    "L1.pop(-6)\r\n",
    "print(L1)\r\n",
    "L1.remove(\"onion\")\r\n",
    "print(L1)\r\n",
    "L1.remove(10)\r\n",
    "print(L1)\r\n",
    "L2 = \"b c a f h i l q t u w v z\".split()\r\n",
    "print(L2)\r\n",
    "L2.sort()\r\n",
    "print(L2)\r\n",
    "L2.sort(reverse=True)\r\n",
    "print(L2)\r\n",
    "L1.insert(2, \"rainy\")\r\n",
    "print(L1)\r\n",
    "print(L2.index(\"a\"))\r\n",
    "L1.reverse()\r\n",
    "print(L1)\r\n",
    "print(L1[::-1])"
   ],
   "outputs": [
    {
     "output_type": "stream",
     "name": "stdout",
     "text": [
      "['spam', 'ham', 'egg', 'bacon', 'spring', 'boot']\n",
      "These are the method available in L1 list class\n",
      "=======================================================\n",
      "['__add__', '__class__', '__class_getitem__', '__contains__', '__delattr__', '__delitem__', '__dir__', '__doc__', '__eq__', '__format__', '__ge__', '__getattribute__', '__getitem__', '__gt__', '__hash__', '__iadd__', '__imul__', '__init__', '__init_subclass__', '__iter__', '__le__', '__len__', '__lt__', '__mul__', '__ne__', '__new__', '__reduce__', '__reduce_ex__', '__repr__', '__reversed__', '__rmul__', '__setattr__', '__setitem__', '__sizeof__', '__str__', '__subclasshook__', 'append', 'clear', 'copy', 'count', 'extend', 'index', 'insert', 'pop', 'remove', 'reverse', 'sort']\n",
      "=======================================================\n",
      "['spam', 'ham', 'egg', 'bacon', 'spring', 'boot', 'omlet']\n",
      "['spam', 'ham', 'onion', 'bacon', 'spring', 'boot', 'omlet']\n",
      "['spam', 'ham', 'onion', 'bacon', 'spring', 'boot', 'omlet', 10, 20, 30, 10, 10, 20, 25, 0, 1, 1, 2]\n",
      "3\n",
      "['spam', 'ham', 'onion', 'bacon', 'spring', 'boot', 'omlet', 10, 20, 30, 10, 10, 20, 25, 0, 1, 1]\n",
      "['spam', 'ham', 'onion', 'bacon', 'boot', 'omlet', 10, 20, 30, 10, 10, 20, 25, 0, 1, 1]\n",
      "['spam', 'ham', 'onion', 'bacon', 'boot', 'omlet', 10, 20, 30, 10, 20, 25, 0, 1, 1]\n",
      "['spam', 'ham', 'bacon', 'boot', 'omlet', 10, 20, 30, 10, 20, 25, 0, 1, 1]\n",
      "['spam', 'ham', 'bacon', 'boot', 'omlet', 20, 30, 10, 20, 25, 0, 1, 1]\n",
      "['b', 'c', 'a', 'f', 'h', 'i', 'l', 'q', 't', 'u', 'w', 'v', 'z']\n",
      "['a', 'b', 'c', 'f', 'h', 'i', 'l', 'q', 't', 'u', 'v', 'w', 'z']\n",
      "['z', 'w', 'v', 'u', 't', 'q', 'l', 'i', 'h', 'f', 'c', 'b', 'a']\n",
      "['spam', 'ham', 'rainy', 'bacon', 'boot', 'omlet', 20, 30, 10, 20, 25, 0, 1, 1]\n",
      "12\n",
      "[1, 1, 0, 25, 20, 10, 30, 20, 'omlet', 'boot', 'bacon', 'rainy', 'ham', 'spam']\n",
      "['spam', 'ham', 'rainy', 'bacon', 'boot', 'omlet', 20, 30, 10, 20, 25, 0, 1, 1]\n"
     ]
    }
   ],
   "metadata": {
    "ExecuteTime": {
     "end_time": "2021-08-25T06:07:14.985384Z",
     "start_time": "2021-08-25T06:07:14.965926Z"
    },
    "scrolled": false,
    "slideshow": {
     "slide_type": "subslide"
    }
   }
  },
  {
   "cell_type": "markdown",
   "source": [
    "# Set Methods"
   ],
   "metadata": {
    "slideshow": {
     "slide_type": "slide"
    }
   }
  },
  {
   "cell_type": "code",
   "execution_count": 89,
   "source": [
    "# Code\r\n",
    "set1 = set(\"name1 name1 name3 name5 name7 name10 name8 name20 name30 name3 name7 name100\".split())\r\n",
    "set2 = set(\"name1 name3 name6 name29 name72 name1000 name52 name30 name30 name3 name7 name101\".split())\r\n",
    "set3 = set(\"name45 name53 name62 name89 name7 name10 name3 name30 name20 name3 name7 name100\".split())\r\n",
    "print(f\"{set1 = }\")\r\n",
    "print(f\"{set2 = }\")\r\n",
    "print(f\"{set3 = }\")\r\n",
    "print()\r\n",
    "print(\"These are the method available in set class\")\r\n",
    "print(\"=======================================================\")\r\n",
    "print(dir(set))\r\n",
    "print(\"=======================================================\")\r\n",
    "print()\r\n",
    "set1.add(\"name200\")\r\n",
    "print(f\"changed_set1 = {set1}\")\r\n",
    "set1.add((22, 34, 45))\r\n",
    "print(f\"changed_set1 = {set1}\")\r\n",
    "set1.add(\"name30\")\r\n",
    "print(f\"existing element added changed_set1 = {set1}\")\r\n",
    "print()\r\n",
    "print(f\"set1 Union of set2 = {set1.union(set2)}\")\r\n",
    "print()\r\n",
    "print(f\"set1 Intersection of set2 = {set1.intersection(set2)}\")\r\n",
    "print(f\"set1 Intersection of set3 = {set1.intersection(set3)}\")\r\n",
    "print(f\"set2 Intersection of set1 = {set2.intersection(set1)}\")\r\n",
    "print()\r\n",
    "set1.pop()\r\n",
    "print(f\"{set1 = }\")\r\n",
    "set1.pop()\r\n",
    "print()\r\n",
    "print(f\"Last_updated_set1 = {set1}\")\r\n",
    "print(f\"{set2 = }\")\r\n",
    "print(f\"{set3 = }\")\r\n",
    "print()\r\n",
    "set3.remove(\"name89\")\r\n",
    "# set3.remove(\"name8000\") # this will throw an error as \"name8000\" member not there in set3\r\n",
    "print(f\"Last_updated_set3 = {set3}\")\r\n",
    "print()\r\n",
    "print(f\"set1 difference of set2 = {set1.difference(set2)}\")\r\n",
    "print(f\"set2 difference of set1 = {set2.difference(set1)}\")\r\n",
    "print(f\"set2 difference of set1 and set3 = {set2.difference(set1).difference(set3)}\")\r\n",
    "print()\r\n",
    "print(f\"set1 symmetric_difference of set2 = {set1.symmetric_difference(set2)}\")"
   ],
   "outputs": [
    {
     "output_type": "stream",
     "name": "stdout",
     "text": [
      "set1 = {'name30', 'name5', 'name100', 'name8', 'name20', 'name7', 'name3', 'name10', 'name1'}\n",
      "set2 = {'name72', 'name30', 'name29', 'name1000', 'name52', 'name7', 'name3', 'name6', 'name101', 'name1'}\n",
      "set3 = {'name30', 'name53', 'name62', 'name45', 'name100', 'name20', 'name7', 'name89', 'name3', 'name10'}\n",
      "\n",
      "These are the method available in set class\n",
      "=======================================================\n",
      "['__and__', '__class__', '__class_getitem__', '__contains__', '__delattr__', '__dir__', '__doc__', '__eq__', '__format__', '__ge__', '__getattribute__', '__gt__', '__hash__', '__iand__', '__init__', '__init_subclass__', '__ior__', '__isub__', '__iter__', '__ixor__', '__le__', '__len__', '__lt__', '__ne__', '__new__', '__or__', '__rand__', '__reduce__', '__reduce_ex__', '__repr__', '__ror__', '__rsub__', '__rxor__', '__setattr__', '__sizeof__', '__str__', '__sub__', '__subclasshook__', '__xor__', 'add', 'clear', 'copy', 'difference', 'difference_update', 'discard', 'intersection', 'intersection_update', 'isdisjoint', 'issubset', 'issuperset', 'pop', 'remove', 'symmetric_difference', 'symmetric_difference_update', 'union', 'update']\n",
      "=======================================================\n",
      "\n",
      "changed_set1 = {'name30', 'name5', 'name100', 'name8', 'name20', 'name7', 'name3', 'name200', 'name10', 'name1'}\n",
      "changed_set1 = {'name30', 'name5', 'name100', 'name8', 'name20', (22, 34, 45), 'name7', 'name3', 'name200', 'name10', 'name1'}\n",
      "existing element added changed_set1 = {'name30', 'name5', 'name100', 'name8', 'name20', (22, 34, 45), 'name7', 'name3', 'name200', 'name10', 'name1'}\n",
      "\n",
      "set1 Union of set2 = {'name1000', 'name8', 'name20', (22, 34, 45), 'name3', 'name101', 'name72', 'name30', 'name29', 'name10', 'name100', 'name52', 'name7', 'name6', 'name200', 'name5', 'name1'}\n",
      "\n",
      "set1 Intersection of set2 = {'name7', 'name3', 'name1', 'name30'}\n",
      "set1 Intersection of set3 = {'name30', 'name100', 'name20', 'name7', 'name3', 'name10'}\n",
      "set2 Intersection of set1 = {'name7', 'name3', 'name1', 'name30'}\n",
      "\n",
      "set1 = {'name5', 'name100', 'name8', 'name20', (22, 34, 45), 'name7', 'name3', 'name200', 'name10', 'name1'}\n",
      "\n",
      "Last_updated_set1 = {'name100', 'name8', 'name20', (22, 34, 45), 'name7', 'name3', 'name200', 'name10', 'name1'}\n",
      "set2 = {'name72', 'name30', 'name29', 'name1000', 'name52', 'name7', 'name3', 'name6', 'name101', 'name1'}\n",
      "set3 = {'name30', 'name53', 'name62', 'name45', 'name100', 'name20', 'name7', 'name89', 'name3', 'name10'}\n",
      "\n",
      "Last_updated_set3 = {'name30', 'name53', 'name62', 'name45', 'name100', 'name20', 'name7', 'name3', 'name10'}\n",
      "\n",
      "set1 difference of set2 = {'name100', 'name20', 'name8', (22, 34, 45), 'name200', 'name10'}\n",
      "set2 difference of set1 = {'name72', 'name30', 'name29', 'name1000', 'name52', 'name6', 'name101'}\n",
      "set2 difference of set1 and set3 = {'name72', 'name29', 'name1000', 'name52', 'name6', 'name101'}\n",
      "\n",
      "set1 symmetric_difference of set2 = {'name72', 'name30', 'name29', 'name1000', 'name10', 'name100', 'name8', 'name20', 'name52', 'name6', (22, 34, 45), 'name200', 'name101'}\n"
     ]
    }
   ],
   "metadata": {
    "ExecuteTime": {
     "end_time": "2021-08-25T07:16:32.752270Z",
     "start_time": "2021-08-25T07:16:32.738815Z"
    },
    "slideshow": {
     "slide_type": "subslide"
    }
   }
  },
  {
   "cell_type": "markdown",
   "source": [
    "# Dictionary Methods"
   ],
   "metadata": {
    "slideshow": {
     "slide_type": "slide"
    }
   }
  },
  {
   "cell_type": "code",
   "execution_count": 125,
   "source": [
    "# Code\r\n",
    "D1 = dict(employee1=33, employee2=27, employee3=45)\r\n",
    "D2 = D1.copy()\r\n",
    "print(f\"{D1 = }\")\r\n",
    "print()\r\n",
    "D1[\"employee4\"] = 28\r\n",
    "D1[\"employee5\"] = 21\r\n",
    "print(f\"updated Dictionary = {D1 = }\")\r\n",
    "print()\r\n",
    "print(\"These are the method available in dictionary class\")\r\n",
    "print(\"=======================================================\")\r\n",
    "print(dir(dict))\r\n",
    "print(\"=======================================================\")\r\n",
    "print()\r\n",
    "print(D1.keys()) # to get the keys\r\n",
    "print()\r\n",
    "print(D1.values()) # to get the values\r\n",
    "print()\r\n",
    "print(D1.items()) # to get the dictionary elements\r\n",
    "print()\r\n",
    "print(f\"D1.employee5 = {D1['employee5']}\") # to get induvidual key value\r\n",
    "print(f\"D1.employee4 = {D1.get('employee4')}\") # to get induvidual key value use get method\r\n",
    "print()\r\n",
    "D1.pop(\"employee3\")\r\n",
    "print(f\"pop'ed employee3 key Dictionary = {D1 = }\")\r\n",
    "D1.setdefault(\"CEO\")\r\n",
    "print(f\"{D1 = }\")\r\n",
    "D1.pop(\"employee1\")\r\n",
    "print(f\"pop'ed employee1 key Dictionary = {D1 = }\")\r\n",
    "D1.pop(\"employee2\")\r\n",
    "print(f\"pop'ed employee2 key Dictionary = {D1 = }\")\r\n",
    "D1.pop(\"employee4\")\r\n",
    "print(f\"pop'ed employee4 key Dictionary = {D1 = }\")\r\n",
    "D1.pop(\"employee5\")\r\n",
    "print(f\"pop'ed employee5 key Dictionary = {D1 = }\")\r\n",
    "print()\r\n",
    "print(f\"{D2 = }\")\r\n",
    "D2.popitem()\r\n",
    "print(f\"pop'ed last item of the dictionary D2 = {D2 = }\")\r\n"
   ],
   "outputs": [
    {
     "output_type": "stream",
     "name": "stdout",
     "text": [
      "D1 = {'employee1': 33, 'employee2': 27, 'employee3': 45}\n",
      "\n",
      "updated Dictionary = D1 = {'employee1': 33, 'employee2': 27, 'employee3': 45, 'employee4': 28, 'employee5': 21}\n",
      "\n",
      "These are the method available in dictionary class\n",
      "=======================================================\n",
      "['__class__', '__class_getitem__', '__contains__', '__delattr__', '__delitem__', '__dir__', '__doc__', '__eq__', '__format__', '__ge__', '__getattribute__', '__getitem__', '__gt__', '__hash__', '__init__', '__init_subclass__', '__ior__', '__iter__', '__le__', '__len__', '__lt__', '__ne__', '__new__', '__or__', '__reduce__', '__reduce_ex__', '__repr__', '__reversed__', '__ror__', '__setattr__', '__setitem__', '__sizeof__', '__str__', '__subclasshook__', 'clear', 'copy', 'fromkeys', 'get', 'items', 'keys', 'pop', 'popitem', 'setdefault', 'update', 'values']\n",
      "=======================================================\n",
      "\n",
      "dict_keys(['employee1', 'employee2', 'employee3', 'employee4', 'employee5'])\n",
      "\n",
      "dict_values([33, 27, 45, 28, 21])\n",
      "\n",
      "dict_items([('employee1', 33), ('employee2', 27), ('employee3', 45), ('employee4', 28), ('employee5', 21)])\n",
      "\n",
      "D1.employee5 = 21\n",
      "D1.employee4 = 28\n",
      "\n",
      "pop'ed employee3 key Dictionary = D1 = {'employee1': 33, 'employee2': 27, 'employee4': 28, 'employee5': 21}\n",
      "D1 = {'employee1': 33, 'employee2': 27, 'employee4': 28, 'employee5': 21, 'CEO': None}\n",
      "pop'ed employee1 key Dictionary = D1 = {'employee2': 27, 'employee4': 28, 'employee5': 21, 'CEO': None}\n",
      "pop'ed employee2 key Dictionary = D1 = {'employee4': 28, 'employee5': 21, 'CEO': None}\n",
      "pop'ed employee4 key Dictionary = D1 = {'employee5': 21, 'CEO': None}\n",
      "pop'ed employee5 key Dictionary = D1 = {'CEO': None}\n",
      "\n",
      "D2 = {'employee1': 33, 'employee2': 27, 'employee3': 45}\n",
      "pop'ed last item of the dictionary D2 = D2 = {'employee1': 33, 'employee2': 27}\n"
     ]
    }
   ],
   "metadata": {
    "ExecuteTime": {
     "end_time": "2021-08-25T07:41:24.331766Z",
     "start_time": "2021-08-25T07:41:24.316884Z"
    },
    "slideshow": {
     "slide_type": "subslide"
    }
   }
  },
  {
   "cell_type": "markdown",
   "source": [
    "# Tuple Methods"
   ],
   "metadata": {
    "slideshow": {
     "slide_type": "slide"
    }
   }
  },
  {
   "cell_type": "code",
   "execution_count": 129,
   "source": [
    "# Code\r\n",
    "\r\n",
    "t1 = 1, 2, 3, 3, 3, 4, 4, 5, 5, 6, 10 , \"apple\", \"tour\", \"crab\", \"fish\"\r\n",
    "print()\r\n",
    "print(\"These are the method available in tuple class\")\r\n",
    "print(\"=======================================================\")\r\n",
    "print(dir(tuple))\r\n",
    "print(\"=======================================================\")\r\n",
    "print(t1.count(3)) # this will return the number of occurences of a given value in a tuple\r\n",
    "print(t1.index(5)) # this will return the index number of a give value in a tuple"
   ],
   "outputs": [
    {
     "output_type": "stream",
     "name": "stdout",
     "text": [
      "\n",
      "These are the method available in tuple class\n",
      "=======================================================\n",
      "['__add__', '__class__', '__class_getitem__', '__contains__', '__delattr__', '__dir__', '__doc__', '__eq__', '__format__', '__ge__', '__getattribute__', '__getitem__', '__getnewargs__', '__gt__', '__hash__', '__init__', '__init_subclass__', '__iter__', '__le__', '__len__', '__lt__', '__mul__', '__ne__', '__new__', '__reduce__', '__reduce_ex__', '__repr__', '__rmul__', '__setattr__', '__sizeof__', '__str__', '__subclasshook__', 'count', 'index']\n",
      "=======================================================\n",
      "3\n",
      "7\n"
     ]
    }
   ],
   "metadata": {
    "ExecuteTime": {
     "end_time": "2021-08-25T07:43:56.109385Z",
     "start_time": "2021-08-25T07:43:56.101962Z"
    },
    "slideshow": {
     "slide_type": "subslide"
    }
   }
  }
 ],
 "metadata": {
  "celltoolbar": "Slideshow",
  "hide_input": false,
  "kernelspec": {
   "display_name": "Python 3 (ipykernel)",
   "language": "python",
   "name": "python3"
  },
  "language_info": {
   "codemirror_mode": {
    "name": "ipython",
    "version": 3
   },
   "file_extension": ".py",
   "mimetype": "text/x-python",
   "name": "python",
   "nbconvert_exporter": "python",
   "pygments_lexer": "ipython3",
   "version": "3.9.5"
  },
  "toc": {
   "base_numbering": 1,
   "nav_menu": {},
   "number_sections": true,
   "sideBar": true,
   "skip_h1_title": false,
   "title_cell": "Table of Contents",
   "title_sidebar": "Contents",
   "toc_cell": false,
   "toc_position": {
    "height": "calc(100% - 180px)",
    "left": "10px",
    "top": "150px",
    "width": "164.994px"
   },
   "toc_section_display": true,
   "toc_window_display": false
  },
  "varInspector": {
   "cols": {
    "lenName": 16,
    "lenType": 16,
    "lenVar": 40
   },
   "kernels_config": {
    "python": {
     "delete_cmd_postfix": "",
     "delete_cmd_prefix": "del ",
     "library": "var_list.py",
     "varRefreshCmd": "print(var_dic_list())"
    },
    "r": {
     "delete_cmd_postfix": ") ",
     "delete_cmd_prefix": "rm(",
     "library": "var_list.r",
     "varRefreshCmd": "cat(var_dic_list()) "
    }
   },
   "types_to_exclude": [
    "module",
    "function",
    "builtin_function_or_method",
    "instance",
    "_Feature"
   ],
   "window_display": false
  }
 },
 "nbformat": 4,
 "nbformat_minor": 5
}