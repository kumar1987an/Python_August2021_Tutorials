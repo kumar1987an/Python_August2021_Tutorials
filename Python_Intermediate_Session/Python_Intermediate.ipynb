{
 "cells": [
  {
   "cell_type": "markdown",
   "id": "9ae4a2d2",
   "metadata": {
    "slideshow": {
     "slide_type": "slide"
    }
   },
   "source": [
    "# Indexing and Slicing"
   ]
  },
  {
   "cell_type": "markdown",
   "id": "7cadb9cc",
   "metadata": {
    "slideshow": {
     "slide_type": "subslide"
    }
   },
   "source": [
    "<img src = \"img/index_slice.png\" alt = \"Inded and Slices\" height = \"2000\" width = \"2140\" />"
   ]
  },
  {
   "cell_type": "code",
   "execution_count": 110,
   "id": "6bf4b573",
   "metadata": {
    "ExecuteTime": {
     "end_time": "2021-08-24T07:12:14.805714Z",
     "start_time": "2021-08-24T07:12:14.775687Z"
    },
    "slideshow": {
     "slide_type": "subslide"
    }
   },
   "outputs": [
    {
     "name": "stdout",
     "output_type": "stream",
     "text": [
      "['spam', 'ham', 'egg', 'bacon', 'spring', 'boot']\n",
      "bacon\n",
      "bacon\n",
      "\n",
      "boot\n",
      "boot\n",
      "\n",
      "['spam']\n",
      "['spam', 'ham']\n",
      "['spam', 'ham', 'egg']\n",
      "['spam', 'ham', 'egg', 'bacon']\n",
      "['spam', 'ham', 'egg', 'bacon', 'spring']\n",
      "['spam', 'ham', 'egg', 'bacon', 'spring', 'boot']\n",
      "['spam', 'ham', 'egg', 'bacon', 'spring', 'boot']\n",
      "['spam', 'ham', 'egg', 'bacon', 'spring', 'boot']\n",
      "\n",
      "['boot', 'spring', 'bacon', 'egg', 'ham', 'spam']\n",
      "['spring', 'bacon', 'egg', 'ham', 'spam']\n",
      "['bacon', 'egg', 'ham', 'spam']\n",
      "['egg', 'ham', 'spam']\n",
      "['ham', 'spam']\n",
      "['spam']\n",
      "\n",
      "['spam', 'ham', 'egg', 'bacon', 'spring', 'boot']\n",
      "['spam', 'ham', 'egg', 'bacon', 'spring']\n",
      "['spam', 'ham', 'egg', 'bacon']\n",
      "['spam', 'ham', 'egg']\n",
      "['spam', 'ham']\n",
      "['spam']\n",
      "\n",
      "['spam', 'egg', 'spring']\n",
      "['ham', 'bacon', 'boot']\n",
      "\n",
      "['boot', 'spring', 'bacon', 'egg', 'ham', 'spam']\n",
      "['spring', 'egg', 'spam']\n"
     ]
    }
   ],
   "source": [
    "# Code\n",
    "\n",
    "L1 = \"spam ham egg bacon spring boot\".split()\n",
    "print(L1)\n",
    "\n",
    "# Indexing\n",
    "\n",
    "print(L1[3])\n",
    "print(L1[-3])\n",
    "print()\n",
    "print(L1[5])\n",
    "print(L1[-1])\n",
    "print()\n",
    "# Slicing\n",
    "\n",
    "# print(L1[start: stop: step])\n",
    "\n",
    "# Forward List\n",
    "\n",
    "print(L1[0:1]) # or print(L1[:1])\n",
    "print(L1[0:2]) # or print(L1[:2])\n",
    "print(L1[0:3]) # or print(L1[:3])\n",
    "print(L1[0:4]) # or print(L1[:4])\n",
    "print(L1[0:5]) # or print(L1[:5])\n",
    "print(L1[0:6]) # or print(L1[:6])\n",
    "print(L1[::])  # All elements\n",
    "print(L1) # All elements\n",
    "\n",
    "print()\n",
    "# Reverse List\n",
    "\n",
    "print(L1[-1::-1])\n",
    "print(L1[-2::-1])\n",
    "print(L1[-3::-1])\n",
    "print(L1[-4::-1])\n",
    "print(L1[-5::-1])\n",
    "print(L1[-6::-1])\n",
    "\n",
    "# Forward listing using negative index\n",
    "print()\n",
    "print(L1[-6:])\n",
    "print(L1[-6:-1])\n",
    "print(L1[-6:-2])\n",
    "print(L1[-6:-3])\n",
    "print(L1[-6:-4])\n",
    "print(L1[-6:-5])\n",
    "\n",
    "# Forward listing using step values\n",
    "print()\n",
    "print(L1[::2])\n",
    "print(L1[1::2])\n",
    "\n",
    "# Reverse listing using step values\n",
    "print()\n",
    "print(L1[::-1])\n",
    "print(L1[-2::-2])\n"
   ]
  },
  {
   "cell_type": "markdown",
   "id": "under-differential",
   "metadata": {
    "slideshow": {
     "slide_type": "slide"
    }
   },
   "source": [
    "# Comprehensions"
   ]
  },
  {
   "cell_type": "code",
   "execution_count": 2,
   "id": "configured-phenomenon",
   "metadata": {
    "ExecuteTime": {
     "end_time": "2021-08-25T05:33:02.014707Z",
     "start_time": "2021-08-25T05:33:02.003185Z"
    },
    "scrolled": true,
    "slideshow": {
     "slide_type": "subslide"
    }
   },
   "outputs": [
    {
     "name": "stdout",
     "output_type": "stream",
     "text": [
      "L2 = [45, 6, 5, 56, 77, 78, 34, 56, 456, 1000]\n",
      "\n",
      "47\n",
      "8\n",
      "7\n",
      "58\n",
      "79\n",
      "80\n",
      "36\n",
      "58\n",
      "458\n",
      "1002\n",
      "\n",
      "L3 = [47, 8, 7, 58, 79, 80, 36, 58, 458, 1002]\n",
      "\n",
      "L4 = [47, 8, 7, 58, 79, 80, 36, 58, 458, 1002]\n",
      "L5 = [47, 7, 79]\n"
     ]
    }
   ],
   "source": [
    "L2 = [45, 6, 5, 56, 77, 78, 34, 56, 456, 1000]\n",
    "print(f\"{L2 = }\")\n",
    "print()\n",
    "\n",
    "# Traditional Method\n",
    "for element in L2:\n",
    "    print(element+2)\n",
    "print()\n",
    "\n",
    "# Method 1\n",
    "L3 = [] \n",
    "for element in L2:\n",
    "    L3.append(element+2)\n",
    "print(f\"{L3 = }\")\n",
    "print()\n",
    "\n",
    "# List Comprehension\n",
    "L4 = [element+2 for element in L2] # [(doing something with element) for element in iterable]\n",
    "print(f\"{L4 = }\")\n",
    "\n",
    "# List Comprehension with Condition check\n",
    "L5 = [element+2 for element in L2 if (element+2) % 2 != 0] # [(doing something with element) for element in iterable <condition check>]\n",
    "print(f\"{L5 = }\")"
   ]
  },
  {
   "cell_type": "code",
   "execution_count": 62,
   "id": "fitting-actor",
   "metadata": {
    "ExecuteTime": {
     "end_time": "2021-08-23T07:00:37.304614Z",
     "start_time": "2021-08-23T07:00:37.282505Z"
    },
    "slideshow": {
     "slide_type": "subslide"
    }
   },
   "outputs": [
    {
     "name": "stdout",
     "output_type": "stream",
     "text": [
      "L3 = {458, 1002}\n"
     ]
    }
   ],
   "source": [
    "# Set Comprehension\n",
    "\n",
    "L3 = {element+2 for element in L2 if (element+2) > 100}\n",
    "print(f\"{L3 = }\")"
   ]
  },
  {
   "cell_type": "code",
   "execution_count": 11,
   "id": "comparable-release",
   "metadata": {
    "ExecuteTime": {
     "end_time": "2021-08-25T05:35:59.004395Z",
     "start_time": "2021-08-25T05:35:58.987568Z"
    },
    "slideshow": {
     "slide_type": "subslide"
    }
   },
   "outputs": [
    {
     "name": "stdout",
     "output_type": "stream",
     "text": [
      "D1 = {'employee1': 33, 'employee2': 27, 'employee3': 45}\n",
      "D2 = {}\n",
      "a 1\n",
      "b 2\n",
      "c 3\n",
      "\n",
      "dict_items([('employee1', 33), ('employee2', 27), ('employee3', 45)])\n",
      "dict_values([33, 27, 45])\n",
      "dict_keys(['employee1', 'employee2', 'employee3'])\n",
      "<class 'dict_items'>\n",
      "<class 'dict_values'>\n",
      "<class 'dict_keys'>\n",
      "\n",
      "D3 = {'employee1_101': 35, 'employee2_102': 29, 'employee3_103': 47}\n",
      "\n",
      "employee1_101 35\n",
      "employee2_102 29\n",
      "employee3_103 47\n",
      "<generator object <genexpr> at 0x7f9f0003b7b0>\n"
     ]
    }
   ],
   "source": [
    "# Dictionary Comprehension\n",
    "\n",
    "D1 = dict(employee1=33, employee2=27, employee3=45)\n",
    "print(f\"{D1 = }\")\n",
    "\n",
    "D2 = {key:value+2 for key, value in D1.items() if (value+2) % 3 == 0}\n",
    "print(f\"{D2 = }\")\n",
    "\n",
    "# zip function\n",
    "\n",
    "for value1, value2 in zip(['a', 'b', 'c'], [1, 2, 3]):\n",
    "    print(value1 , value2)\n",
    "print()\n",
    "    \n",
    "print(D1.items())\n",
    "print(D1.values())\n",
    "print(D1.keys())\n",
    "\n",
    "print(type(D1.items()))\n",
    "print(type(D1.values()))\n",
    "print(type(D1.keys()))\n",
    "    \n",
    "print()\n",
    "# Introducing zip function with D2\n",
    "\n",
    "D3 = {key + \"_\" + str(ids): value+2 for key, value, ids in zip(D1.keys(), D1.values(), [101, 102, 103])}\n",
    "print(f\"{D3 = }\")\n",
    "\n",
    "print()\n",
    "for key, value in D3.items(): # Unpacking Dictionary\n",
    "    print(key, value)\n",
    "\n",
    "# There is no tuple comprehensions but we call it as Generator Expressions\n",
    "G1 = (element+2 for element in L2)\n",
    "print(G1)"
   ]
  },
  {
   "cell_type": "markdown",
   "id": "handmade-warrior",
   "metadata": {
    "slideshow": {
     "slide_type": "slide"
    }
   },
   "source": [
    "\n",
    "# Methods"
   ]
  },
  {
   "cell_type": "markdown",
   "id": "pointed-earthquake",
   "metadata": {
    "slideshow": {
     "slide_type": "subslide"
    }
   },
   "source": [
    "1. Method is called by its name, but it is associated to an object (dependent)<br><br>\n",
    "2. Method is implicitly passed the object on which it is invoked. <br><bR>\n",
    "3. It may or may not return any data.<br><br>\n",
    "4. Method can operate on the data (instance variables) that is contained by a class</font></h5>"
   ]
  },
  {
   "cell_type": "code",
   "execution_count": 9,
   "id": "abd98a67",
   "metadata": {
    "ExecuteTime": {
     "end_time": "2021-08-24T05:13:46.778780Z",
     "start_time": "2021-08-24T05:13:46.710579Z"
    },
    "scrolled": true,
    "slideshow": {
     "slide_type": "subslide"
    }
   },
   "outputs": [
    {
     "name": "stdout",
     "output_type": "stream",
     "text": [
      "First line of code\n",
      "['prod1', 'prod2', 'prod3', 'prod4']\n",
      "{'fruit3', 'fruit1', 'fruit4', 'fruit2'}\n",
      "('one', 'two', 'three', 'four', 'five')\n",
      "{'Name': 'Python', 'DOB': '1991', 'Author': 'Guido Van Rossum'}\n",
      "134.678\n",
      "\n",
      "<class 'str'>\n",
      "<class 'list'>\n",
      "<class 'set'>\n",
      "<class 'tuple'>\n",
      "<class 'dict'>\n",
      "<class 'float'>\n",
      "\n",
      "\n",
      "Name of the car is Audi\n",
      "<class 'str'>\n",
      "Name of the car is BENZ\n",
      "<class 'str'>\n"
     ]
    },
    {
     "ename": "NameError",
     "evalue": "name 'audi' is not defined",
     "output_type": "error",
     "traceback": [
      "\u001b[0;31m---------------------------------------------------------------------------\u001b[0m",
      "\u001b[0;31mNameError\u001b[0m                                 Traceback (most recent call last)",
      "\u001b[0;32m/tmp/ipykernel_5748/3080491020.py\u001b[0m in \u001b[0;36m<module>\u001b[0;34m\u001b[0m\n\u001b[1;32m     36\u001b[0m \u001b[0mprint\u001b[0m\u001b[0;34m(\u001b[0m\u001b[0mbenz\u001b[0m\u001b[0;34m(\u001b[0m\u001b[0;34m)\u001b[0m\u001b[0;34m)\u001b[0m\u001b[0;34m\u001b[0m\u001b[0;34m\u001b[0m\u001b[0m\n\u001b[1;32m     37\u001b[0m \u001b[0mprint\u001b[0m\u001b[0;34m(\u001b[0m\u001b[0mtype\u001b[0m\u001b[0;34m(\u001b[0m\u001b[0mbenz\u001b[0m\u001b[0;34m(\u001b[0m\u001b[0;34m)\u001b[0m\u001b[0;34m)\u001b[0m\u001b[0;34m)\u001b[0m\u001b[0;34m\u001b[0m\u001b[0;34m\u001b[0m\u001b[0m\n\u001b[0;32m---> 38\u001b[0;31m \u001b[0mprint\u001b[0m\u001b[0;34m(\u001b[0m\u001b[0maudi\u001b[0m\u001b[0;34m(\u001b[0m\u001b[0;34m)\u001b[0m\u001b[0;34m)\u001b[0m\u001b[0;34m\u001b[0m\u001b[0;34m\u001b[0m\u001b[0m\n\u001b[0m",
      "\u001b[0;31mNameError\u001b[0m: name 'audi' is not defined"
     ]
    }
   ],
   "source": [
    "string_data = \"First line of code\"\n",
    "list_data = \"prod1 prod2 prod3 prod4\".split()\n",
    "set_data = set(\"fruit1 fruit2 fruit3 fruit4\".split())\n",
    "tuple_data = tuple(\"one two three four five\".split())\n",
    "dictionary_data = dict(Name=\"Python\", DOB=\"1991\", Author=\"Guido Van Rossum\")\n",
    "digits_data = 134.678\n",
    "\n",
    "\n",
    "print(string_data)\n",
    "print(list_data)\n",
    "print(set_data)\n",
    "print(tuple_data)\n",
    "print(dictionary_data)\n",
    "print(digits_data)\n",
    "\n",
    "print()\n",
    "\n",
    "print(type(string_data))\n",
    "print(type(list_data))\n",
    "print(type(set_data))\n",
    "print(type(tuple_data))\n",
    "print(type(dictionary_data))\n",
    "print(type(digits_data))\n",
    "\n",
    "print()\n",
    "class BaseModel: # a class\n",
    "    def audi(): # a Method that is associated with BaseModel Class\n",
    "        return \"Name of the car is Audi\"\n",
    "    def benz(): # a Method that is associated with BaseModel Class\n",
    "        return f\"Name of the car is {'benz'.upper()}\"\n",
    "\n",
    "print()\n",
    "    \n",
    "\n",
    "def benz(): # a Function\n",
    "    return f\"Name of the car is {'benz'.upper()}\"\n",
    "    \n",
    "    \n",
    "print(BaseModel.audi())\n",
    "print(type(BaseModel.audi()))\n",
    "\n",
    "print(benz())\n",
    "print(type(benz()))\n",
    "print(audi())"
   ]
  },
  {
   "cell_type": "markdown",
   "id": "legal-toyota",
   "metadata": {
    "slideshow": {
     "slide_type": "slide"
    }
   },
   "source": [
    "# String Methods\n",
    "\n",
    "#### string - immutable or hashable data type"
   ]
  },
  {
   "cell_type": "code",
   "execution_count": 8,
   "id": "violent-cosmetic",
   "metadata": {
    "ExecuteTime": {
     "end_time": "2021-08-24T07:25:25.382837Z",
     "start_time": "2021-08-24T07:25:25.318085Z"
    },
    "scrolled": false,
    "slideshow": {
     "slide_type": "subslide"
    }
   },
   "outputs": [
    {
     "name": "stdout",
     "output_type": "stream",
     "text": [
      "These are the method available in string_1 string class\n",
      "=======================================================\n",
      "['__add__', '__class__', '__contains__', '__delattr__', '__dir__', '__doc__', '__eq__', '__format__', '__ge__', '__getattribute__', '__getitem__', '__getnewargs__', '__gt__', '__hash__', '__init__', '__init_subclass__', '__iter__', '__le__', '__len__', '__lt__', '__mod__', '__mul__', '__ne__', '__new__', '__reduce__', '__reduce_ex__', '__repr__', '__rmod__', '__rmul__', '__setattr__', '__sizeof__', '__str__', '__subclasshook__', 'capitalize', 'casefold', 'center', 'count', 'encode', 'endswith', 'expandtabs', 'find', 'format', 'format_map', 'index', 'isalnum', 'isalpha', 'isascii', 'isdecimal', 'isdigit', 'isidentifier', 'islower', 'isnumeric', 'isprintable', 'isspace', 'istitle', 'isupper', 'join', 'ljust', 'lower', 'lstrip', 'maketrans', 'partition', 'removeprefix', 'removesuffix', 'replace', 'rfind', 'rindex', 'rjust', 'rpartition', 'rsplit', 'rstrip', 'split', 'splitlines', 'startswith', 'strip', 'swapcase', 'title', 'translate', 'upper', 'zfill']\n",
      "=======================================================\n",
      "FOO BAR BAZ JAZZ BAZZ\n",
      "foo bar baz jazz bazz\n",
      "Foo bar baz jazz bazz\n",
      "Foo Bar Baz Jazz Bazz\n",
      "['foo', 'bar', 'baz', 'Jazz', 'bazz']\n",
      "['Welcome to Python Tutorials', ' please join hands with me']\n",
      "3\n",
      "True\n",
      "False\n",
      "False\n",
      "True\n",
      "False\n",
      "False\n",
      "True\n",
      "4\n",
      "5648295\n",
      "('No 4, Nehru Street, ', 'XYZ', ' state, pincode - 5648295')\n",
      "('', 'foo', ' bar baz Jazz bazz')\n",
      "8\n",
      "Name of the tool: Jupyter\n",
      "Name of the tool: Jupyter, Sub-tool under Jupyter: Notebook\n",
      "Name of the tool: JUPYTER, Sub-tool under Jupyter: NOTEBOOK\n",
      "Jupyter Notebook\n",
      "Jupyter Notebook\n",
      "127873947\n",
      "(7865-78j)\n",
      "\n",
      "foo bar baz Jazz bazz\n",
      "Welcome to Python Tutorials, please join hands with me\n",
      "Ilovechocolates\n",
      "No 4, Nehru Street, XYZ state, pincode - 5648295\n",
      "FOO BAR BAZ JAZZ BAZZ\n",
      "\n",
      "f\n"
     ]
    },
    {
     "ename": "TypeError",
     "evalue": "'str' object does not support item assignment",
     "output_type": "error",
     "traceback": [
      "\u001b[0;31m---------------------------------------------------------------------------\u001b[0m",
      "\u001b[0;31mTypeError\u001b[0m                                 Traceback (most recent call last)",
      "\u001b[0;32m/tmp/ipykernel_7408/985774951.py\u001b[0m in \u001b[0;36m<module>\u001b[0;34m\u001b[0m\n\u001b[1;32m     67\u001b[0m \u001b[0mprint\u001b[0m\u001b[0;34m(\u001b[0m\u001b[0;34m)\u001b[0m\u001b[0;34m\u001b[0m\u001b[0;34m\u001b[0m\u001b[0m\n\u001b[1;32m     68\u001b[0m \u001b[0mprint\u001b[0m\u001b[0;34m(\u001b[0m\u001b[0mstring_1\u001b[0m\u001b[0;34m[\u001b[0m\u001b[0;36m0\u001b[0m\u001b[0;34m]\u001b[0m\u001b[0;34m)\u001b[0m\u001b[0;34m\u001b[0m\u001b[0;34m\u001b[0m\u001b[0m\n\u001b[0;32m---> 69\u001b[0;31m \u001b[0mstring_1\u001b[0m\u001b[0;34m[\u001b[0m\u001b[0;36m0\u001b[0m\u001b[0;34m]\u001b[0m \u001b[0;34m=\u001b[0m \u001b[0;34m\"F\"\u001b[0m\u001b[0;34m\u001b[0m\u001b[0;34m\u001b[0m\u001b[0m\n\u001b[0m",
      "\u001b[0;31mTypeError\u001b[0m: 'str' object does not support item assignment"
     ]
    }
   ],
   "source": [
    "# Code\n",
    "string_1 = \"foo bar baz Jazz bazz\" # string and immutable\n",
    "print(\"These are the method available in string_1 string class\")\n",
    "print(\"=======================================================\")\n",
    "print(dir(string_1))\n",
    "print(\"=======================================================\")\n",
    "print(string_1.upper()) # converts to All capital letters \n",
    "print(string_1.lower()) # converts to All small letters\n",
    "print(string_1.capitalize()) # converts first character to capital letter\n",
    "print(string_1.title()) # converts all first character of words in a sentence to capital letter\n",
    "print(string_1.split()) # it converts given string into a list\n",
    "\n",
    "string_2 = \"Welcome to Python Tutorials, please join hands with me\"\n",
    "print(string_2.split(\",\")) # split happened based on delimiter \",\"\n",
    "print(string_1.count(\"az\"))\n",
    "print(string_2.endswith(\"me\"))\n",
    "print(string_2.endswith(\"mean\"))\n",
    "print(string_1.startswith(\"Foo \"))\n",
    "print(string_1.startswith(\"foo \"))\n",
    "print(string_2.isalpha())\n",
    "\n",
    "string_3 = \"Ilovechocolates\"\n",
    "print(string_1.isalpha())\n",
    "first_element_from_string_1 = string_1.split()[0]\n",
    "print(first_element_from_string_1.isalpha())\n",
    "\n",
    "string_4 = \"No 4, Nehru Street, XYZ state, pincode - 5648295\"\n",
    "for element in string_4.split():\n",
    "    for sub_element in element.split(\",\"):\n",
    "        if sub_element.isdigit():\n",
    "            print(sub_element)\n",
    "\n",
    "print(string_4.partition(\"XYZ\"))\n",
    "print(string_1.rpartition(\"foo\"))\n",
    "\n",
    "print(string_1.find(\"baz\"))\n",
    "\n",
    "# print(\"Name of the tool: %s\" % \"Jupyter\") # Before Python 3.4\n",
    "\n",
    "tool_used = \"Jupyter\"\n",
    "sub_tool_used = \"Notebook\"\n",
    "print(\"Name of the tool: {}\".format(tool_used)) # After Python3.4\n",
    "print(\"Name of the tool: {0}, Sub-tool under {0}: {1}\".format(tool_used, sub_tool_used)) # After Python3.4\n",
    "print(f\"Name of the tool: {tool_used.upper()}, Sub-tool under {tool_used}: {sub_tool_used.upper()}\") # After Python 3.6\n",
    "\n",
    "# string concatenation\n",
    "\n",
    "print(tool_used + \" \" + sub_tool_used)\n",
    "print(f\"{tool_used} {sub_tool_used}\") # Not string concatenation just using f-string format\n",
    "\n",
    "# convertion\n",
    "print(int(\"127873947\"))\n",
    "print(str(7865-78j))\n",
    "\n",
    "print()\n",
    "# \n",
    "\n",
    "print(string_1)\n",
    "print(string_2)\n",
    "print(string_3)\n",
    "print(string_4)\n",
    "string_5 = string_1.upper()\n",
    "print(string_5)\n",
    "\n",
    "# How to find immutability\n",
    "\n",
    "print()\n",
    "print(string_1[0])\n",
    "string_1[0] = \"F\""
   ]
  },
  {
   "cell_type": "markdown",
   "id": "gorgeous-guatemala",
   "metadata": {
    "slideshow": {
     "slide_type": "slide"
    }
   },
   "source": [
    "# List Methods\n",
    "\n",
    "#### list - mutable or unhashable data type"
   ]
  },
  {
   "cell_type": "code",
   "execution_count": 40,
   "id": "meaning-crowd",
   "metadata": {
    "ExecuteTime": {
     "end_time": "2021-08-25T06:07:14.985384Z",
     "start_time": "2021-08-25T06:07:14.965926Z"
    },
    "scrolled": false,
    "slideshow": {
     "slide_type": "subslide"
    }
   },
   "outputs": [
    {
     "name": "stdout",
     "output_type": "stream",
     "text": [
      "['spam', 'ham', 'egg', 'bacon', 'spring', 'boot']\n",
      "These are the method available in L1 list class\n",
      "=======================================================\n",
      "['__add__', '__class__', '__class_getitem__', '__contains__', '__delattr__', '__delitem__', '__dir__', '__doc__', '__eq__', '__format__', '__ge__', '__getattribute__', '__getitem__', '__gt__', '__hash__', '__iadd__', '__imul__', '__init__', '__init_subclass__', '__iter__', '__le__', '__len__', '__lt__', '__mul__', '__ne__', '__new__', '__reduce__', '__reduce_ex__', '__repr__', '__reversed__', '__rmul__', '__setattr__', '__setitem__', '__sizeof__', '__str__', '__subclasshook__', 'append', 'clear', 'copy', 'count', 'extend', 'index', 'insert', 'pop', 'remove', 'reverse', 'sort']\n",
      "=======================================================\n",
      "['spam', 'ham', 'egg', 'bacon', 'spring', 'boot', 'omlet']\n",
      "['spam', 'ham', 'onion', 'bacon', 'spring', 'boot', 'omlet']\n",
      "['spam', 'ham', 'onion', 'bacon', 'spring', 'boot', 'omlet', 10, 20, 30, 10, 10, 20, 25, 0, 1, 1, 2]\n",
      "3\n",
      "['spam', 'ham', 'onion', 'bacon', 'spring', 'boot', 'omlet', 10, 20, 30, 10, 10, 20, 25, 0, 1, 1]\n",
      "['spam', 'ham', 'onion', 'bacon', 'boot', 'omlet', 10, 20, 30, 10, 10, 20, 25, 0, 1, 1]\n",
      "['spam', 'ham', 'onion', 'bacon', 'boot', 'omlet', 10, 20, 30, 10, 20, 25, 0, 1, 1]\n",
      "['spam', 'ham', 'bacon', 'boot', 'omlet', 10, 20, 30, 10, 20, 25, 0, 1, 1]\n",
      "['spam', 'ham', 'bacon', 'boot', 'omlet', 20, 30, 10, 20, 25, 0, 1, 1]\n",
      "['b', 'c', 'a', 'f', 'h', 'i', 'l', 'q', 't', 'u', 'w', 'v', 'z']\n",
      "['a', 'b', 'c', 'f', 'h', 'i', 'l', 'q', 't', 'u', 'v', 'w', 'z']\n",
      "['z', 'w', 'v', 'u', 't', 'q', 'l', 'i', 'h', 'f', 'c', 'b', 'a']\n",
      "['spam', 'ham', 'rainy', 'bacon', 'boot', 'omlet', 20, 30, 10, 20, 25, 0, 1, 1]\n",
      "12\n",
      "[1, 1, 0, 25, 20, 10, 30, 20, 'omlet', 'boot', 'bacon', 'rainy', 'ham', 'spam']\n",
      "['spam', 'ham', 'rainy', 'bacon', 'boot', 'omlet', 20, 30, 10, 20, 25, 0, 1, 1]\n"
     ]
    }
   ],
   "source": [
    "# Code\n",
    "L1 = ['spam', 'ham', 'egg', 'bacon', 'spring', 'boot']\n",
    "print(L1)\n",
    "print(\"These are the method available in L1 list class\")\n",
    "print(\"=======================================================\")\n",
    "print(dir(L1))\n",
    "print(\"=======================================================\")\n",
    "L1.append(\"omlet\")\n",
    "print(L1)\n",
    "L1[2] = \"onion\"\n",
    "print(L1)\n",
    "L1.extend([10, 20, 30, 10, 10, 20, 25, 0, 1, 1, 2,])\n",
    "print(L1)\n",
    "print(L1.count(10))\n",
    "L1.pop()\n",
    "print(L1)\n",
    "L1.pop(4)\n",
    "print(L1)\n",
    "L1.pop(-6)\n",
    "print(L1)\n",
    "L1.remove(\"onion\")\n",
    "print(L1)\n",
    "L1.remove(10)\n",
    "print(L1)\n",
    "L2 = \"b c a f h i l q t u w v z\".split()\n",
    "print(L2)\n",
    "L2.sort()\n",
    "print(L2)\n",
    "L2.sort(reverse=True)\n",
    "print(L2)\n",
    "L1.insert(2, \"rainy\")\n",
    "print(L1)\n",
    "print(L2.index(\"a\"))\n",
    "L1.reverse()\n",
    "print(L1)\n",
    "print(L1[::-1])"
   ]
  },
  {
   "cell_type": "markdown",
   "id": "dressed-hydrogen",
   "metadata": {
    "slideshow": {
     "slide_type": "slide"
    }
   },
   "source": [
    "# Set Methods"
   ]
  },
  {
   "cell_type": "code",
   "execution_count": 89,
   "id": "gross-bristol",
   "metadata": {
    "ExecuteTime": {
     "end_time": "2021-08-25T07:16:32.752270Z",
     "start_time": "2021-08-25T07:16:32.738815Z"
    },
    "slideshow": {
     "slide_type": "subslide"
    }
   },
   "outputs": [
    {
     "name": "stdout",
     "output_type": "stream",
     "text": [
      "set1 = {'name30', 'name5', 'name100', 'name8', 'name20', 'name7', 'name3', 'name10', 'name1'}\n",
      "set2 = {'name72', 'name30', 'name29', 'name1000', 'name52', 'name7', 'name3', 'name6', 'name101', 'name1'}\n",
      "set3 = {'name30', 'name53', 'name62', 'name45', 'name100', 'name20', 'name7', 'name89', 'name3', 'name10'}\n",
      "\n",
      "These are the method available in set class\n",
      "=======================================================\n",
      "['__and__', '__class__', '__class_getitem__', '__contains__', '__delattr__', '__dir__', '__doc__', '__eq__', '__format__', '__ge__', '__getattribute__', '__gt__', '__hash__', '__iand__', '__init__', '__init_subclass__', '__ior__', '__isub__', '__iter__', '__ixor__', '__le__', '__len__', '__lt__', '__ne__', '__new__', '__or__', '__rand__', '__reduce__', '__reduce_ex__', '__repr__', '__ror__', '__rsub__', '__rxor__', '__setattr__', '__sizeof__', '__str__', '__sub__', '__subclasshook__', '__xor__', 'add', 'clear', 'copy', 'difference', 'difference_update', 'discard', 'intersection', 'intersection_update', 'isdisjoint', 'issubset', 'issuperset', 'pop', 'remove', 'symmetric_difference', 'symmetric_difference_update', 'union', 'update']\n",
      "=======================================================\n",
      "\n",
      "changed_set1 = {'name30', 'name5', 'name100', 'name8', 'name20', 'name7', 'name3', 'name200', 'name10', 'name1'}\n",
      "changed_set1 = {'name30', 'name5', 'name100', 'name8', 'name20', (22, 34, 45), 'name7', 'name3', 'name200', 'name10', 'name1'}\n",
      "existing element added changed_set1 = {'name30', 'name5', 'name100', 'name8', 'name20', (22, 34, 45), 'name7', 'name3', 'name200', 'name10', 'name1'}\n",
      "\n",
      "set1 Union of set2 = {'name1000', 'name8', 'name20', (22, 34, 45), 'name3', 'name101', 'name72', 'name30', 'name29', 'name10', 'name100', 'name52', 'name7', 'name6', 'name200', 'name5', 'name1'}\n",
      "\n",
      "set1 Intersection of set2 = {'name7', 'name3', 'name1', 'name30'}\n",
      "set1 Intersection of set3 = {'name30', 'name100', 'name20', 'name7', 'name3', 'name10'}\n",
      "set2 Intersection of set1 = {'name7', 'name3', 'name1', 'name30'}\n",
      "\n",
      "set1 = {'name5', 'name100', 'name8', 'name20', (22, 34, 45), 'name7', 'name3', 'name200', 'name10', 'name1'}\n",
      "\n",
      "Last_updated_set1 = {'name100', 'name8', 'name20', (22, 34, 45), 'name7', 'name3', 'name200', 'name10', 'name1'}\n",
      "set2 = {'name72', 'name30', 'name29', 'name1000', 'name52', 'name7', 'name3', 'name6', 'name101', 'name1'}\n",
      "set3 = {'name30', 'name53', 'name62', 'name45', 'name100', 'name20', 'name7', 'name89', 'name3', 'name10'}\n",
      "\n",
      "Last_updated_set3 = {'name30', 'name53', 'name62', 'name45', 'name100', 'name20', 'name7', 'name3', 'name10'}\n",
      "\n",
      "set1 difference of set2 = {'name100', 'name20', 'name8', (22, 34, 45), 'name200', 'name10'}\n",
      "set2 difference of set1 = {'name72', 'name30', 'name29', 'name1000', 'name52', 'name6', 'name101'}\n",
      "set2 difference of set1 and set3 = {'name72', 'name29', 'name1000', 'name52', 'name6', 'name101'}\n",
      "\n",
      "set1 symmetric_difference of set2 = {'name72', 'name30', 'name29', 'name1000', 'name10', 'name100', 'name8', 'name20', 'name52', 'name6', (22, 34, 45), 'name200', 'name101'}\n"
     ]
    }
   ],
   "source": [
    "# Code\n",
    "set1 = set(\"name1 name1 name3 name5 name7 name10 name8 name20 name30 name3 name7 name100\".split())\n",
    "set2 = set(\"name1 name3 name6 name29 name72 name1000 name52 name30 name30 name3 name7 name101\".split())\n",
    "set3 = set(\"name45 name53 name62 name89 name7 name10 name3 name30 name20 name3 name7 name100\".split())\n",
    "print(f\"{set1 = }\")\n",
    "print(f\"{set2 = }\")\n",
    "print(f\"{set3 = }\")\n",
    "print()\n",
    "print(\"These are the method available in set class\")\n",
    "print(\"=======================================================\")\n",
    "print(dir(set))\n",
    "print(\"=======================================================\")\n",
    "print()\n",
    "set1.add(\"name200\")\n",
    "print(f\"changed_set1 = {set1}\")\n",
    "set1.add((22, 34, 45))\n",
    "print(f\"changed_set1 = {set1}\")\n",
    "set1.add(\"name30\")\n",
    "print(f\"existing element added changed_set1 = {set1}\")\n",
    "print()\n",
    "print(f\"set1 Union of set2 = {set1.union(set2)}\")\n",
    "print()\n",
    "print(f\"set1 Intersection of set2 = {set1.intersection(set2)}\")\n",
    "print(f\"set1 Intersection of set3 = {set1.intersection(set3)}\")\n",
    "print(f\"set2 Intersection of set1 = {set2.intersection(set1)}\")\n",
    "print()\n",
    "set1.pop()\n",
    "print(f\"{set1 = }\")\n",
    "set1.pop()\n",
    "print()\n",
    "print(f\"Last_updated_set1 = {set1}\")\n",
    "print(f\"{set2 = }\")\n",
    "print(f\"{set3 = }\")\n",
    "print()\n",
    "set3.remove(\"name89\")\n",
    "# set3.remove(\"name8000\") # this will throw an error as \"name8000\" member not there in set3\n",
    "print(f\"Last_updated_set3 = {set3}\")\n",
    "print()\n",
    "print(f\"set1 difference of set2 = {set1.difference(set2)}\")\n",
    "print(f\"set2 difference of set1 = {set2.difference(set1)}\")\n",
    "print(f\"set2 difference of set1 and set3 = {set2.difference(set1).difference(set3)}\")\n",
    "print()\n",
    "print(f\"set1 symmetric_difference of set2 = {set1.symmetric_difference(set2)}\")"
   ]
  },
  {
   "cell_type": "markdown",
   "id": "sized-antigua",
   "metadata": {
    "slideshow": {
     "slide_type": "slide"
    }
   },
   "source": [
    "# Dictionary Methods"
   ]
  },
  {
   "cell_type": "code",
   "execution_count": 125,
   "id": "underlying-practice",
   "metadata": {
    "ExecuteTime": {
     "end_time": "2021-08-25T07:41:24.331766Z",
     "start_time": "2021-08-25T07:41:24.316884Z"
    },
    "slideshow": {
     "slide_type": "subslide"
    }
   },
   "outputs": [
    {
     "name": "stdout",
     "output_type": "stream",
     "text": [
      "D1 = {'employee1': 33, 'employee2': 27, 'employee3': 45}\n",
      "\n",
      "updated Dictionary = D1 = {'employee1': 33, 'employee2': 27, 'employee3': 45, 'employee4': 28, 'employee5': 21}\n",
      "\n",
      "These are the method available in dictionary class\n",
      "=======================================================\n",
      "['__class__', '__class_getitem__', '__contains__', '__delattr__', '__delitem__', '__dir__', '__doc__', '__eq__', '__format__', '__ge__', '__getattribute__', '__getitem__', '__gt__', '__hash__', '__init__', '__init_subclass__', '__ior__', '__iter__', '__le__', '__len__', '__lt__', '__ne__', '__new__', '__or__', '__reduce__', '__reduce_ex__', '__repr__', '__reversed__', '__ror__', '__setattr__', '__setitem__', '__sizeof__', '__str__', '__subclasshook__', 'clear', 'copy', 'fromkeys', 'get', 'items', 'keys', 'pop', 'popitem', 'setdefault', 'update', 'values']\n",
      "=======================================================\n",
      "\n",
      "dict_keys(['employee1', 'employee2', 'employee3', 'employee4', 'employee5'])\n",
      "\n",
      "dict_values([33, 27, 45, 28, 21])\n",
      "\n",
      "dict_items([('employee1', 33), ('employee2', 27), ('employee3', 45), ('employee4', 28), ('employee5', 21)])\n",
      "\n",
      "D1.employee5 = 21\n",
      "D1.employee4 = 28\n",
      "\n",
      "pop'ed employee3 key Dictionary = D1 = {'employee1': 33, 'employee2': 27, 'employee4': 28, 'employee5': 21}\n",
      "D1 = {'employee1': 33, 'employee2': 27, 'employee4': 28, 'employee5': 21, 'CEO': None}\n",
      "pop'ed employee1 key Dictionary = D1 = {'employee2': 27, 'employee4': 28, 'employee5': 21, 'CEO': None}\n",
      "pop'ed employee2 key Dictionary = D1 = {'employee4': 28, 'employee5': 21, 'CEO': None}\n",
      "pop'ed employee4 key Dictionary = D1 = {'employee5': 21, 'CEO': None}\n",
      "pop'ed employee5 key Dictionary = D1 = {'CEO': None}\n",
      "\n",
      "D2 = {'employee1': 33, 'employee2': 27, 'employee3': 45}\n",
      "pop'ed last item of the dictionary D2 = D2 = {'employee1': 33, 'employee2': 27}\n"
     ]
    }
   ],
   "source": [
    "# Code\n",
    "D1 = dict(employee1=33, employee2=27, employee3=45)\n",
    "D2 = D1.copy()\n",
    "print(f\"{D1 = }\")\n",
    "print()\n",
    "D1[\"employee4\"] = 28\n",
    "D1[\"employee5\"] = 21\n",
    "print(f\"updated Dictionary = {D1 = }\")\n",
    "print()\n",
    "print(\"These are the method available in dictionary class\")\n",
    "print(\"=======================================================\")\n",
    "print(dir(dict))\n",
    "print(\"=======================================================\")\n",
    "print()\n",
    "print(D1.keys()) # to get the keys\n",
    "print()\n",
    "print(D1.values()) # to get the values\n",
    "print()\n",
    "print(D1.items()) # to get the dictionary elements\n",
    "print()\n",
    "print(f\"D1.employee5 = {D1['employee5']}\") # to get induvidual key value\n",
    "print(f\"D1.employee4 = {D1.get('employee4')}\") # to get induvidual key value use get method\n",
    "print()\n",
    "D1.pop(\"employee3\")\n",
    "print(f\"pop'ed employee3 key Dictionary = {D1 = }\")\n",
    "D1.setdefault(\"CEO\")\n",
    "print(f\"{D1 = }\")\n",
    "D1.pop(\"employee1\")\n",
    "print(f\"pop'ed employee1 key Dictionary = {D1 = }\")\n",
    "D1.pop(\"employee2\")\n",
    "print(f\"pop'ed employee2 key Dictionary = {D1 = }\")\n",
    "D1.pop(\"employee4\")\n",
    "print(f\"pop'ed employee4 key Dictionary = {D1 = }\")\n",
    "D1.pop(\"employee5\")\n",
    "print(f\"pop'ed employee5 key Dictionary = {D1 = }\")\n",
    "print()\n",
    "print(f\"{D2 = }\")\n",
    "D2.popitem()\n",
    "print(f\"pop'ed last item of the dictionary D2 = {D2 = }\")\n"
   ]
  },
  {
   "cell_type": "markdown",
   "id": "domestic-lucas",
   "metadata": {
    "slideshow": {
     "slide_type": "slide"
    }
   },
   "source": [
    "# Tuple Methods"
   ]
  },
  {
   "cell_type": "code",
   "execution_count": 129,
   "id": "swiss-reward",
   "metadata": {
    "ExecuteTime": {
     "end_time": "2021-08-25T07:43:56.109385Z",
     "start_time": "2021-08-25T07:43:56.101962Z"
    },
    "slideshow": {
     "slide_type": "subslide"
    }
   },
   "outputs": [
    {
     "name": "stdout",
     "output_type": "stream",
     "text": [
      "\n",
      "These are the method available in tuple class\n",
      "=======================================================\n",
      "['__add__', '__class__', '__class_getitem__', '__contains__', '__delattr__', '__dir__', '__doc__', '__eq__', '__format__', '__ge__', '__getattribute__', '__getitem__', '__getnewargs__', '__gt__', '__hash__', '__init__', '__init_subclass__', '__iter__', '__le__', '__len__', '__lt__', '__mul__', '__ne__', '__new__', '__reduce__', '__reduce_ex__', '__repr__', '__rmul__', '__setattr__', '__sizeof__', '__str__', '__subclasshook__', 'count', 'index']\n",
      "=======================================================\n",
      "3\n",
      "7\n"
     ]
    }
   ],
   "source": [
    "# Code\n",
    "\n",
    "t1 = 1, 2, 3, 3, 3, 4, 4, 5, 5, 6, 10 , \"apple\", \"tour\", \"crab\", \"fish\"\n",
    "print()\n",
    "print(\"These are the method available in tuple class\")\n",
    "print(\"=======================================================\")\n",
    "print(dir(tuple))\n",
    "print(\"=======================================================\")\n",
    "print(t1.count(3)) # this will return the number of occurences of a given value in a tuple\n",
    "print(t1.index(5)) # this will return the index number of a give value in a tuple"
   ]
  },
  {
   "cell_type": "markdown",
   "id": "horizontal-irish",
   "metadata": {
    "slideshow": {
     "slide_type": "slide"
    }
   },
   "source": [
    "# Lambda functions"
   ]
  },
  {
   "cell_type": "code",
   "execution_count": 9,
   "id": "governmental-battery",
   "metadata": {
    "ExecuteTime": {
     "end_time": "2021-08-22T17:32:40.572578Z",
     "start_time": "2021-08-22T17:32:40.556197Z"
    },
    "slideshow": {
     "slide_type": "subslide"
    }
   },
   "outputs": [],
   "source": [
    "# Code"
   ]
  },
  {
   "cell_type": "markdown",
   "id": "korean-geometry",
   "metadata": {
    "slideshow": {
     "slide_type": "slide"
    }
   },
   "source": [
    "# Insight - Built in Functions"
   ]
  },
  {
   "cell_type": "markdown",
   "id": "expressed-interval",
   "metadata": {
    "slideshow": {
     "slide_type": "subslide"
    }
   },
   "source": [
    "## print( )"
   ]
  },
  {
   "cell_type": "code",
   "execution_count": 10,
   "id": "offensive-position",
   "metadata": {
    "ExecuteTime": {
     "end_time": "2021-08-22T17:32:47.228120Z",
     "start_time": "2021-08-22T17:32:47.201186Z"
    },
    "code_folding": [],
    "slideshow": {
     "slide_type": "subslide"
    }
   },
   "outputs": [],
   "source": [
    "# Code"
   ]
  },
  {
   "cell_type": "markdown",
   "id": "aerial-format",
   "metadata": {
    "slideshow": {
     "slide_type": "subslide"
    }
   },
   "source": [
    "## dir( )"
   ]
  },
  {
   "cell_type": "code",
   "execution_count": 11,
   "id": "hollywood-background",
   "metadata": {
    "ExecuteTime": {
     "end_time": "2021-08-22T17:32:52.455589Z",
     "start_time": "2021-08-22T17:32:52.438941Z"
    },
    "slideshow": {
     "slide_type": "subslide"
    }
   },
   "outputs": [],
   "source": [
    "# Code"
   ]
  },
  {
   "cell_type": "markdown",
   "id": "improved-boost",
   "metadata": {
    "slideshow": {
     "slide_type": "subslide"
    }
   },
   "source": [
    "## enumerate( )"
   ]
  },
  {
   "cell_type": "code",
   "execution_count": 12,
   "id": "statutory-porter",
   "metadata": {
    "ExecuteTime": {
     "end_time": "2021-08-22T17:32:56.818246Z",
     "start_time": "2021-08-22T17:32:56.799594Z"
    },
    "slideshow": {
     "slide_type": "subslide"
    }
   },
   "outputs": [],
   "source": [
    "# Code"
   ]
  },
  {
   "cell_type": "markdown",
   "id": "extraordinary-extreme",
   "metadata": {
    "slideshow": {
     "slide_type": "subslide"
    }
   },
   "source": [
    "## map( ) and filter( )\n",
    "\n",
    "### - map(function, iterable)\n",
    "\n",
    "### - filter(function, Iterable)"
   ]
  },
  {
   "cell_type": "code",
   "execution_count": 13,
   "id": "qualified-dayton",
   "metadata": {
    "ExecuteTime": {
     "end_time": "2021-08-22T17:33:12.139085Z",
     "start_time": "2021-08-22T17:33:12.115925Z"
    },
    "slideshow": {
     "slide_type": "subslide"
    }
   },
   "outputs": [],
   "source": [
    "# map function\n",
    "\n",
    "\n",
    "# filter function"
   ]
  },
  {
   "cell_type": "markdown",
   "id": "impossible-paper",
   "metadata": {
    "slideshow": {
     "slide_type": "subslide"
    }
   },
   "source": [
    "## open( )"
   ]
  },
  {
   "cell_type": "code",
   "execution_count": 14,
   "id": "japanese-myrtle",
   "metadata": {
    "ExecuteTime": {
     "end_time": "2021-08-22T17:33:27.050515Z",
     "start_time": "2021-08-22T17:33:27.031789Z"
    },
    "slideshow": {
     "slide_type": "subslide"
    }
   },
   "outputs": [],
   "source": [
    "# Code"
   ]
  },
  {
   "cell_type": "markdown",
   "id": "golden-heaven",
   "metadata": {
    "slideshow": {
     "slide_type": "subslide"
    }
   },
   "source": [
    "## input()"
   ]
  },
  {
   "cell_type": "code",
   "execution_count": 15,
   "id": "sudden-cambodia",
   "metadata": {
    "ExecuteTime": {
     "end_time": "2021-08-22T17:33:31.426057Z",
     "start_time": "2021-08-22T17:33:31.410560Z"
    },
    "slideshow": {
     "slide_type": "subslide"
    }
   },
   "outputs": [],
   "source": [
    "# Code"
   ]
  },
  {
   "cell_type": "markdown",
   "id": "recovered-financing",
   "metadata": {
    "slideshow": {
     "slide_type": "subslide"
    }
   },
   "source": [
    "## reversed( )"
   ]
  },
  {
   "cell_type": "code",
   "execution_count": 16,
   "id": "dominant-pocket",
   "metadata": {
    "ExecuteTime": {
     "end_time": "2021-08-22T17:33:37.212203Z",
     "start_time": "2021-08-22T17:33:37.193330Z"
    },
    "slideshow": {
     "slide_type": "subslide"
    }
   },
   "outputs": [],
   "source": [
    "# Code"
   ]
  },
  {
   "cell_type": "markdown",
   "id": "boolean-nicaragua",
   "metadata": {
    "slideshow": {
     "slide_type": "subslide"
    }
   },
   "source": [
    "## sorted( )"
   ]
  },
  {
   "cell_type": "code",
   "execution_count": 17,
   "id": "decreased-locking",
   "metadata": {
    "ExecuteTime": {
     "end_time": "2021-08-22T17:33:42.186760Z",
     "start_time": "2021-08-22T17:33:42.172222Z"
    },
    "scrolled": true,
    "slideshow": {
     "slide_type": "subslide"
    }
   },
   "outputs": [],
   "source": [
    "# Code"
   ]
  },
  {
   "cell_type": "markdown",
   "id": "empirical-spectacular",
   "metadata": {
    "slideshow": {
     "slide_type": "slide"
    }
   },
   "source": [
    "# Importing"
   ]
  },
  {
   "cell_type": "code",
   "execution_count": 18,
   "id": "royal-transaction",
   "metadata": {
    "ExecuteTime": {
     "end_time": "2021-08-22T17:33:45.909063Z",
     "start_time": "2021-08-22T17:33:45.891275Z"
    },
    "slideshow": {
     "slide_type": "subslide"
    }
   },
   "outputs": [],
   "source": [
    "# Code"
   ]
  },
  {
   "cell_type": "markdown",
   "id": "disciplinary-belarus",
   "metadata": {
    "slideshow": {
     "slide_type": "slide"
    }
   },
   "source": [
    "# Difference between Modules and Packages"
   ]
  },
  {
   "cell_type": "markdown",
   "id": "international-canon",
   "metadata": {
    "slideshow": {
     "slide_type": "subslide"
    }
   },
   "source": [
    "<h6><font face= \"Helvetica\" color = #273746>MODULE: The module is a simple Python file that contains collections of functions and global variables and with having a .py extension file</font></h6>\n",
    "<h6><font face= \"Helvetica\" color = #6a1b9a>PACKAGE: The package is a simple directory having collections of modules. This directory contains Python modules and also having __init__.py file by which the interpreter interprets it as a Package. The package is simply a namespace. The package also contains sub-packages inside it.</font></h6>\n"
   ]
  },
  {
   "cell_type": "code",
   "execution_count": 29,
   "id": "moved-resort",
   "metadata": {
    "slideshow": {
     "slide_type": "subslide"
    }
   },
   "outputs": [],
   "source": [
    "# Code"
   ]
  }
 ],
 "metadata": {
  "celltoolbar": "Slideshow",
  "hide_input": false,
  "kernelspec": {
   "display_name": "Python 3 (ipykernel)",
   "language": "python",
   "name": "python3"
  },
  "language_info": {
   "codemirror_mode": {
    "name": "ipython",
    "version": 3
   },
   "file_extension": ".py",
   "mimetype": "text/x-python",
   "name": "python",
   "nbconvert_exporter": "python",
   "pygments_lexer": "ipython3",
   "version": "3.9.5"
  },
  "toc": {
   "base_numbering": 1,
   "nav_menu": {},
   "number_sections": true,
   "sideBar": true,
   "skip_h1_title": false,
   "title_cell": "Table of Contents",
   "title_sidebar": "Contents",
   "toc_cell": false,
   "toc_position": {
    "height": "calc(100% - 180px)",
    "left": "10px",
    "top": "150px",
    "width": "164.994px"
   },
   "toc_section_display": true,
   "toc_window_display": false
  },
  "varInspector": {
   "cols": {
    "lenName": 16,
    "lenType": 16,
    "lenVar": 40
   },
   "kernels_config": {
    "python": {
     "delete_cmd_postfix": "",
     "delete_cmd_prefix": "del ",
     "library": "var_list.py",
     "varRefreshCmd": "print(var_dic_list())"
    },
    "r": {
     "delete_cmd_postfix": ") ",
     "delete_cmd_prefix": "rm(",
     "library": "var_list.r",
     "varRefreshCmd": "cat(var_dic_list()) "
    }
   },
   "types_to_exclude": [
    "module",
    "function",
    "builtin_function_or_method",
    "instance",
    "_Feature"
   ],
   "window_display": false
  }
 },
 "nbformat": 4,
 "nbformat_minor": 5
}
